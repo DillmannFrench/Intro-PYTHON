{
 "cells": [
  {
   "cell_type": "markdown",
   "metadata": {
    "nbpresent": {
     "id": "0bd44abb-b91f-4d28-ae0f-ee89e8bfcc3b"
    }
   },
   "source": [
    "# Types of Knowledge\n",
    "\n",
    " ## 1) *Declarative Knowledge* : the statements of fact.\n",
    " ## 2) *Imperative Knowledge* : recipies that can be applied to solve a problem.\n"
   ]
  },
  {
   "cell_type": "markdown",
   "metadata": {
    "nbpresent": {
     "id": "139e9319-ab8e-4a86-9fe2-f96ea93f7825"
    }
   },
   "source": [
    "# Declarative Knowledge (definition)\n",
    "## Any statement or affirmation, that we estimate \"as beeing desirable to be true\"\n",
    "- it can be **True**\n",
    "- it can be **False**"
   ]
  },
  {
   "cell_type": "markdown",
   "metadata": {
    "nbpresent": {
     "id": "5f739b0e-0c68-4605-8e6c-207fbc2752fd"
    }
   },
   "source": [
    "\n",
    "...The Answer to the Ultimate Question of Life, The Universe, and Everything:\n",
    "\n",
    "[42](https://en.wikipedia.org/wiki/Phrases_from_The_Hitchhiker%27s_Guide_to_the_Galaxy#Answer_to_the_Ultimate_Question_of_Life.2C_the_Universe.2C_and_Everything_.2842.29)"
   ]
  },
  {
   "cell_type": "code",
   "execution_count": 1,
   "metadata": {
    "collapsed": false,
    "nbpresent": {
     "id": "6ce6f2f8-4882-45f8-b158-010f75c62d47"
    }
   },
   "outputs": [
    {
     "name": "stdout",
     "output_type": "stream",
     "text": [
      "Do Algorithmics !\n"
     ]
    }
   ],
   "source": [
    "As_soon_as_I_become_a_good_programmer_I_will_be_rich=False\n",
    "# Let us test it : \n",
    "if As_soon_as_I_become_a_good_programmer_I_will_be_rich: print(\"Then let us start programming !\")\n",
    "else: print('Do Algorithmics !')    \n"
   ]
  },
  {
   "cell_type": "markdown",
   "metadata": {
    "collapsed": true,
    "nbpresent": {
     "id": "75d8d9e7-df62-4cc4-9499-fa67c0ca3433"
    }
   },
   "source": [
    "# 1.1) Declarative Knowledge on Palindromas\n",
    "\n",
    "\n",
    " ## \"A *palindroma* is a word that can be spelled from both sides\"\n",
    " \n"
   ]
  },
  {
   "cell_type": "markdown",
   "metadata": {},
   "source": [
    "> - a palindroma is a character's string containing a chain of lenght n\n",
    " \n",
    "> - \"abc...cba\" is a palindroma\n",
    " \n",
    "> - \"aba\" is a palindroma\n",
    " \n",
    "> - any word with two identical letters is a palindroma\n",
    "\n",
    " "
   ]
  },
  {
   "cell_type": "markdown",
   "metadata": {
    "collapsed": true
   },
   "source": [
    "## 1.2) Imperative Knowledge to check that a word is a Palindroma:\n",
    "\n",
    "1. The word must be declared as a variable that alows to chain letters (string)\n",
    "2. The lenght of the string must be known using a build in function **len**\n",
    "3. The string must be readed letter by letter from both sides untill we meet \n",
    "4. Check that both letters are identical, if yes then go to (3)\n",
    "5. If both ends have been reached conclude that that word is a \"*True*\" Palindroma "
   ]
  },
  {
   "cell_type": "markdown",
   "metadata": {},
   "source": [
    "## * Pasta al dente* Cooking Recipies:\n",
    "1. Start puting hot **water** on the pot add salt\n",
    "2. When $T$ of the **water** is greater than 100$°$ Celcius put 150mg of **Pasta**\n",
    "3. Otherwise check that the water is heating up properly and wait\n",
    "4. When the Pasta is in the cooker wait until it is *** al dente ***"
   ]
  },
  {
   "cell_type": "code",
   "execution_count": 2,
   "metadata": {
    "collapsed": false
   },
   "outputs": [
    {
     "name": "stdout",
     "output_type": "stream",
     "text": [
      "ressasser\n",
      "The lenght of the word is: 9\n",
      "The first letter is: r\n",
      "The last letter: r\n"
     ]
    }
   ],
   "source": [
    "## Check if the french word \"ressasser\" is a palindroma\n",
    "# We first declare some variables\n",
    "word_to_test='ressasser'\n",
    "# We need to define the indexes in the chain of characters\n",
    "index_head=0\n",
    "index_tail=len(word_to_test)-1\n",
    "# Now we are going to print\n",
    "print(word_to_test)\n",
    "print(\"The lenght of the word is: {}\".format(len(word_to_test)))\n",
    "print(\"The first letter is: {}\".format(word_to_test[index_head]))\n",
    "print(\"The last letter: {}\".format(word_to_test[index_tail]))"
   ]
  },
  {
   "cell_type": "code",
   "execution_count": 3,
   "metadata": {
    "collapsed": false
   },
   "outputs": [
    {
     "name": "stdout",
     "output_type": "stream",
     "text": [
      "Untill now it seems a palindroma\n",
      "1\n",
      "7\n"
     ]
    }
   ],
   "source": [
    "if (word_to_test[index_head]==word_to_test[index_tail]):\n",
    "    \n",
    "    if index_head < index_tail: \n",
    "        print(\"Untill now it seems a palindroma\")\n",
    "        index_head=index_head+1\n",
    "        index_tail=index_tail-1\n",
    "        print(index_head)\n",
    "        print(index_tail)\n",
    "    else: print(\"The word '{}' is a palindroma\".format(word_to_test))\n",
    "else: print(\"The word '{}' is NOT a palindroma\".format(word_to_test))\n"
   ]
  },
  {
   "cell_type": "markdown",
   "metadata": {
    "nbpresent": {
     "id": "e3d472d8-afac-4941-9992-16518a619b01"
    }
   },
   "source": [
    "# 2.1) Declarative Knowledge on square roots\n",
    "\n",
    "\n",
    " ## \"The square root $\\displaystyle x=\\sqrt{y}$, of a number $y$ is a number $x$ such as:  \n",
    " # $\\displaystyle x \\times x = y $ \""
   ]
  },
  {
   "cell_type": "markdown",
   "metadata": {
    "nbpresent": {
     "id": "2d07ada5-2a22-4d72-b064-c348d1ea91d3"
    }
   },
   "source": [
    "# 2.2) Imperative Knowledge associated to solve square roots\n",
    "\n",
    " ## Here is a *Reciple* for deductig the square root of a number $ y $, attributed to Heron of Alexandria in the first century AD\n"
   ]
  },
  {
   "cell_type": "markdown",
   "metadata": {
    "nbpresent": {
     "id": "5f0653f6-1784-43e3-a10e-663fbf1f7628"
    }
   },
   "source": [
    "1. Start with a guess for unknown $x$ called $g$\n",
    "2. If $g \\times g$ is close enought to $y$ : stop and return $g$\n",
    "3. Otherwise make a new guess by averaging $g$ and ${y}/{g}$\n",
    "4. Using the new guess, repeat the process to point (2)"
   ]
  },
  {
   "cell_type": "code",
   "execution_count": 4,
   "metadata": {
    "collapsed": false
   },
   "outputs": [
    {
     "name": "stdout",
     "output_type": "stream",
     "text": [
      "Enter the number y, from whom you are asked to find the square root\n",
      "y = 24\n",
      "Give a first guess for x, called g\n",
      "g = 5\n",
      "End of step 1\n"
     ]
    }
   ],
   "source": [
    "# Give a number and find the first guess\n",
    "print('Enter the number y, from whom you are asked to find the square root')\n",
    "y=eval(input('y = '))\n",
    "print('Give a first guess for x, called g')\n",
    "g=eval(input('g = '))\n",
    "print(\"End of step 1\")"
   ]
  },
  {
   "cell_type": "code",
   "execution_count": 5,
   "metadata": {
    "collapsed": false
   },
   "outputs": [
    {
     "name": "stdout",
     "output_type": "stream",
     "text": [
      "(The square product of 5 is 25)\n",
      "The square of the average of the guess and y divided by guess is:\n",
      "24.010000000000005\n"
     ]
    }
   ],
   "source": [
    "print(\"(The square product of {0} is {1})\".format(g,g*g))\n",
    "print(\"The square of the average of the guess and y divided by guess is:\")\n",
    "print((0.5*(g+y/g))**2)"
   ]
  },
  {
   "cell_type": "code",
   "execution_count": 6,
   "metadata": {
    "collapsed": false
   },
   "outputs": [
    {
     "name": "stdout",
     "output_type": "stream",
     "text": [
      "How accurate is this result ?\n",
      "Well, the square of your guess is 25\n",
      "Sorry\n",
      "Try again, with, g=4.9 as new guess\n",
      "The average of the new g and y divided by this new g is:\n",
      "4.898979591836735\n"
     ]
    }
   ],
   "source": [
    "print(\"How accurate is this result ?\")\n",
    "print(\"Well, the square of your guess is {}\".format(g*g))\n",
    "if g*g == y:\n",
    "    print(\"Whoah, it is a good guess\")\n",
    "    print(\"The solution is:\")\n",
    "    print((0.5*(g+y/g)))\n",
    "else:\n",
    "    g=0.5*(g+y/g)\n",
    "    print(\"Sorry\")\n",
    "    print(\"Try again, with, g={} as new guess\".format(g))\n",
    "    print(\"The average of the new g and y divided by this new g is:\")\n",
    "    print(0.5*(g+y/g))\n"
   ]
  },
  {
   "cell_type": "markdown",
   "metadata": {
    "collapsed": true
   },
   "source": [
    "# 3) Conditional Instructions\n",
    "\n",
    "-if \n",
    "\n",
    "-else\n",
    "\n",
    "-elif\n"
   ]
  },
  {
   "cell_type": "markdown",
   "metadata": {
    "nbpresent": {
     "id": "12c58bb1-4364-402e-9a31-bf5354d9d084"
    }
   },
   "source": [
    "# 3.1) What is a bissextile year\n",
    "![wikipedia](./Figures/bissextile.png)"
   ]
  },
  {
   "cell_type": "code",
   "execution_count": 7,
   "metadata": {
    "collapsed": false
   },
   "outputs": [
    {
     "name": "stdout",
     "output_type": "stream",
     "text": [
      "Enter a number = -5\n",
      "-5 is a negative number\n"
     ]
    }
   ],
   "source": [
    "#Check a number\n",
    "nb = eval(input('Enter a number = '))\n",
    "if nb < 0:\n",
    "    print('{} is a negative number'.format(nb))\n",
    "elif nb > 0:\n",
    "    print('{} is a positive number'.format(nb))\n",
    "else:\n",
    "    print('{} is a null'.format(nb))"
   ]
  },
  {
   "cell_type": "code",
   "execution_count": 8,
   "metadata": {
    "collapsed": false,
    "nbpresent": {
     "id": "c3991cc1-8201-4b75-9b7e-ba08da0dc845"
    }
   },
   "outputs": [
    {
     "name": "stdout",
     "output_type": "stream",
     "text": [
      "Enter a year = 2021\n",
      "Year 2021 is NOT a bissextile year\n"
     ]
    }
   ],
   "source": [
    "# Leap years are back all 4 years, except secular years if these are not multiple of 400\n",
    "n = eval(input('Enter a year = '))\n",
    "if n % 4 != 0:\n",
    "    print('Year {} is NOT a bissextile year'.format(n))\n",
    "elif n % 100 != 0:\n",
    "    print('Year {} is a bissextile year'.format(n))\n",
    "elif n % 400 != 0:\n",
    "    print('Year {} is NOT a bissextile year'.format(n))\n",
    "else:\n",
    "    print('Year {} is a bissextile year'.format(n))"
   ]
  },
  {
   "cell_type": "code",
   "execution_count": 9,
   "metadata": {
    "collapsed": false
   },
   "outputs": [
    {
     "name": "stdout",
     "output_type": "stream",
     "text": [
      "Year 2021 is NOT a bissextile year\n"
     ]
    }
   ],
   "source": [
    "if ((n % 4 == 0) and (n % 100 != 0)) or (n % 400 == 0): print('Year {} is a bissextile year'.format(n))\n",
    "else: print('Year {} is NOT a bissextile year'.format(n))"
   ]
  },
  {
   "cell_type": "markdown",
   "metadata": {},
   "source": [
    "## 4) Usual operators\n",
    "Putting statements x and y in relations trough the operators is the basics of formal logic\n",
    "\n",
    "### 4.1) Comparison operators\n",
    "\n",
    "| Sign | Meaning             |\n",
    "|-----|----------------------|\n",
    "| x == y | x Is equal to y             |\n",
    "| x != y | x Is Not equal y        |\n",
    "| x > y  | x Is greater than y          |\n",
    "| x < y  | x Is smaller than y         |\n",
    "| x >= y | x Is greater or equal than y  |\n",
    "| x <= y | x Is smaller or equal than y  |\n",
    "| -x | opposite to x (when x a number)|\n",
    "| +x | positive to x (when x a number)|\n",
    "| ~x | symmetric to x (when x a number)|\n",
    "\n"
   ]
  },
  {
   "cell_type": "markdown",
   "metadata": {},
   "source": [
    "### 4.2) Logical operators\n",
    "\n",
    "\n",
    "|relation between expressions| meaning|\n",
    "|----------|--------|\n",
    "| (x) and (y)  | x and y are expressions **SIMULTANEOUSLY** both True |\n",
    "| not (x) | the negation of x is True |\n",
    "| (x) or (y) | at least x or y is True **INDEPENDENTELY** |"
   ]
  },
  {
   "cell_type": "code",
   "execution_count": 10,
   "metadata": {
    "collapsed": false
   },
   "outputs": [
    {
     "name": "stdout",
     "output_type": "stream",
     "text": [
      "-7\n"
     ]
    }
   ],
   "source": [
    "a=6\n",
    "print(~a)\n"
   ]
  },
  {
   "cell_type": "code",
   "execution_count": 11,
   "metadata": {
    "collapsed": false
   },
   "outputs": [
    {
     "data": {
      "text/plain": [
       "False"
      ]
     },
     "execution_count": 11,
     "metadata": {},
     "output_type": "execute_result"
    }
   ],
   "source": [
    "# There is an operator for defining an 'implication'\n",
    "# p implies q means that \n",
    "# p is a sufficient condition for q to be true\n",
    "# p --> q is equivalent as (not(p) or q)\n",
    "\n",
    "Je_fais_de_longues_etudes=True\n",
    "Je_deviens_bon=False\n",
    "\n",
    "# Je_fais_de_longues_etudes --> Je_deviens_bon\n",
    "# This can be writen as the following proposition :\n",
    "(not(Je_fais_de_longues_etudes) or (Je_deviens_bon))"
   ]
  },
  {
   "cell_type": "markdown",
   "metadata": {},
   "source": [
    "### 4.3) Arithmetic operators\n",
    "| Number operations |Arithmetics|\n",
    "|-----|----------------------|\n",
    "| y*x | multiplication of y times  x |\n",
    "| y/x | division of y by x (both numbers)|\n",
    "| y//x | floor division of y by x |\n",
    "| y%x | Modulus, returns the decimal part (remainder) of the quotient of y divided by x.|\n"
   ]
  },
  {
   "cell_type": "code",
   "execution_count": 12,
   "metadata": {
    "collapsed": false
   },
   "outputs": [
    {
     "name": "stdout",
     "output_type": "stream",
     "text": [
      "10\n",
      "<class 'int'>\n",
      "3\n",
      "<class 'int'>\n",
      "3\n",
      "<class 'int'>\n",
      "1\n",
      "<class 'int'>\n"
     ]
    }
   ],
   "source": [
    "a=10\n",
    "b=3\n",
    "c=a // b\n",
    "d=a % b\n",
    "print(a)\n",
    "print(type(a))\n",
    "print(b)\n",
    "print(type(b))\n",
    "print(c)\n",
    "print(type(c))\n",
    "print(d)\n",
    "print(type(d))"
   ]
  },
  {
   "cell_type": "markdown",
   "metadata": {},
   "source": [
    "### 4.4) Operations on lists and characters\n",
    "| Character operation | Signification |\n",
    "|---------------------|---------------|\n",
    "| 'y'*x | repeat 'y' x times (when y a character)|\n",
    "| x in y  | x belong to y (when y is a list)  |"
   ]
  },
  {
   "cell_type": "code",
   "execution_count": 13,
   "metadata": {
    "collapsed": false
   },
   "outputs": [
    {
     "data": {
      "text/plain": [
       "'yyy'"
      ]
     },
     "execution_count": 13,
     "metadata": {},
     "output_type": "execute_result"
    }
   ],
   "source": [
    "'y'*3"
   ]
  },
  {
   "cell_type": "code",
   "execution_count": 14,
   "metadata": {
    "collapsed": false
   },
   "outputs": [
    {
     "data": {
      "text/plain": [
       "'Je ne dois pas consulter Facebook en cours//Je ne dois pas consulter Facebook en cours//Je ne dois pas consulter Facebook en cours//Je ne dois pas consulter Facebook en cours//Je ne dois pas consulter Facebook en cours//'"
      ]
     },
     "execution_count": 14,
     "metadata": {},
     "output_type": "execute_result"
    }
   ],
   "source": [
    "a='Je ne dois pas consulter Facebook en cours' + '//'\n",
    "a*5"
   ]
  },
  {
   "cell_type": "code",
   "execution_count": 15,
   "metadata": {
    "collapsed": false
   },
   "outputs": [
    {
     "data": {
      "text/plain": [
       "True"
      ]
     },
     "execution_count": 15,
     "metadata": {},
     "output_type": "execute_result"
    }
   ],
   "source": [
    "a = 5\n",
    "b = 20\n",
    "(a < b)"
   ]
  }
 ],
 "metadata": {
  "anaconda-cloud": {},
  "kernelspec": {
   "display_name": "Python [Root]",
   "language": "python",
   "name": "Python [Root]"
  },
  "language_info": {
   "codemirror_mode": {
    "name": "ipython",
    "version": 3
   },
   "file_extension": ".py",
   "mimetype": "text/x-python",
   "name": "python",
   "nbconvert_exporter": "python",
   "pygments_lexer": "ipython3",
   "version": "3.5.1"
  },
  "nbpresent": {
   "slides": {
    "35af259b-d532-4c71-b50d-bf3d9a2add38": {
     "id": "35af259b-d532-4c71-b50d-bf3d9a2add38",
     "prev": "600bbc54-2a85-4932-8eb7-aa513319ff6f",
     "regions": {
      "df0a8f13-6284-448d-ba9e-bbfb977610c7": {
       "attrs": {
        "height": 1,
        "width": 1,
        "x": 0,
        "y": 0
       },
       "content": {
        "cell": "139e9319-ab8e-4a86-9fe2-f96ea93f7825",
        "part": "source"
       },
       "id": "df0a8f13-6284-448d-ba9e-bbfb977610c7"
      }
     }
    },
    "600bbc54-2a85-4932-8eb7-aa513319ff6f": {
     "id": "600bbc54-2a85-4932-8eb7-aa513319ff6f",
     "prev": null,
     "regions": {
      "97a09e90-8999-4d53-9cf5-3a7d435e3748": {
       "attrs": {
        "height": 0.95,
        "width": 0.9999999999999998,
        "x": 0,
        "y": 0
       },
       "content": {
        "cell": "0bd44abb-b91f-4d28-ae0f-ee89e8bfcc3b",
        "part": "source"
       },
       "id": "97a09e90-8999-4d53-9cf5-3a7d435e3748"
      }
     }
    },
    "60b6340c-b5ec-4e8e-8f50-34a82727eade": {
     "id": "60b6340c-b5ec-4e8e-8f50-34a82727eade",
     "prev": "e424a5de-c15f-46ec-becf-13b1f2cb79bb",
     "regions": {
      "7e53554d-6a7e-4b9d-9751-224a2a69af45": {
       "attrs": {
        "height": 1,
        "width": 1,
        "x": 0,
        "y": 0
       },
       "content": {
        "cell": "12c58bb1-4364-402e-9a31-bf5354d9d084",
        "part": "source"
       },
       "id": "7e53554d-6a7e-4b9d-9751-224a2a69af45"
      }
     }
    },
    "715e27ea-9590-42c2-b1f1-6deec6fd8dae": {
     "id": "715e27ea-9590-42c2-b1f1-6deec6fd8dae",
     "prev": "e36cd26a-32df-4ee1-88f7-4afa2012e30c",
     "regions": {
      "32d2a147-b903-4525-be7b-4073c474fc64": {
       "attrs": {
        "height": 1,
        "width": 1,
        "x": 0,
        "y": 0
       },
       "content": {
        "cell": "75d8d9e7-df62-4cc4-9499-fa67c0ca3433",
        "part": "source"
       },
       "id": "32d2a147-b903-4525-be7b-4073c474fc64"
      }
     }
    },
    "e36cd26a-32df-4ee1-88f7-4afa2012e30c": {
     "id": "e36cd26a-32df-4ee1-88f7-4afa2012e30c",
     "prev": "35af259b-d532-4c71-b50d-bf3d9a2add38",
     "regions": {
      "55a8a2ab-676b-42e9-a0b4-c61151d24fb7": {
       "attrs": {
        "height": 1,
        "width": 1,
        "x": 0,
        "y": 0
       },
       "content": {
        "cell": "5f739b0e-0c68-4605-8e6c-207fbc2752fd",
        "part": "source"
       },
       "id": "55a8a2ab-676b-42e9-a0b4-c61151d24fb7"
      }
     },
     "theme": "02d38149-f528-4fb7-8423-68ffdd0b8ad1"
    },
    "e424a5de-c15f-46ec-becf-13b1f2cb79bb": {
     "id": "e424a5de-c15f-46ec-becf-13b1f2cb79bb",
     "prev": "715e27ea-9590-42c2-b1f1-6deec6fd8dae",
     "regions": {
      "aba86b1a-4d06-4850-b3e4-21989586e485": {
       "attrs": {
        "height": 1,
        "width": 1,
        "x": 0,
        "y": 0
       },
       "content": {
        "cell": "e3d472d8-afac-4941-9992-16518a619b01",
        "part": "source"
       },
       "id": "aba86b1a-4d06-4850-b3e4-21989586e485"
      }
     }
    }
   },
   "themes": {
    "default": "02d38149-f528-4fb7-8423-68ffdd0b8ad1",
    "theme": {
     "02d38149-f528-4fb7-8423-68ffdd0b8ad1": {
      "backgrounds": {
       "backgroundColor": {
        "background-color": "backgroundColor",
        "id": "backgroundColor"
       }
      },
      "id": "02d38149-f528-4fb7-8423-68ffdd0b8ad1",
      "palette": {
       "backgroundColor": {
        "id": "backgroundColor",
        "rgb": [
         240,
         241,
         235
        ]
       },
       "headingColor": {
        "id": "headingColor",
        "rgb": [
         56,
         61,
         61
        ]
       },
       "linkColor": {
        "id": "linkColor",
        "rgb": [
         81,
         72,
         61
        ]
       },
       "mainColor": {
        "id": "mainColor",
        "rgb": [
         0,
         0,
         0
        ]
       }
      },
      "rules": {
       "a": {
        "color": "linkColor"
       },
       "h1": {
        "color": "headingColor",
        "font-family": "EB Garamond",
        "font-size": 7
       },
       "h2": {
        "color": "headingColor",
        "font-family": "EB Garamond",
        "font-size": 5
       },
       "h3": {
        "color": "headingColor",
        "font-family": "EB Garamond",
        "font-size": 3.75
       },
       "h4": {
        "color": "headingColor",
        "font-family": "EB Garamond",
        "font-size": 3
       },
       "h5": {
        "color": "headingColor",
        "font-family": "EB Garamond"
       },
       "h6": {
        "color": "headingColor",
        "font-family": "EB Garamond"
       },
       "h7": {
        "color": "headingColor",
        "font-family": "EB Garamond"
       },
       "li": {
        "color": "mainColor",
        "font-family": "EB Garamond",
        "font-size": 5
       },
       "p": {
        "color": "mainColor",
        "font-family": "EB Garamond",
        "font-size": 5
       }
      },
      "text-base": {
       "color": "mainColor",
       "font-family": "EB Garamond",
       "font-size": 5
      }
     }
    }
   }
  }
 },
 "nbformat": 4,
 "nbformat_minor": 0
}
