{
 "cells": [
  {
   "cell_type": "markdown",
   "metadata": {},
   "source": [
    "# Correction de l'exercice \"Jeu du Pendu\" et mise au point sur des problèmes de logique rencontrés"
   ]
  },
  {
   "cell_type": "markdown",
   "metadata": {},
   "source": [
    "# Some return back to formal logic\n",
    "> - Why indentation\n",
    "> - Exclusion principle\n",
    "> - The conditional loops\n"
   ]
  },
  {
   "cell_type": "markdown",
   "metadata": {},
   "source": [
    "## 1.1) Some indentation problems reflect a critical logical understanding\n"
   ]
  },
  {
   "cell_type": "markdown",
   "metadata": {},
   "source": [
    "~~~ Python\n",
    "def single_letter_guess(guess, word):\n",
    "    \"\"\"\n",
    "    Usage: allow us to guess the word one by one \n",
    "    Input: guess, word \n",
    "    Links: called by process_guess()\n",
    "    \"\"\"\n",
    "    global guessed_letters\n",
    "    global lives_remaining\n",
    "    if word.find(guess) == -1:\n",
    "        # letter guess was incorrect\n",
    "        lives_remaining = lives_remaining - 1\n",
    "        guessed_letters = guessed_letters + guess.lower() # Cela est FAUX\n",
    "    if all_letters_guessed(word):\n",
    "        return True # Cela semble resonnable\n",
    "        return False # Cela est totalement FAUX\n",
    "       \n",
    "\n",
    "~~~\n",
    "\n",
    "L'indentation est essentielle "
   ]
  },
  {
   "cell_type": "markdown",
   "metadata": {},
   "source": [
    "##  Correction\n",
    "~~~ Python\n",
    "def single_letter_guess(guess, word):\n",
    "        \"\"\"\n",
    "        Usage: allow us to guess the word one by one \n",
    "        Input: guess, word \n",
    "        Links: called by process_guess()\n",
    "        \"\"\"\n",
    "        global guessed_letters\n",
    "        global lives_remaining\n",
    "        if word.find(guess) == -1:\n",
    "            # letter guess was incorrect\n",
    "            lives_remaining = lives_remaining - 1\n",
    "        guessed_letters = guessed_letters + guess.lower()\n",
    "        if all_letters_guessed(word):\n",
    "            return True\n",
    "        return False\n",
    "~~~\n",
    "\n",
    "Indentation correcte"
   ]
  },
  {
   "cell_type": "markdown",
   "metadata": {},
   "source": [
    "# 2.1) The logical exclusion principle"
   ]
  },
  {
   "cell_type": "code",
   "execution_count": 40,
   "metadata": {
    "collapsed": false,
    "scrolled": true
   },
   "outputs": [
    {
     "name": "stdout",
     "output_type": "stream",
     "text": [
      "True\n"
     ]
    }
   ],
   "source": [
    "sA='toto'\n",
    "print(sA == 'toto') "
   ]
  },
  {
   "cell_type": "code",
   "execution_count": 41,
   "metadata": {
    "collapsed": false
   },
   "outputs": [
    {
     "name": "stdout",
     "output_type": "stream",
     "text": [
      "False\n"
     ]
    }
   ],
   "source": [
    "sA='toto'\n",
    "Bolean= (sA == 'toto' and sA != 'toto')\n",
    "print(Bolean)"
   ]
  },
  {
   "cell_type": "code",
   "execution_count": 43,
   "metadata": {
    "collapsed": false
   },
   "outputs": [
    {
     "data": {
      "text/plain": [
       "False"
      ]
     },
     "execution_count": 43,
     "metadata": {},
     "output_type": "execute_result"
    }
   ],
   "source": [
    "True and not True"
   ]
  },
  {
   "cell_type": "markdown",
   "metadata": {},
   "source": [
    "### 2.1.1) Tables de Vérité\n",
    "[Les Amis](https://user.oc-static.com/files/274001_275000/274983.png)\n",
    "\n",
    "\n",
    "| |les amis|les ennemis|\n",
    "|-|----|-------|\n",
    "|**de mes amis**| sont amis | sont ennemis|\n",
    "|**de mes ennemis**| sont ennemis| sont amis|\n",
    "\n",
    "    ou plus simplement\n",
    "\n",
    "| |+|-|\n",
    "|-|----|-------|\n",
    "|**+**| + | -|\n",
    "|**-**| -| +|\n",
    "\n",
    "    ou plus en electronique\n",
    "\n",
    "| |1|0|\n",
    "|-|----|-------|\n",
    "|**1**| 1 | 0|\n",
    "|**0**| 0| 1|\n",
    "\n",
    "    ou en logique\n",
    "\n",
    "| |True|False|\n",
    "|-|----|-------|\n",
    "|**True**| True | False|\n",
    "|**False**| False| True|    "
   ]
  },
  {
   "cell_type": "code",
   "execution_count": 43,
   "metadata": {
    "collapsed": false
   },
   "outputs": [
    {
     "name": "stdout",
     "output_type": "stream",
     "text": [
      "|  - |  - | alors |  + |"
     ]
    }
   ],
   "source": [
    "s=\"les amis de mes amis sont mes amis\"\n",
    "\n",
    "prop_1 = 'les ennemis' \n",
    "prop_2 = 'de mes ennemis' \n",
    "conclusion = 'sont mes amis' \n",
    "\n",
    "if (prop_1 in s): \n",
    "    prop_a1 = \"+\" \n",
    "else: \n",
    "    prop_a1 = \"-\"\n",
    "\n",
    "if (prop_2 in s): \n",
    "    prop_a2 = \"+\" \n",
    "else: \n",
    "    prop_a2 = \"-\"\n",
    "\n",
    "if (conclusion in s): \n",
    "    conclusion_a = \"+\" \n",
    "else: \n",
    "    conclusion_a = \"-\"\n",
    "\n",
    "\n",
    "print(\"|  \" + prop_a1 + \" |  \" + prop_a2 + \" | alors |  \" + conclusion_a +\" |\" ,end=\"\")\n"
   ]
  },
  {
   "cell_type": "markdown",
   "metadata": {},
   "source": [
    "| e1 | e2 |  ---> |  r |\n",
    "|----|----|-------|----|\n",
    "|  + |  + | alors |  + |"
   ]
  },
  {
   "cell_type": "code",
   "execution_count": 47,
   "metadata": {
    "collapsed": false
   },
   "outputs": [
    {
     "name": "stdout",
     "output_type": "stream",
     "text": [
      "Sylogisme : \n",
      "Tous les hummains sont mortels\n",
      "Or, Tous les rois sont hummains\n",
      "Donc, Tous rois sont mortels\n"
     ]
    }
   ],
   "source": [
    "sPetit = \"rois\"\n",
    "sMoyen = \"hummains\"\n",
    "sGrand = \"mortels\"\n",
    "\n",
    "\n",
    "premise_majeure = \"Tous les \"+sMoyen+\" sont \"+sGrand\n",
    "premise_mineure = \"Tous les \"+sPetit+\" sont \"+sMoyen\n",
    "conclusion = \"Tous \"+sPetit+\" sont \"+sGrand\n",
    "\n",
    "print(\"Sylogisme : \")\n",
    "print(premise_majeure)\n",
    "print('Or, ',end=\"\")\n",
    "print(premise_mineure)\n",
    "print('Donc, ',end=\"\")\n",
    "print(conclusion)\n"
   ]
  },
  {
   "cell_type": "markdown",
   "metadata": {},
   "source": [
    "### 2.1.2)  Rappel sur les règles arithmetiques"
   ]
  },
  {
   "cell_type": "markdown",
   "metadata": {},
   "source": [
    "    Rappel des précéances sur les operateurs arithmetiques\n",
    "    \n",
    "|Operateur| Exemple de calcul | Resultat |\n",
    "|---------|---------|----------|\n",
    "|Parethèses|$(1+2)*3$|  9|\n",
    "|Exponentielle| $1*2**2$ | 5 |\n",
    "|multiplication/division | $10/2+1$ | 6 |\n",
    "|addition/soustraction | $10+3-1$ | 12 |\n",
    "\n",
    "\n",
    "    Toujours de gauche à droite"
   ]
  },
  {
   "cell_type": "markdown",
   "metadata": {},
   "source": [
    "##  2.2) Les préceances des operateurs logiques\n",
    "    Précéance des operateurs de comparaison\n",
    "| Operateurs | Exemple de calcul | Résultat |\n",
    "|---------|---------|----------|\n",
    "| **+,-,... **| not 1 - 1 | 1 |\n",
    "| **==** | not 1 or 0 == 0 | 1 |\n",
    "\n",
    "\n",
    "      Précéance des operateurs logiques pour des expression boléenes\n",
    "    \n",
    "| Operateurs | Exemple de calcul | Résultat |\n",
    "|---------|---------|----------|\n",
    "| **or**  | False and False or True| True |\n",
    "| **and**  | True and False == False | True |\n",
    "| **not** x | not True or False == False | True |\n"
   ]
  },
  {
   "cell_type": "code",
   "execution_count": 42,
   "metadata": {
    "collapsed": false
   },
   "outputs": [
    {
     "data": {
      "text/plain": [
       "True"
      ]
     },
     "execution_count": 42,
     "metadata": {},
     "output_type": "execute_result"
    }
   ],
   "source": [
    "not True or False == False"
   ]
  },
  {
   "cell_type": "code",
   "execution_count": 32,
   "metadata": {
    "collapsed": false
   },
   "outputs": [
    {
     "data": {
      "text/plain": [
       "True"
      ]
     },
     "execution_count": 32,
     "metadata": {},
     "output_type": "execute_result"
    }
   ],
   "source": [
    "True and False == False"
   ]
  },
  {
   "cell_type": "code",
   "execution_count": 12,
   "metadata": {
    "collapsed": false
   },
   "outputs": [
    {
     "data": {
      "text/plain": [
       "True"
      ]
     },
     "execution_count": 12,
     "metadata": {},
     "output_type": "execute_result"
    }
   ],
   "source": [
    "True == False or True"
   ]
  },
  {
   "cell_type": "code",
   "execution_count": 19,
   "metadata": {
    "collapsed": false
   },
   "outputs": [
    {
     "data": {
      "text/plain": [
       "True"
      ]
     },
     "execution_count": 19,
     "metadata": {},
     "output_type": "execute_result"
    }
   ],
   "source": [
    "not 1 - 1 "
   ]
  },
  {
   "cell_type": "code",
   "execution_count": 40,
   "metadata": {
    "collapsed": false
   },
   "outputs": [
    {
     "data": {
      "text/plain": [
       "True"
      ]
     },
     "execution_count": 40,
     "metadata": {},
     "output_type": "execute_result"
    }
   ],
   "source": [
    "False and False or True"
   ]
  },
  {
   "cell_type": "code",
   "execution_count": 9,
   "metadata": {
    "collapsed": false
   },
   "outputs": [
    {
     "name": "stdout",
     "output_type": "stream",
     "text": [
      "No\n"
     ]
    }
   ],
   "source": [
    "x = 4\n",
    "y = 2\n",
    "if not 1 + 1 == y or 7 == 8 and x == 4:\n",
    "#if  x == 4 or 7 == 8 and not 1 + 1 == y:\n",
    "# les operateurs logiques se lisent de gauch à droite   \n",
    "    print(\"Yes\")\n",
    "elif x > y:\n",
    "    print(\"No\")"
   ]
  },
  {
   "cell_type": "markdown",
   "metadata": {},
   "source": [
    "# 3) Conditional loops"
   ]
  },
  {
   "cell_type": "markdown",
   "metadata": {},
   "source": [
    "## 3.1) Conditions that will never be used for logic reasons (logic of dead code)"
   ]
  },
  {
   "cell_type": "code",
   "execution_count": 1,
   "metadata": {
    "collapsed": false
   },
   "outputs": [
    {
     "name": "stdout",
     "output_type": "stream",
     "text": [
      "1 Apples , Is it the right package ? :  False\n",
      "2 Apples , Is it the right package ? :  False\n",
      "3 Apples , Is it the right package ? :  False\n",
      "4 Apples , Is it the right package ? :  False\n",
      "5 Bananas , Is it the right package ? :  False\n",
      "6 Bananas , Is it the right package ? :  False\n",
      "7 Bananas , Is it the right package ? :  False\n",
      "8 Bananas , Is it the right package ? :  False\n",
      "9 Apples , Is it the right package ? :  False\n",
      "10 Apples , Is it the right package ? :  False\n",
      "11 Apples , Is it the right package ? :  True\n",
      "12 Apples , Is it the right package ? :  False\n",
      "13 Apples , Is it the right package ? :  False\n",
      "14 Apples , Is it the right package ? :  False\n"
     ]
    }
   ],
   "source": [
    "sA = range(1,15)\n",
    "for i in range(0,len(sA)):\n",
    "    #the Blueberry is hidden in the box whose numner equals 11\n",
    "    if i > 3 and i < 8 : #Boxes 4, 5, 6, 7 contain potatores\n",
    "         print(sA[i],end=\" Bananas \")\n",
    "            \n",
    "    elif i < len(sA):\n",
    "        print(sA[i],end=\" Apples \") # This condition prevails by order to the following  \n",
    "        \n",
    "    elif i == 1:\n",
    "        print(sA[i],end=\" Blueberry \") # This code will never used\n",
    "        \n",
    "    else:\n",
    "        print(sA[i],end=\" Raspberry \")# This code will never used \n",
    "      \n",
    "        \n",
    "    print(\", Is it the right package ? :  {}\".format( i == 11-1)) # Prints false exept for 11"
   ]
  },
  {
   "cell_type": "markdown",
   "metadata": {
    "collapsed": false
   },
   "source": [
    "La commande qui suit **if** est executée si et seulement si la condition  **True** est valable une seulle et unique fois, par conscéquent et elle ne sera jamais executée si elle est **False**, ou si l'on à executé une boucle sur une variable qui a parcouru toute une liste"
   ]
  }
 ],
 "metadata": {
  "anaconda-cloud": {},
  "kernelspec": {
   "display_name": "Python [Root]",
   "language": "python",
   "name": "Python [Root]"
  },
  "language_info": {
   "codemirror_mode": {
    "name": "ipython",
    "version": 3
   },
   "file_extension": ".py",
   "mimetype": "text/x-python",
   "name": "python",
   "nbconvert_exporter": "python",
   "pygments_lexer": "ipython3",
   "version": "3.5.1"
  }
 },
 "nbformat": 4,
 "nbformat_minor": 0
}
