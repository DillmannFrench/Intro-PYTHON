{
 "cells": [
  {
   "cell_type": "markdown",
   "metadata": {},
   "source": [
    "\n",
    "# I)  Identité et Egalité, sur des chaines caractères et les listes\n"
   ]
  },
  {
   "cell_type": "markdown",
   "metadata": {},
   "source": [
    "Ce cours TP porte sur les chaînes de caractère. Ce type est designé sous le nom de **str** dans python\n",
    "De façon générale, a ceci près qu'un **str** est in objet *immuable*, les **str** se comportent comme une  **list**  dont les éléments sont les caractères,\n",
    "\n",
    "Ainsi, les deux codes suivants affichent la même chose :"
   ]
  },
  {
   "cell_type": "code",
   "execution_count": 1,
   "metadata": {
    "collapsed": false
   },
   "outputs": [
    {
     "name": "stdout",
     "output_type": "stream",
     "text": [
      "c\n",
      "h\n",
      "a\n",
      "t\n"
     ]
    }
   ],
   "source": [
    "for it in \"chat\":\n",
    "    print(it)"
   ]
  },
  {
   "cell_type": "code",
   "execution_count": 2,
   "metadata": {
    "collapsed": false
   },
   "outputs": [
    {
     "name": "stdout",
     "output_type": "stream",
     "text": [
      "c\n",
      "h\n",
      "a\n",
      "t\n"
     ]
    }
   ],
   "source": [
    "for it in [\"c\",\"h\",\"a\",\"t\"]:\n",
    "    print(it)"
   ]
  },
  {
   "cell_type": "code",
   "execution_count": 3,
   "metadata": {
    "collapsed": false
   },
   "outputs": [
    {
     "data": {
      "text/plain": [
       "'chat chien'"
      ]
     },
     "execution_count": 3,
     "metadata": {},
     "output_type": "execute_result"
    }
   ],
   "source": [
    "\"chat\" + \" chien\""
   ]
  },
  {
   "cell_type": "code",
   "execution_count": 4,
   "metadata": {
    "collapsed": false
   },
   "outputs": [
    {
     "data": {
      "text/plain": [
       "'a'"
      ]
     },
     "execution_count": 4,
     "metadata": {},
     "output_type": "execute_result"
    }
   ],
   "source": [
    "\"chat\"[2]"
   ]
  },
  {
   "cell_type": "markdown",
   "metadata": {},
   "source": [
    "C'est un exemple de généricité, python possède un certain nombre d'opérations communes aux ensembles, quelque soit la nature de cet ensemble (une string est un ensemble de caractère, une liste est un ensemble d'éléments quelconques).\n",
    "\n",
    "Les opérations en commun sont les suivantes :\n",
    ">- addition\n",
    ">- multiplication\n",
    ">- boucle for\n",
    ">- fonction len( ... )\n",
    ">- accès aux éléments par indice\n",
    ">- accès à un sous-ensemble par indice (revision prévue en TD aujourd'hui)\n",
    "    \n",
    "La principale différence est que les chaînes de caractères ne sont pas modifiables ! On ne peut donc PAS effectuer les opérations suivantes :\n",
    "    - suppression d'un élément (del liste[i])\n",
    "    - assignation à un élément (liste[i] = ...)\n",
    "    - ajout d'un élément (append pour une liste)\n",
    "    \n",
    "## 1. Différence entre identité et égalité\n",
    "\n",
    "Il y a ici une notion très importante en informatique, celle de différencier la variable et sa valeur.\n",
    "Cette notion est particulièrement importante pour les listes, car on peut choisir de modifier l'un ou l'autre.\n",
    "Il faut également distinguer **identité** et **égalité**\n",
    "\n",
    "Deux variables sont identiques si elles pointent vers la même valeur.\n",
    "Deux variables sont égales si leur valeurs sont égales.\n",
    "Deux variables identiques sont forcément égales.\n",
    "\n",
    "Dans les deux exemples ci-dessous, dans le premier les deux variables liste_a et liste_b sont identiques et égales, dans le deuxième seulement égales.\n",
    "\n",
    "On peut savoir si deux variables sont identiques en utilisant la fonction **id** ou avec l'opérateur **is**"
   ]
  },
  {
   "cell_type": "code",
   "execution_count": 5,
   "metadata": {
    "collapsed": false
   },
   "outputs": [
    {
     "name": "stdout",
     "output_type": "stream",
     "text": [
      "liste_a [1, 2, 3] 3054954636\n",
      "liste_b [1, 2, 3] 3054954636\n",
      "liste_a == liste_b =>  True\n",
      "liste_a is liste_b =>  True\n"
     ]
    }
   ],
   "source": [
    "liste_a = [1,2,3]\n",
    "liste_b = liste_a\n",
    "print( \"liste_a\", liste_a, id(liste_a) )\n",
    "print( \"liste_b\", liste_b, id(liste_b) )\n",
    "print( \"liste_a == liste_b => \", liste_a == liste_b )\n",
    "print( \"liste_a is liste_b => \", liste_a is liste_b )"
   ]
  },
  {
   "cell_type": "code",
   "execution_count": 6,
   "metadata": {
    "collapsed": false
   },
   "outputs": [
    {
     "name": "stdout",
     "output_type": "stream",
     "text": [
      "liste_a [1, 2, 3] 3018568716\n",
      "liste_b [1, 2, 3] 3054972364\n",
      "liste_a == liste_b =>  True\n",
      "liste_a is liste_b =>  False\n"
     ]
    }
   ],
   "source": [
    "liste_a = [1,2,3]\n",
    "liste_b = [1,2,3]\n",
    "print( \"liste_a\", liste_a, id(liste_a) )\n",
    "print( \"liste_b\", liste_b, id(liste_b) )\n",
    "print( \"liste_a == liste_b => \", liste_a == liste_b )\n",
    "print( \"liste_a is liste_b => \", liste_a is liste_b )"
   ]
  },
  {
   "cell_type": "markdown",
   "metadata": {},
   "source": [
    "La différence est importante lorsque l'on modifie la valeur d'une des deux variables, on modifie les deux.\n",
    "Il faut ici aussi distinguer lorsque l'on modifie une variable ou lorsque l'on modifie sa valeur.\n",
    "\n",
    "**liste_a.append(4)** modifie la valeur de la variable, celle-ci désigne toujours la même liste, mais celle-ci possède un élément en plus\n",
    "**liste_a = liste_a + [4]** modifie la variable, mais pas sa valeur précédente. Elle créé une nouvelle liste, issue de la concaténation de deux listes, et assigne cette valeur à **liste_a**\n",
    "\n",
    "Dans les 4 cas suivants, on ajoute à chaque fois un élément à **a**, mais une fois sur deux en modifiant la variable et l'autre en modifiant sa valeur, et on distingue si liste_a et liste_b sont identiques ou seulement égales."
   ]
  },
  {
   "cell_type": "code",
   "execution_count": 7,
   "metadata": {
    "collapsed": false
   },
   "outputs": [
    {
     "name": "stdout",
     "output_type": "stream",
     "text": [
      "liste_a [1, 2, 3] 3054966412\n",
      "liste_b [1, 2, 3] 3054966412\n",
      "liste_a [1, 2, 3, 4] 3054966412\n",
      "liste_b [1, 2, 3, 4] 3054966412\n"
     ]
    }
   ],
   "source": [
    "liste_a = [1,2,3]\n",
    "liste_b = liste_a\n",
    "print( \"liste_a\", liste_a, id(liste_a) )\n",
    "print( \"liste_b\", liste_b, id(liste_b) )\n",
    "liste_a.append( 4 )\n",
    "print( \"liste_a\", liste_a, id(liste_a) )\n",
    "print( \"liste_b\", liste_b, id(liste_b) )"
   ]
  },
  {
   "cell_type": "code",
   "execution_count": 8,
   "metadata": {
    "collapsed": false
   },
   "outputs": [
    {
     "name": "stdout",
     "output_type": "stream",
     "text": [
      "liste_a [1, 2, 3] 3018571372\n",
      "liste_b [1, 2, 3] 3018571372\n",
      "liste_a [1, 2, 3, 4] 3054969804\n",
      "liste_b [1, 2, 3] 3018571372\n"
     ]
    }
   ],
   "source": [
    "liste_a = [1,2,3]\n",
    "liste_b = liste_a\n",
    "print( \"liste_a\", liste_a, id(liste_a) )\n",
    "print( \"liste_b\", liste_b, id(liste_b) )\n",
    "liste_a = liste_a + [ 4 ]\n",
    "print( \"liste_a\", liste_a, id(liste_a) )\n",
    "print( \"liste_b\", liste_b, id(liste_b) )"
   ]
  },
  {
   "cell_type": "code",
   "execution_count": 9,
   "metadata": {
    "collapsed": false
   },
   "outputs": [
    {
     "name": "stdout",
     "output_type": "stream",
     "text": [
      "liste_a [1, 2, 3] 3018570220\n",
      "liste_b [1, 2, 3] 3018569772\n",
      "liste_a [1, 2, 3, 4] 3018570220\n",
      "liste_b [1, 2, 3] 3018569772\n"
     ]
    }
   ],
   "source": [
    "liste_a = [1,2,3]\n",
    "liste_b = [1,2,3]\n",
    "print( \"liste_a\", liste_a, id(liste_a) )\n",
    "print( \"liste_b\", liste_b, id(liste_b) )\n",
    "liste_a.append( 4 )\n",
    "print( \"liste_a\", liste_a, id(liste_a) )\n",
    "print( \"liste_b\", liste_b, id(liste_b) )"
   ]
  },
  {
   "cell_type": "code",
   "execution_count": 10,
   "metadata": {
    "collapsed": false
   },
   "outputs": [
    {
     "name": "stdout",
     "output_type": "stream",
     "text": [
      "liste_a [1, 2, 3] 3054969932\n",
      "liste_b [1, 2, 3] 3018571276\n",
      "liste_a [1, 2, 3, 4] 3054972364\n",
      "liste_b [1, 2, 3] 3018571276\n"
     ]
    }
   ],
   "source": [
    "liste_a = [1,2,3]\n",
    "liste_b = [1,2,3]\n",
    "print( \"liste_a\", liste_a, id(liste_a) )\n",
    "print( \"liste_b\", liste_b, id(liste_b) )\n",
    "liste_a = liste_a + [ 4 ]\n",
    "print( \"liste_a\", liste_a, id(liste_a) )\n",
    "print( \"liste_b\", liste_b, id(liste_b) )"
   ]
  },
  {
   "cell_type": "markdown",
   "metadata": {},
   "source": [
    "Dans le cas des chaînes de caractère, la différence entre identité et égalité est peu importante et peu significative car on ne peut pas les modifier."
   ]
  },
  {
   "cell_type": "markdown",
   "metadata": {},
   "source": [
    "## 2. Délimiteurs des chaînes de caractères\n",
    "\n",
    "En python, il existe trois façons de créer des chaines de caractères :"
   ]
  },
  {
   "cell_type": "code",
   "execution_count": 11,
   "metadata": {
    "collapsed": false
   },
   "outputs": [
    {
     "name": "stdout",
     "output_type": "stream",
     "text": [
      "chaine_1 : Hello world\n",
      "chaine_2 : Hello world\n",
      "chaine_3 : Hello\n",
      "\n",
      "Wolrd !\n"
     ]
    }
   ],
   "source": [
    "chaine_1 = \"Hello world\"\n",
    "chaine_2 = 'Hello world'\n",
    "chaine_3 = \"\"\"Hello\n",
    "\n",
    "Wolrd !\"\"\"\n",
    "print(\"chaine_1 :\", chaine_1)\n",
    "print(\"chaine_2 :\", chaine_2)\n",
    "print(\"chaine_3 :\", chaine_3)"
   ]
  },
  {
   "cell_type": "markdown",
   "metadata": {},
   "source": [
    "Contrairement à d'autre langages, il n'y a pas différence de nature entre ses 3 façons de faire (usuellement le séparateur \" \" est utilisé pour les chaînes de caractère, et ' ' pour les caractères).  \n",
    "Utiliser un délimiteur permet d'utiliser les autres comme caractères normaux. Le délimiteur \"\"\" permet de créer des chaînes sur plusieurs lignes, ce que nous avons vus sous le nom de **docstring**."
   ]
  },
  {
   "cell_type": "code",
   "execution_count": 12,
   "metadata": {
    "collapsed": false
   },
   "outputs": [
    {
     "name": "stdout",
     "output_type": "stream",
     "text": [
      "l'éléphant\n",
      "il a dit \"bonjour !\".\n",
      "l'éléphant a dit \"bonjour !\".\n"
     ]
    }
   ],
   "source": [
    "print(\"l'éléphant\")\n",
    "print('il a dit \"bonjour !\".')\n",
    "print(\"\"\"l'éléphant a dit \"bonjour !\".\"\"\")"
   ]
  },
  {
   "cell_type": "markdown",
   "metadata": {},
   "source": [
    "## 3. Accès aux sous-ensembles"
   ]
  },
  {
   "cell_type": "markdown",
   "metadata": {},
   "source": [
    "Cet accès se fait avec la notation [a:b]. La borne a étant incluse et la borne b excluse.  \n",
    "On peut omettre l'une ou l'autre des bornes, dans ce cas cela signifira \"depuis le début de la liste\" ou \"jusqu'à la fin de la liste\".  \n",
    "On peut utiliser des indices négatifs.  \n",
    "A noter que cette notation est \"permissive\". Il n'y a pas d'erreur si *a* ou *b* dépasse les capacités de la liste.  \n",
    "De même si la position de *a* dans la liste se situe après *b*, ou correspond à *b*, cela renverra une liste vide, sans erreur.  \n",
    "Par exemple :  "
   ]
  },
  {
   "cell_type": "code",
   "execution_count": 13,
   "metadata": {
    "collapsed": false
   },
   "outputs": [
    {
     "name": "stdout",
     "output_type": "stream",
     "text": [
      "eph\n",
      "elep\n"
     ]
    }
   ],
   "source": [
    "s = \"elephant\"\n",
    "s1 = s[2:5] ## s1 vaut \"eph\"\n",
    "print( s1 )\n",
    "\n",
    "## Pour extraire la première moitié\n",
    "print( s[:len(s)//2] )"
   ]
  },
  {
   "cell_type": "code",
   "execution_count": 14,
   "metadata": {
    "collapsed": false
   },
   "outputs": [
    {
     "name": "stdout",
     "output_type": "stream",
     "text": [
      "ele\n"
     ]
    }
   ],
   "source": [
    "s = \"elephant\"\n",
    "s1 = s[:3] ## s1 vaut \"ele\"\n",
    "print( s1 )"
   ]
  },
  {
   "cell_type": "code",
   "execution_count": 15,
   "metadata": {
    "collapsed": false
   },
   "outputs": [
    {
     "name": "stdout",
     "output_type": "stream",
     "text": [
      "ant\n"
     ]
    }
   ],
   "source": [
    "s = \"elephant\"\n",
    "s1 = s[5:] ## s1 vaut \"ant\"\n",
    "print( s1 )"
   ]
  },
  {
   "cell_type": "code",
   "execution_count": 16,
   "metadata": {
    "collapsed": false
   },
   "outputs": [
    {
     "name": "stdout",
     "output_type": "stream",
     "text": [
      "elepha\n"
     ]
    }
   ],
   "source": [
    "s = \"elephant\"\n",
    "s1 = s[:-2] ## s1 vaut \"eleph\"\n",
    "print( s1 )"
   ]
  },
  {
   "cell_type": "code",
   "execution_count": 17,
   "metadata": {
    "collapsed": false
   },
   "outputs": [
    {
     "data": {
      "text/plain": [
       "'elephant'"
      ]
     },
     "execution_count": 17,
     "metadata": {},
     "output_type": "execute_result"
    }
   ],
   "source": [
    "s = \"elephant\"\n",
    "s1 = s[-100:100] ## s1 vaut \"elephant\"\n",
    "s1"
   ]
  },
  {
   "cell_type": "code",
   "execution_count": 18,
   "metadata": {
    "collapsed": false
   },
   "outputs": [
    {
     "data": {
      "text/plain": [
       "''"
      ]
     },
     "execution_count": 18,
     "metadata": {},
     "output_type": "execute_result"
    }
   ],
   "source": [
    "s = \"elephant\"\n",
    "s1 = s[100:-100] ## s1 vaut \"\"\n",
    "s1"
   ]
  },
  {
   "cell_type": "markdown",
   "metadata": {},
   "source": [
    "Cette notation peut être utilisée pour palier l'impossibilité de modifier un élément d'une chaine de caractère. Par exemple :"
   ]
  },
  {
   "cell_type": "code",
   "execution_count": 19,
   "metadata": {
    "collapsed": false
   },
   "outputs": [
    {
     "name": "stdout",
     "output_type": "stream",
     "text": [
      "informatique\n",
      "informatique\n"
     ]
    }
   ],
   "source": [
    "# Insertion d'une lettre en position 4\n",
    "chaine_1 = \"infomatique\"\n",
    "chaine_1 = chaine_1[:4] + \"r\" + chaine_1[4:]\n",
    "print( chaine_1 )\n",
    "\n",
    "# Modification d'une lettre en position 4\n",
    "chaine_1 = \"infolmatique\"\n",
    "chaine_1 = chaine_1[:4] + \"r\" + chaine_1[5:]\n",
    "print( chaine_1 )"
   ]
  },
  {
   "cell_type": "markdown",
   "metadata": {},
   "source": [
    "# II) Quelques précisions sur les *modules*"
   ]
  },
  {
   "cell_type": "markdown",
   "metadata": {},
   "source": [
    "Au démarrage seuls les modules de la librairie standard (*The standard Library*) sont préinstallés. Un très grand nombre de modules fournis par des tiers, est stoqué dans le **Python Package Index**. On peut les installer depuis une commande en ligne (pas depuis la console python) à l'aide de diférentes procédures dont la plus polupaire est :\n",
    "\n",
    "~~~ bash\n",
    "pip install library_name\n",
    "~~~"
   ]
  },
  {
   "cell_type": "markdown",
   "metadata": {},
   "source": [
    "Parmis les modules que l'on doit absolument connaître dans ce cours nous avons vu **math**, **matplotlib**, et d'autre part **turtle**,  **ipywidgets** ou **numpy**, ainsi que **urllib.request** que nous allons voire dans cette seance sont importants, pour votre travail personnel vous pouvez vous servis de **pandas** mais on peut faire sans."
   ]
  },
  {
   "cell_type": "code",
   "execution_count": 20,
   "metadata": {
    "collapsed": false
   },
   "outputs": [
    {
     "name": "stdout",
     "output_type": "stream",
     "text": [
      "3.141592653589793\n"
     ]
    }
   ],
   "source": [
    "from math import *\n",
    "print(pi)"
   ]
  },
  {
   "cell_type": "markdown",
   "metadata": {},
   "source": [
    "Lors de l'importation de vos modules, nous avons vu au moins 3 methodes\n",
    "\n",
    "1) Importer tout le module\n",
    "\n",
    "~~~ python\n",
    "from math import *\n",
    "print(pi)\n",
    "#donnera\n",
    "3.141592653589793\n",
    "~~~\n",
    "\n",
    "2) Importer les  fonctions d'un sous-module du module et le renomer\n",
    "\n",
    "~~~ python\n",
    "import matplotlib.pyplot as plt\n",
    "plt.axes('equal')\n",
    "plt.show()\n",
    "# renvoie une fenêtre où les axes ont la même taille\n",
    "# ici \"plt\" equivaut à \"matplotlib.pyplot\"\n",
    "~~~\n",
    "\n",
    "3) Importer tout (c'est pas toujours la meilleure idée, mais on peux faire...)\n",
    "~~~ python\n",
    "import turtle\n",
    "myPen = turtle.Turtle() #permet d'ouvrir une fenêtre\n",
    "...\n",
    "turtle.TK.Scale.rowconfigure(10,0) #change le numero de lignes \n",
    "# ici a chaque fois que l'on veut demander une fonction graphique \n",
    "# on doit préciser tout le chemin pour y arriver\n",
    "~~~\n"
   ]
  },
  {
   "cell_type": "markdown",
   "metadata": {},
   "source": [
    "# III) Quelques précisions sur \"NONE\""
   ]
  },
  {
   "cell_type": "markdown",
   "metadata": {},
   "source": [
    "L'objet [None](https://docs.python.org/3/c-api/none.html?highlight=none) est utilisé pour représenter l'absence de d'une valeur. Il est semblable a **null** dans d'autres langages de programmation. \n",
    "Tout comme d'autre valeurs \"vides\", tel que 0, [], ou encore la chaine de charactères nulle \"\", is peut être traduit par le boléen **False**, si l'on fait une opération de *transtypage python*."
   ]
  },
  {
   "cell_type": "code",
   "execution_count": 21,
   "metadata": {
    "collapsed": false
   },
   "outputs": [
    {
     "data": {
      "text/plain": [
       "True"
      ]
     },
     "execution_count": 21,
     "metadata": {},
     "output_type": "execute_result"
    }
   ],
   "source": [
    "None == None"
   ]
  },
  {
   "cell_type": "code",
   "execution_count": 22,
   "metadata": {
    "collapsed": false
   },
   "outputs": [],
   "source": [
    "None"
   ]
  },
  {
   "cell_type": "code",
   "execution_count": 23,
   "metadata": {
    "collapsed": false
   },
   "outputs": [
    {
     "name": "stdout",
     "output_type": "stream",
     "text": [
      "None\n"
     ]
    }
   ],
   "source": [
    "print(None)"
   ]
  },
  {
   "cell_type": "markdown",
   "metadata": {},
   "source": [
    "Il convient de retennir que **None** est retourné par toute fonction qui ne devrait pas explicitement rendre quelque chose de particulier, par exemple:"
   ]
  },
  {
   "cell_type": "code",
   "execution_count": 24,
   "metadata": {
    "collapsed": false
   },
   "outputs": [
    {
     "name": "stdout",
     "output_type": "stream",
     "text": [
      "Salut les amis !\n",
      "None\n"
     ]
    }
   ],
   "source": [
    "def une_fonction():\n",
    "    print(\"Salut les amis !\")\n",
    "\n",
    "une_variable=une_fonction()\n",
    "print(une_variable)"
   ]
  },
  {
   "cell_type": "code",
   "execution_count": null,
   "metadata": {
    "collapsed": true
   },
   "outputs": [],
   "source": []
  }
 ],
 "metadata": {
  "anaconda-cloud": {},
  "kernelspec": {
   "display_name": "Python [Root]",
   "language": "python",
   "name": "Python [Root]"
  },
  "language_info": {
   "codemirror_mode": {
    "name": "ipython",
    "version": 3
   },
   "file_extension": ".py",
   "mimetype": "text/x-python",
   "name": "python",
   "nbconvert_exporter": "python",
   "pygments_lexer": "ipython3",
   "version": "3.5.1"
  }
 },
 "nbformat": 4,
 "nbformat_minor": 0
}
