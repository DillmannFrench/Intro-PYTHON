{
 "cells": [
  {
   "cell_type": "markdown",
   "metadata": {},
   "source": [
    "# Quelques précisions sur les listes"
   ]
  },
  {
   "cell_type": "markdown",
   "metadata": {},
   "source": [
    "Ce qui fait la flexibilité de Python c'est son typage dynamique\n",
    "https://docs.python.org/3.5/tutorial/datastructures.html"
   ]
  },
  {
   "cell_type": "markdown",
   "metadata": {},
   "source": [
    "## Typage Dynamique\n",
    "\n",
    "Le typage d'une variable consiste à associer à sa variable symbolique un « type » de donnée, permet à l'ordinateur de savoir si celle-ci est de type numérique, textuel, etc, d'allouer en conséquence des zones de mémoire de dimension suffisantes pour stocker cette donnée, et éventuellement de vérifier que les manipulations programmées sur cette variable (opérations mathématiques, traitement de texte, etc.) sont cohérentes avec son type.\n",
    "\n",
    "Le typage dynamique consiste à laisser l'ordinateur réaliser cette opération de typage *« à la volée »*, lors de l'exécution du code, et donc de décharger le programmeur de la tâche contraignante de déclarer expressément, pour chaque variable qu'il introduit dans son code, son typage.\n"
   ]
  },
  {
   "cell_type": "code",
   "execution_count": 1,
   "metadata": {
    "collapsed": false
   },
   "outputs": [
    {
     "name": "stdout",
     "output_type": "stream",
     "text": [
      "la valeur de a est 10, et son type est <class 'int'> \n"
     ]
    }
   ],
   "source": [
    "a=10\n",
    "print('la valeur de a est {}, et son type est {} '.format(a,type(a)))"
   ]
  },
  {
   "cell_type": "code",
   "execution_count": 2,
   "metadata": {
    "collapsed": false
   },
   "outputs": [
    {
     "name": "stdout",
     "output_type": "stream",
     "text": [
      "la valeur de a est 5.0, et son type est <class 'float'> \n"
     ]
    }
   ],
   "source": [
    "a=10/2\n",
    "print('la valeur de a est {}, et son type est {} '.format(a,type(a)))"
   ]
  },
  {
   "cell_type": "code",
   "execution_count": 3,
   "metadata": {
    "collapsed": false
   },
   "outputs": [
    {
     "name": "stdout",
     "output_type": "stream",
     "text": [
      "la valeur de a est 5, et son type est <class 'int'> \n"
     ]
    }
   ],
   "source": [
    "a=10//2\n",
    "print('la valeur de a est {}, et son type est {} '.format(a,type(a)))"
   ]
  },
  {
   "cell_type": "markdown",
   "metadata": {},
   "source": [
    "Des exemples classiques de types dynamiques sont les **list** est les **dict** qui admettent des methodes dites *\"génériques\"*."
   ]
  },
  {
   "cell_type": "markdown",
   "metadata": {},
   "source": [
    "## Généricité\n",
    "\n",
    "La programmation générique, consiste à définir des algorithmes identiques opérant sur des données de types différents. \n",
    "\n",
    "\"A programming paradigm whereby fundamental requirements on types are **abstracted** from across concrete examples of algorithms and data structures, and formalised as concepts, with generic functions implemented in terms of these concepts\" \n",
    "[Wikipedia](https://fr.wikipedia.org/wiki/G%C3%A9n%C3%A9ricit%C3%A9)"
   ]
  },
  {
   "cell_type": "code",
   "execution_count": 4,
   "metadata": {
    "collapsed": true
   },
   "outputs": [],
   "source": [
    "def Ajoute_dix(inputData):\n",
    "    if isinstance(inputData, int):\n",
    "        return inputData + 10\n",
    "    elif isinstance(inputData, str):\n",
    "        return int(inputData) + 10\n",
    "    else:\n",
    "        return 10"
   ]
  },
  {
   "cell_type": "code",
   "execution_count": 5,
   "metadata": {
    "collapsed": false
   },
   "outputs": [
    {
     "name": "stdout",
     "output_type": "stream",
     "text": [
      "Le type de a est : <class 'int'>\n",
      "En applicant la fonction Ajoute_dix à (a) on obtient : 25\n",
      "Qui est de type : <class 'int'>\n"
     ]
    }
   ],
   "source": [
    "a=15\n",
    "print(\"Le type de a est : {}\".format(type(a)))\n",
    "b=Ajoute_dix(a)\n",
    "print(\"En applicant la fonction Ajoute_dix à (a) on obtient : {}\".format(b))\n",
    "print(\"Qui est de type : {}\".format(type(b)))"
   ]
  },
  {
   "cell_type": "code",
   "execution_count": 6,
   "metadata": {
    "collapsed": false
   },
   "outputs": [
    {
     "name": "stdout",
     "output_type": "stream",
     "text": [
      "Le type de a est : <class 'str'>\n",
      "En applicant la fonction Ajoute_dix à (a) on obtient : 25\n",
      "Qui est de type : <class 'int'>\n"
     ]
    }
   ],
   "source": [
    "a='15'\n",
    "print(\"Le type de a est : {}\".format(type(a)))\n",
    "b=Ajoute_dix(a)\n",
    "print(\"En applicant la fonction Ajoute_dix à (a) on obtient : {}\".format(b))\n",
    "print(\"Qui est de type : {}\".format(type(b)))"
   ]
  },
  {
   "cell_type": "code",
   "execution_count": 7,
   "metadata": {
    "collapsed": false
   },
   "outputs": [
    {
     "name": "stdout",
     "output_type": "stream",
     "text": [
      "si on trie une liste d'entiers [3, 1, 4, 0]\n",
      "on obtient une liste triée [0, 1, 3, 4]\n"
     ]
    }
   ],
   "source": [
    "L1=[3,1,4,0]\n",
    "print(\"si on trie une liste d'entiers {}\".format(L1))\n",
    "L1.sort() #Cette methode est génerique\n",
    "print(\"on obtient une liste triée {}\".format(L1))"
   ]
  },
  {
   "cell_type": "code",
   "execution_count": 8,
   "metadata": {
    "collapsed": false
   },
   "outputs": [
    {
     "name": "stdout",
     "output_type": "stream",
     "text": [
      "si on trie une liste de char ['3', '1', '4', '0']\n",
      "on obtient une liste triée ['0', '1', '3', '4']\n"
     ]
    }
   ],
   "source": [
    "L1=['3','1','4','0']\n",
    "print(\"si on trie une liste de char {}\".format(L1))\n",
    "L1.sort() #Cette methode est génerique\n",
    "print(\"on obtient une liste triée {}\".format(L1))"
   ]
  }
 ],
 "metadata": {
  "anaconda-cloud": {},
  "kernelspec": {
   "display_name": "Python [Root]",
   "language": "python",
   "name": "Python [Root]"
  },
  "language_info": {
   "codemirror_mode": {
    "name": "ipython",
    "version": 3
   },
   "file_extension": ".py",
   "mimetype": "text/x-python",
   "name": "python",
   "nbconvert_exporter": "python",
   "pygments_lexer": "ipython3",
   "version": "3.5.1"
  }
 },
 "nbformat": 4,
 "nbformat_minor": 0
}
