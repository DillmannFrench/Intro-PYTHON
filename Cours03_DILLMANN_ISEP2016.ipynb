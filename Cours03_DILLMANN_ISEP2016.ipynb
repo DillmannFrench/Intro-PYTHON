{
 "cells": [
  {
   "cell_type": "markdown",
   "metadata": {},
   "source": [
    "# 1 Variables"
   ]
  },
  {
   "cell_type": "markdown",
   "metadata": {},
   "source": [
    "## 1.1 Qu'est ce qu'une Variable ?"
   ]
  },
  {
   "cell_type": "markdown",
   "metadata": {},
   "source": [
    "### 1.1.1 Contenu\n",
    "Le contenu d'une variable est une valeur. Il s'agit forcément d'une instance d'un objet , stockée en mémoire. Celle-ci est donc reliée à une classe. Le **type** de l'instance est le nom de la classe."
   ]
  },
  {
   "cell_type": "code",
   "execution_count": 1,
   "metadata": {
    "collapsed": false
   },
   "outputs": [
    {
     "name": "stdout",
     "output_type": "stream",
     "text": [
      "<class 'int'>\n"
     ]
    }
   ],
   "source": [
    "print(type(42))"
   ]
  },
  {
   "cell_type": "markdown",
   "metadata": {},
   "source": [
    "Suposons que l'on veux calculer l'aire d'un cercle $A=\\pi.r^2$, où $r$ est le rayon, qui peux être variable et $\\pi=3.14159$ pour simplifier."
   ]
  },
  {
   "cell_type": "code",
   "execution_count": 2,
   "metadata": {
    "collapsed": false,
    "scrolled": true
   },
   "outputs": [
    {
     "name": "stdout",
     "output_type": "stream",
     "text": [
      "L'aire du disque de rayon 11.2 m, est A=394.0810495999999 m^2\n",
      "l'adresse du rayon est 3054757520, celle de l'aire est 3054757760\n"
     ]
    }
   ],
   "source": [
    "pi=3.14159\n",
    "r=11.2\n",
    "A=pi*r**2\n",
    "\n",
    "print(\"L'aire du disque de rayon {0} m, est A={1} m^2\".format(r,A))\n",
    "print(\"l'adresse du rayon est {0}, celle de l'aire est {1}\".format(id(r),id(A)))"
   ]
  },
  {
   "cell_type": "code",
   "execution_count": 3,
   "metadata": {
    "collapsed": false
   },
   "outputs": [
    {
     "name": "stdout",
     "output_type": "stream",
     "text": [
      "L aire du disque de rayon 14.3 m, est A=642.4237391 m^2\n",
      "l'adresse du rayon est 3054757856, celle de l'aire est 3054757840\n"
     ]
    }
   ],
   "source": [
    "r=14.3\n",
    "A=pi*r**2\n",
    "######## On à changé le rayon\n",
    "print(\"L aire du disque de rayon {0} m, est A={1} m^2\".format(r,A))\n",
    "print(\"l'adresse du rayon est {0}, celle de l'aire est {1}\".format(id(r),id(A)))"
   ]
  },
  {
   "cell_type": "markdown",
   "metadata": {},
   "source": [
    "### 1.1.2 Contenant\n",
    "Le contenant n'est rien d'autre que l'association par *adressage*, d'un nom et d'un pointeur vers le contennu, soit la valeur associé à ce nom.\n",
    "L'affectation est l'opération qui permet d'associer un contenu (opérande de droite) à un contennant (opérande de gauche) et donc d'associer un nom avec un pointeur vers une valeur.\n",
    "L'unique moyen de suprimer cette association entre contennu et contennant est de supprimer m'asociation entre le nom et le pointeur."
   ]
  },
  {
   "cell_type": "code",
   "execution_count": 4,
   "metadata": {
    "collapsed": false
   },
   "outputs": [
    {
     "name": "stdout",
     "output_type": "stream",
     "text": [
      "L aire du disque de rayon 0.015 m, est A=0.0007068577499999999 m^2\n",
      "l'adresse du rayon est 3054757760, celle de l'aire est 3054757872\n"
     ]
    }
   ],
   "source": [
    "del(r)\n",
    "r=15e-3\n",
    "A=pi*r**2\n",
    "print(\"L aire du disque de rayon {0} m, est A={1} m^2\".format(r,A))\n",
    "print(\"l'adresse du rayon est {0}, celle de l'aire est {1}\".format(id(r),id(A)))"
   ]
  },
  {
   "cell_type": "markdown",
   "metadata": {},
   "source": [
    "## 1.2 Les variables on une etendue limitée\n",
    "> - Par leur place dans le programme\n",
    "> - Par leur valeur, au moment de déclarer leur contennu\n",
    "> - Par leur type, au moment de déclarer leur contennant \n",
    "> - Au moment de déclarer leur *nom* (regles strictes sur les termes réservés par Python)"
   ]
  },
  {
   "cell_type": "markdown",
   "metadata": {
    "collapsed": true
   },
   "source": [
    "### 1.2.1 Les *Keywords* ou noms réservés (30) + True, False et ...None\n",
    " \n",
    "\n",
    "> -  and \n",
    "> -  as \n",
    "> -  assert  \n",
    "> -  break \n",
    "> -  class \n",
    "> -  continue\n",
    "> -  **def**\n",
    "> -  del \n",
    "> -  elif\n",
    "> -  else \n",
    "> -  except \n",
    "> -  finally\n",
    "> -  for\n",
    "> -  from \n",
    "> -  **global**\n",
    "> -  if \n",
    "> -  import\n",
    "> -  in \n",
    "> -  is  \n",
    "> -  lambda \n",
    "> -  nonlocal \n",
    "> -  not \n",
    "> -  or\n",
    "> -  **pass**\n",
    "> -  raise\n",
    "> -  **return** \n",
    "> -  try \n",
    "> -  while \n",
    "> -  with \n",
    "> -  yield "
   ]
  },
  {
   "cell_type": "markdown",
   "metadata": {},
   "source": [
    "### 1.2.2 Modes de modification d'une variable"
   ]
  },
  {
   "cell_type": "code",
   "execution_count": 5,
   "metadata": {
    "collapsed": false
   },
   "outputs": [
    {
     "name": "stdout",
     "output_type": "stream",
     "text": [
      "le Type de la variable a est <class 'tuple'>\n",
      "Son identifiant est 3018235692\n"
     ]
    }
   ],
   "source": [
    "#Variables permetant la reafectation\n",
    "a=(1,)\n",
    "print(\"le Type de la variable a est {}\".format(type(a)))\n",
    "print(\"Son identifiant est {}\".format(id(a)))"
   ]
  },
  {
   "cell_type": "code",
   "execution_count": 6,
   "metadata": {
    "collapsed": false
   },
   "outputs": [
    {
     "name": "stdout",
     "output_type": "stream",
     "text": [
      "le Type de la variable a est <class 'tuple'>\n",
      "Son identifiant est 3054890924\n"
     ]
    }
   ],
   "source": [
    "a+=(2,)\n",
    "print(\"le Type de la variable a est {}\".format(type(a)))\n",
    "print(\"Son identifiant est {}\".format(id(a)))"
   ]
  },
  {
   "cell_type": "code",
   "execution_count": 7,
   "metadata": {
    "collapsed": false
   },
   "outputs": [
    {
     "name": "stdout",
     "output_type": "stream",
     "text": [
      "le Type de la variable a est <class 'list'>\n",
      "Son identifiant est 3054902796\n"
     ]
    }
   ],
   "source": [
    "#Variables permetant le changement de place sans réaffectation\n",
    "a=[1]\n",
    "print(\"le Type de la variable a est {}\".format(type(a)))\n",
    "print(\"Son identifiant est {}\".format(id(a)))"
   ]
  },
  {
   "cell_type": "code",
   "execution_count": 8,
   "metadata": {
    "collapsed": false
   },
   "outputs": [
    {
     "name": "stdout",
     "output_type": "stream",
     "text": [
      "le Type de la variable a est <class 'list'>\n",
      "Son identifiant est 3054902796\n"
     ]
    }
   ],
   "source": [
    "a+=[2]\n",
    "print(\"le Type de la variable a est {}\".format(type(a)))\n",
    "print(\"Son identifiant est {}\".format(id(a)))"
   ]
  },
  {
   "cell_type": "markdown",
   "metadata": {},
   "source": [
    "### 1.3 Visibilité des variables\n",
    "\n",
    "Sur une console, toute variable déclarée par une affectation dans une instruction indépendante est accessible depuis n'importe quel endroit."
   ]
  },
  {
   "cell_type": "code",
   "execution_count": 12,
   "metadata": {
    "collapsed": false
   },
   "outputs": [
    {
     "name": "stdout",
     "output_type": "stream",
     "text": [
      "Once deleted, variables cannot be recovered. Proceed (y/[n])? y\n"
     ]
    },
    {
     "data": {
      "text/plain": [
       "{'In': ['',\n",
       "  'print(type(42))',\n",
       "  'pi=3.14159\\nr=11.2\\nA=pi*r**2\\n\\nprint(\"L\\'aire du disque de rayon {0} m, est A={1} m^2\".format(r,A))\\nprint(\"l\\'adresse du rayon est {0}, celle de l\\'aire est {1}\".format(id(r),id(A)))',\n",
       "  'r=14.3\\nA=pi*r**2\\n######## On à changé le rayon\\nprint(\"L aire du disque de rayon {0} m, est A={1} m^2\".format(r,A))\\nprint(\"l\\'adresse du rayon est {0}, celle de l\\'aire est {1}\".format(id(r),id(A)))',\n",
       "  'del(r)\\nr=15e-3\\nA=pi*r**2\\nprint(\"L aire du disque de rayon {0} m, est A={1} m^2\".format(r,A))\\nprint(\"l\\'adresse du rayon est {0}, celle de l\\'aire est {1}\".format(id(r),id(A)))',\n",
       "  '#Variables permetant la reafectation\\na=(1,)\\nprint(\"le Type de la variable a est {}\".format(type(a)))\\nprint(\"Son identifiant est {}\".format(id(a)))',\n",
       "  'a+=(2,)\\nprint(\"le Type de la variable a est {}\".format(type(a)))\\nprint(\"Son identifiant est {}\".format(id(a)))',\n",
       "  '#Variables permetant le changement de place sans réaffectation\\na=[1]\\nprint(\"le Type de la variable a est {}\".format(type(a)))\\nprint(\"Son identifiant est {}\".format(id(a)))',\n",
       "  'a+=[2]\\nprint(\"le Type de la variable a est {}\".format(type(a)))\\nprint(\"Son identifiant est {}\".format(id(a)))',\n",
       "  \"# Ici on relance le Kernel, ce qui néttoie toute affectation\\n\\nget_ipython().magic('reset')\\n\\nMy_Variable_Number=42\\nglobals()\",\n",
       "  \"# Ici on relance le Kernel, ce qui néttoie toute affectation\\n\\nget_ipython().magic('reset')\\n\\nMy_Variable_Number=42\\nglobals()\",\n",
       "  \"# Ici on relance le Kernel, ce qui néttoie toute affectation\\n\\nget_ipython().magic('reset')\\n\\nMy_Variable_Number=42\\nglobals()\",\n",
       "  \"# Ici on relance le Kernel, ce qui néttoie toute affectation\\n\\nget_ipython().magic('reset')\\n\\nMy_Variable_Number=42\\nglobals()\"],\n",
       " 'My_Variable_Number': 42,\n",
       " 'Out': {},\n",
       " '__builtin__': <module 'builtins' (built-in)>,\n",
       " '__builtins__': <module 'builtins' (built-in)>,\n",
       " '__name__': '__main__',\n",
       " '_dh': ['/home/budu/ISEP/JUPYTHER_NOTEBOOKS-2016'],\n",
       " '_ih': ['',\n",
       "  'print(type(42))',\n",
       "  'pi=3.14159\\nr=11.2\\nA=pi*r**2\\n\\nprint(\"L\\'aire du disque de rayon {0} m, est A={1} m^2\".format(r,A))\\nprint(\"l\\'adresse du rayon est {0}, celle de l\\'aire est {1}\".format(id(r),id(A)))',\n",
       "  'r=14.3\\nA=pi*r**2\\n######## On à changé le rayon\\nprint(\"L aire du disque de rayon {0} m, est A={1} m^2\".format(r,A))\\nprint(\"l\\'adresse du rayon est {0}, celle de l\\'aire est {1}\".format(id(r),id(A)))',\n",
       "  'del(r)\\nr=15e-3\\nA=pi*r**2\\nprint(\"L aire du disque de rayon {0} m, est A={1} m^2\".format(r,A))\\nprint(\"l\\'adresse du rayon est {0}, celle de l\\'aire est {1}\".format(id(r),id(A)))',\n",
       "  '#Variables permetant la reafectation\\na=(1,)\\nprint(\"le Type de la variable a est {}\".format(type(a)))\\nprint(\"Son identifiant est {}\".format(id(a)))',\n",
       "  'a+=(2,)\\nprint(\"le Type de la variable a est {}\".format(type(a)))\\nprint(\"Son identifiant est {}\".format(id(a)))',\n",
       "  '#Variables permetant le changement de place sans réaffectation\\na=[1]\\nprint(\"le Type de la variable a est {}\".format(type(a)))\\nprint(\"Son identifiant est {}\".format(id(a)))',\n",
       "  'a+=[2]\\nprint(\"le Type de la variable a est {}\".format(type(a)))\\nprint(\"Son identifiant est {}\".format(id(a)))',\n",
       "  \"# Ici on relance le Kernel, ce qui néttoie toute affectation\\n\\nget_ipython().magic('reset')\\n\\nMy_Variable_Number=42\\nglobals()\",\n",
       "  \"# Ici on relance le Kernel, ce qui néttoie toute affectation\\n\\nget_ipython().magic('reset')\\n\\nMy_Variable_Number=42\\nglobals()\",\n",
       "  \"# Ici on relance le Kernel, ce qui néttoie toute affectation\\n\\nget_ipython().magic('reset')\\n\\nMy_Variable_Number=42\\nglobals()\",\n",
       "  \"# Ici on relance le Kernel, ce qui néttoie toute affectation\\n\\nget_ipython().magic('reset')\\n\\nMy_Variable_Number=42\\nglobals()\"],\n",
       " '_oh': {},\n",
       " '_sh': <module 'IPython.core.shadowns' from '/usr/local/bin/anaconda3/lib/python3.5/site-packages/IPython/core/shadowns.py'>,\n",
       " 'exit': <IPython.core.autocall.ZMQExitAutocall at 0xb488756c>,\n",
       " 'get_ipython': <bound method InteractiveShell.get_ipython of <ipykernel.zmqshell.ZMQInteractiveShell object at 0xb615e36c>>,\n",
       " 'quit': <IPython.core.autocall.ZMQExitAutocall at 0xb488756c>}"
      ]
     },
     "execution_count": 12,
     "metadata": {},
     "output_type": "execute_result"
    }
   ],
   "source": [
    "# Ici on relance le Kernel, ce qui néttoie toute affectation\n",
    "\n",
    "%reset\n",
    "\n",
    "My_Variable_Number=42\n",
    "globals()"
   ]
  },
  {
   "cell_type": "markdown",
   "metadata": {},
   "source": [
    "    Certains blocs introduisent un nouvel espace de nomage"
   ]
  },
  {
   "cell_type": "code",
   "execution_count": 14,
   "metadata": {
    "collapsed": false
   },
   "outputs": [
    {
     "name": "stdout",
     "output_type": "stream",
     "text": [
      "Dans la fonction la valeur de ma variable fétiche est 4200000000000000000000\n",
      "La valeur de ma variable fétiche est 42\n"
     ]
    }
   ],
   "source": [
    "# On déclare une variable\n",
    "My_Variable_Fetiche_Number=42\n",
    "# Puis on cree une fonction ou cette même variable est déclarée\n",
    "\n",
    "\n",
    "def f():\n",
    "    My_Variable_Fetiche_Number=4200000000000000000000\n",
    "    print('Dans la fonction la valeur de ma variable fétiche est {}'.format(My_Variable_Fetiche_Number))\n",
    "\n",
    "    \n",
    "# On execute la fonction\n",
    "f()\n",
    "# On veux savoir quelle est la valeur de la variable\n",
    "print('La valeur de ma variable fétiche est {}'.format(My_Variable_Fetiche_Number))"
   ]
  },
  {
   "cell_type": "markdown",
   "metadata": {},
   "source": [
    "## 2 Fonctions\n",
    "Les fonctions sont indispensables en programmation pour créer des entrées-sorties"
   ]
  },
  {
   "cell_type": "markdown",
   "metadata": {},
   "source": [
    "## 2.1 Déclaration des Fonctions\n",
    "Utilisation du mot clef **def**"
   ]
  },
  {
   "cell_type": "code",
   "execution_count": 15,
   "metadata": {
    "collapsed": false,
    "scrolled": false
   },
   "outputs": [
    {
     "name": "stdout",
     "output_type": "stream",
     "text": [
      "|  Premier | Second  |\n",
      "| - - - - | - - - - |\n",
      "|         |         |\n",
      "|         |         |\n",
      "|         |         |\n",
      "|         |         |\n",
      "|         |         |\n",
      "|         |         |\n",
      "|         |         |\n",
      "|         |         |\n"
     ]
    }
   ],
   "source": [
    "# Here a function that prints something visual\n",
    "# This function has no output variable\n",
    "\n",
    "def do_twice(f):\n",
    "    \"\"\"\n",
    "    This function has a docstring\n",
    "    It executes twice the function f\n",
    "    The program it is used by functions:\n",
    "    \n",
    "    - do_eight()\n",
    "    - print_posts()\n",
    "    - print_beams()\n",
    "\n",
    "    \"\"\"\n",
    "    f()\n",
    "    f()\n",
    "\n",
    "def do_eight(f):\n",
    "    \"\"\"\n",
    "    Usage:\n",
    "     do_eight(function)\n",
    "     It executes eight times the passed function\n",
    "    \n",
    "    Input:\n",
    "     The function f is passed as a variable\n",
    "     No global variables are passed \n",
    "    \n",
    "    Local variables\n",
    "      No local variables are needed\n",
    "    \n",
    "    Dependencies\n",
    "     The program it is used by functions:\n",
    "    \n",
    "    -print_grid()\n",
    "\n",
    "\n",
    "    \"\"\"\n",
    "    do_twice(f)\n",
    "    do_twice(f)\n",
    "    do_twice(f)\n",
    "    do_twice(f)\n",
    "    \n",
    "\n",
    "def print_beam():\n",
    "    print('| - - - -',end=\" \"),\n",
    "\n",
    "def print_post():\n",
    "    print('|        ',end=\" \"),\n",
    "\n",
    "def print_beams():\n",
    "    do_twice(print_beam)\n",
    "    print('|',end=\"\\n\")\n",
    "\n",
    "def print_posts():\n",
    "    do_twice(print_post)\n",
    "    print('|',end=\"\\n\")\n",
    "\n",
    "def print_row():\n",
    "    print_beams()\n",
    "    \n",
    "def print_grid():\n",
    "    print_row()\n",
    "    do_eight(print_posts)\n",
    "\n",
    "Titre1='Premier'\n",
    "Titre2='Second'\n",
    "print('|  '+Titre1+' | '+Titre2+'  |')    \n",
    "print_grid()"
   ]
  },
  {
   "cell_type": "markdown",
   "metadata": {},
   "source": [
    "|  Premier | Second  |\n",
    "| - - - - | - - - - |\n",
    "|         |         |\n",
    "|         |         |\n",
    "|         |         |\n",
    "|         |         |"
   ]
  },
  {
   "cell_type": "code",
   "execution_count": 2,
   "metadata": {
    "collapsed": false
   },
   "outputs": [
    {
     "name": "stdout",
     "output_type": "stream",
     "text": [
      "Help on function do_eight in module __main__:\n",
      "\n",
      "do_eight(f)\n",
      "    Usage:\n",
      "     do_eight(function)\n",
      "     It executes eight times the passed function\n",
      "    \n",
      "    Input:\n",
      "     The function f is passed as a variable\n",
      "     No global variables are passed \n",
      "    \n",
      "    Local variables\n",
      "      No local variables are needed\n",
      "    \n",
      "    Dependencies\n",
      "     The program it is used by functions:\n",
      "    \n",
      "    -print_grid()\n",
      "\n"
     ]
    }
   ],
   "source": [
    "## On appelle de 'Doctring' de la fonction do_eight\n",
    "## \n",
    "help(do_eight)"
   ]
  },
  {
   "cell_type": "code",
   "execution_count": null,
   "metadata": {
    "collapsed": false
   },
   "outputs": [],
   "source": [
    "def My_function_scare_of_n(n):\n",
    "    n *= n\n",
    "    return n\n",
    "    #print(n)\n",
    "\n",
    "n=5    \n",
    "Carre=My_function_scare_of_n(n)\n",
    "print(\"Le carré de {0} est {1}\".format(n,Carre))"
   ]
  },
  {
   "cell_type": "code",
   "execution_count": null,
   "metadata": {
    "collapsed": false
   },
   "outputs": [],
   "source": [
    "# Voici une fonction qui rend le carré de n\n",
    "\n",
    "def My_function_scare_of_n(n):\n",
    "    square = n*n  \n",
    "    return square\n",
    "\n",
    "# Je l'execute\n",
    "My_number_to_scare = 5\n",
    "print(\"le resultat de {0} au carré est {1}\"  \\\n",
    "      .format(My_number_to_scare,My_function_scare_of_n(My_number_to_scare)))"
   ]
  },
  {
   "cell_type": "markdown",
   "metadata": {},
   "source": [
    "Attention **return** est indispensable pour que cette fonction rende quelque chose"
   ]
  },
  {
   "cell_type": "code",
   "execution_count": null,
   "metadata": {
    "collapsed": true
   },
   "outputs": [],
   "source": [
    "# Voici une fonction ne rend rien mais c'est prévu\n",
    "# “Pass\" means this method has not been implemented yet, but this will be the place to do it\n",
    "def update_agent(agent):\n",
    "    s='Congratulate '+agent.upper()+' he doubles his salary'\n",
    "    return s\n",
    "\n",
    "def time_step(agents):\n",
    "    for agent in agents:\n",
    "        s=update_agent(agent)\n",
    "        print('Case of Agent {}:'.format(agent))\n",
    "        print(s) \n",
    "        #On appelle cette fonction à l'intérieur\n",
    "        #Mais pour le moment je ne sais pas \n",
    "        #ce que je vais faire avec les agents"
   ]
  },
  {
   "cell_type": "code",
   "execution_count": null,
   "metadata": {
    "collapsed": false
   },
   "outputs": [],
   "source": [
    "agents=['bob','jim','joe']\n",
    "time_step(agents)"
   ]
  },
  {
   "cell_type": "code",
   "execution_count": null,
   "metadata": {
    "collapsed": false
   },
   "outputs": [],
   "source": [
    "# Voici une fonction ne rend rien mais c'est une ERREUR DE PROGRAMMATION\n",
    "# “Pass\" means this method has not been implemented yet, but this will be the place to do it\n",
    "def My_function(self):\n",
    "    My_Variable_Fetiche_Number=4200000000\n",
    "    \n",
    "print('La valeur de ma variable fétiche est {}'.format(My_Variable_Fetiche_Number))"
   ]
  },
  {
   "cell_type": "markdown",
   "metadata": {},
   "source": [
    "## 2.2 Utilisation des fonction pour le jeu du Pendu\n"
   ]
  },
  {
   "cell_type": "code",
   "execution_count": 1,
   "metadata": {
    "collapsed": false
   },
   "outputs": [
    {
     "name": "stdout",
     "output_type": "stream",
     "text": [
      "The secret word is \"cat\" \n"
     ]
    }
   ],
   "source": [
    "import random\n",
    "\n",
    "words = ['chicken', 'dog', 'cat', 'mouse', 'frog','horse','pig']\n",
    "\n",
    "def pick_a_word():\n",
    "\tword_position = random.randint(0, len(words) - 1)\n",
    "\treturn words[word_position]\n",
    "\n",
    "word=pick_a_word()\n",
    "print('The secret word is \"{}\" '.format(word))"
   ]
  },
  {
   "cell_type": "code",
   "execution_count": null,
   "metadata": {
    "collapsed": true
   },
   "outputs": [],
   "source": [
    "lives_remaining = 14 #this will become a global variable\n",
    "guessed_letters = ''"
   ]
  },
  {
   "cell_type": "markdown",
   "metadata": {},
   "source": [
    "~~~ Python\n",
    "# Here are the first STUBS\n",
    "def get_guess(word):\n",
    "    pass\n",
    "\n",
    "def process_guess(guess, word):\n",
    "    pass\n",
    "###############################\n",
    "\n",
    "def play():\n",
    "\tword = pick_a_word()\n",
    "\twhile True:\n",
    "\t\tguess = get_guess(word)\n",
    "\t\tif process_guess(guess, word):\n",
    "\t\t\tprint('You win! Well Done!')\n",
    "\t\t\tbreak\n",
    "\t\tif lives_remaining == 0:\n",
    "\t\t\tprint('You are Hung!')\n",
    "\t\t\tprint('The word was: ' + word)\n",
    "\t\t\tbreak\n",
    "\n",
    "play()\n",
    "~~~"
   ]
  },
  {
   "cell_type": "code",
   "execution_count": 2,
   "metadata": {
    "collapsed": false
   },
   "outputs": [
    {
     "name": "stdout",
     "output_type": "stream",
     "text": [
      "You are Hung!\n",
      "The word was: mouse\n"
     ]
    }
   ],
   "source": [
    "import random\n",
    "\n",
    "words = ['chicken', 'dog', 'cat', 'mouse', 'frog']\n",
    "lives_remaining = 14\n",
    "\n",
    "############A do-always-wrong STUB\n",
    "def get_guess(word):\n",
    "\treturn 'a'\n",
    "############################\n",
    "    \n",
    "def play():\n",
    "\tword = pick_a_word()\n",
    "\twhile True:\n",
    "\t\tguess = get_guess(word)\n",
    "\t\tif process_guess(guess, word):\n",
    "\t\t\tprint('You win! Well Done!')\n",
    "\t\t\tbreak\n",
    "\t\tif lives_remaining == 0:\n",
    "\t\t\tprint('You are Hung!')\n",
    "\t\t\tprint('The word was: ' + word)\n",
    "\t\t\tbreak\n",
    "\n",
    "def pick_a_word():\n",
    "\tword_position = random.randint(0, len(words) - 1)\n",
    "\treturn words[word_position]\n",
    "\n",
    "\n",
    "def process_guess(guess, word):\n",
    "\tglobal lives_remaining\n",
    "\tlives_remaining = lives_remaining -1\n",
    "\treturn False\n",
    "\t\n",
    "play()"
   ]
  },
  {
   "cell_type": "markdown",
   "metadata": {},
   "source": [
    "~~~ Python\n",
    "###########\n",
    "def print_word_with_blanks(word):\n",
    "    pass\n",
    "###########\n",
    "\n",
    "def get_guess(word):\n",
    "\tprint_word_with_blanks(word)\n",
    "\tprint('Lives Remaining: ' + str(lives_remaining))\n",
    "\tguess = input(' Guess a letter or whole word?')\n",
    "\treturn guess\n",
    "\n",
    "get_guess(word)\n",
    "~~~"
   ]
  },
  {
   "cell_type": "code",
   "execution_count": 3,
   "metadata": {
    "collapsed": false
   },
   "outputs": [
    {
     "name": "stdout",
     "output_type": "stream",
     "text": [
      "print_word_with_blanks: not done yet\n",
      "Lives Remaining: 14\n",
      " Guess a letter or whole word?r\n",
      "print_word_with_blanks: not done yet\n",
      "Lives Remaining: 13\n",
      " Guess a letter or whole word?r\n",
      "print_word_with_blanks: not done yet\n",
      "Lives Remaining: 12\n",
      " Guess a letter or whole word?frf\n",
      "print_word_with_blanks: not done yet\n",
      "Lives Remaining: 11\n",
      " Guess a letter or whole word?crcr\n",
      "print_word_with_blanks: not done yet\n",
      "Lives Remaining: 10\n",
      " Guess a letter or whole word?frfr\n",
      "print_word_with_blanks: not done yet\n",
      "Lives Remaining: 9\n",
      " Guess a letter or whole word?crr\n",
      "print_word_with_blanks: not done yet\n",
      "Lives Remaining: 8\n",
      " Guess a letter or whole word?cec\n",
      "print_word_with_blanks: not done yet\n",
      "Lives Remaining: 7\n",
      " Guess a letter or whole word?cr\n",
      "print_word_with_blanks: not done yet\n",
      "Lives Remaining: 6\n",
      " Guess a letter or whole word?frfr\n",
      "print_word_with_blanks: not done yet\n",
      "Lives Remaining: 5\n",
      " Guess a letter or whole word?c\n",
      "print_word_with_blanks: not done yet\n",
      "Lives Remaining: 4\n",
      " Guess a letter or whole word?ss\n",
      "print_word_with_blanks: not done yet\n",
      "Lives Remaining: 3\n",
      " Guess a letter or whole word?fr\n",
      "print_word_with_blanks: not done yet\n",
      "Lives Remaining: 2\n",
      " Guess a letter or whole word?r\n",
      "print_word_with_blanks: not done yet\n",
      "Lives Remaining: 1\n",
      " Guess a letter or whole word?rf\n",
      "You are Hung!\n",
      "The word was: mouse\n"
     ]
    }
   ],
   "source": [
    "#04_06_hangman_get_guess\n",
    "\n",
    "import random\n",
    "\n",
    "words = ['chicken', 'dog', 'cat', 'mouse', 'frog']\n",
    "lives_remaining = 14\n",
    "\n",
    "def play():\n",
    "\tword = pick_a_word()\n",
    "\twhile True:\n",
    "\t\tguess = get_guess(word)\n",
    "\t\tif process_guess(guess, word):\n",
    "\t\t\tprint('You win! Well Done!')\n",
    "\t\t\tbreak\n",
    "\t\tif lives_remaining == 0:\n",
    "\t\t\tprint('You are Hung!')\n",
    "\t\t\tprint('The word was: ' + word)\n",
    "\t\t\tbreak\n",
    "\n",
    "def pick_a_word():\n",
    "\tword_position = random.randint(0, len(words) - 1)\n",
    "\treturn words[word_position]\n",
    "\t\n",
    "def get_guess(word):\n",
    "\tprint_word_with_blanks(word)\n",
    "\tprint('Lives Remaining: ' + str(lives_remaining))\n",
    "\tguess = input(' Guess a letter or whole word?')\n",
    "\treturn guess\n",
    "\n",
    "def process_guess(guess, word):\n",
    "\tglobal lives_remaining\n",
    "\tlives_remaining = lives_remaining -1\n",
    "\treturn False\n",
    "\t\n",
    "def print_word_with_blanks(word):\n",
    "\tprint('print_word_with_blanks: not done yet')\n",
    "\t\n",
    "play()"
   ]
  },
  {
   "cell_type": "code",
   "execution_count": 4,
   "metadata": {
    "collapsed": true
   },
   "outputs": [],
   "source": [
    "guessed_letters=''\n",
    "\n",
    "def print_word_with_blanks(word):\n",
    "\tdisplay_word = ''\n",
    "\tfor letter in word:\n",
    "\t\tif guessed_letters.find(letter) > -1:\n",
    "\t\t\t# letter found\n",
    "\t\t\tdisplay_word = display_word + letter\n",
    "\t\telse:\n",
    "\t\t\t# letter not found\n",
    "\t\t\tdisplay_word = display_word + '-'\n",
    "\tprint(display_word)\n"
   ]
  },
  {
   "cell_type": "markdown",
   "metadata": {},
   "source": [
    "Pour le moment *process_guess* est toujours un **stub**"
   ]
  },
  {
   "cell_type": "markdown",
   "metadata": {},
   "source": [
    "~~~ Python\n",
    "####### STUB\n",
    "def single_letter_guess(guess, word):\n",
    "    pass\n",
    "\n",
    "def whole_word_guess(guess, word):\n",
    "    pass\n",
    "############\n",
    "\n",
    "def process_guess(guess, word):\n",
    "\tif len(guess) > 1 and len(guess) == len(word):\n",
    "\t\treturn whole_word_guess(guess, word)\n",
    "\telse:\n",
    "\t\treturn single_letter_guess(guess, word)\n",
    "~~~ "
   ]
  },
  {
   "cell_type": "code",
   "execution_count": 5,
   "metadata": {
    "collapsed": false
   },
   "outputs": [
    {
     "name": "stdout",
     "output_type": "stream",
     "text": [
      "---\n",
      "Lives Remaining: 14\n",
      " Guess a letter or whole word?d\n",
      "---\n",
      "Lives Remaining: 13\n",
      " Guess a letter or whole word?r\n",
      "---\n",
      "Lives Remaining: 12\n",
      " Guess a letter or whole word?t\n",
      "--t\n",
      "Lives Remaining: 11\n",
      " Guess a letter or whole word?c\n",
      "c-t\n",
      "Lives Remaining: 10\n",
      " Guess a letter or whole word?a\n",
      "cat\n",
      "Lives Remaining: 9\n",
      " Guess a letter or whole word?e\n",
      "cat\n",
      "Lives Remaining: 8\n",
      " Guess a letter or whole word?r\n",
      "cat\n",
      "Lives Remaining: 7\n",
      " Guess a letter or whole word?t\n",
      "cat\n",
      "Lives Remaining: 6\n",
      " Guess a letter or whole word?y\n",
      "cat\n",
      "Lives Remaining: 5\n",
      " Guess a letter or whole word?v\n",
      "cat\n",
      "Lives Remaining: 4\n",
      " Guess a letter or whole word?x\n",
      "cat\n",
      "Lives Remaining: 3\n",
      " Guess a letter or whole word?r\n",
      "cat\n",
      "Lives Remaining: 2\n",
      " Guess a letter or whole word?r\n",
      "cat\n",
      "Lives Remaining: 1\n",
      " Guess a letter or whole word?t\n",
      "You are Hung!\n",
      "The word was: cat\n"
     ]
    }
   ],
   "source": [
    "#04_07_hangman_print_word\n",
    "\n",
    "import random\n",
    "\n",
    "words = ['chicken', 'dog', 'cat', 'mouse', 'frog']\n",
    "lives_remaining = 14\n",
    "guessed_letters = ''\n",
    "\n",
    "def play():\n",
    "\tword = pick_a_word()\n",
    "\twhile True:\n",
    "\t\tguess = get_guess(word)\n",
    "\t\tif process_guess(guess, word):\n",
    "\t\t\tprint('You win! Well Done!')\n",
    "\t\t\tbreak\n",
    "\t\tif lives_remaining == 0:\n",
    "\t\t\tprint('You are Hung!')\n",
    "\t\t\tprint('The word was: ' + word)\n",
    "\t\t\tbreak\n",
    "\n",
    "def pick_a_word():\n",
    "\tword_position = random.randint(0, len(words) - 1)\n",
    "\treturn words[word_position]\n",
    "\t\n",
    "def get_guess(word):\n",
    "\tprint_word_with_blanks(word)\n",
    "\tprint('Lives Remaining: ' + str(lives_remaining))\n",
    "\tguess = input(' Guess a letter or whole word?')\n",
    "\treturn guess\n",
    "\n",
    "def process_guess(guess, word):\n",
    "\tglobal lives_remaining\n",
    "\tglobal guessed_letters\n",
    "\tlives_remaining = lives_remaining - 1\n",
    "\tguessed_letters = guessed_letters + guess\n",
    "\treturn False\n",
    "\t\n",
    "def print_word_with_blanks(word):\n",
    "\tdisplay_word = ''\n",
    "\tfor letter in word:\n",
    "\t\tif guessed_letters.find(letter) > -1:\n",
    "\t\t\t# letter found\n",
    "\t\t\tdisplay_word = display_word + letter\n",
    "\t\telse:\n",
    "\t\t\t# letter not found\n",
    "\t\t\tdisplay_word = display_word + '-'\n",
    "\tprint(display_word)\n",
    "\t\n",
    "play()"
   ]
  },
  {
   "cell_type": "markdown",
   "metadata": {},
   "source": [
    "On n'a pas encore gagné... et en plus on voudrait que le joueur puisse entrer une lettre ou un mot complet...\n",
    "On va maintenat ecrire les fonction *single_letter_guess* et *whole_world_guess*"
   ]
  },
  {
   "cell_type": "code",
   "execution_count": 6,
   "metadata": {
    "collapsed": true
   },
   "outputs": [],
   "source": [
    "def whole_word_guess(guess, word):\n",
    "\tglobal lives_remaining\n",
    "\tif guess.lower() == word.lower():\n",
    "\t\treturn True\n",
    "\telse:\n",
    "\t\tlives_remaining = lives_remaining - 1\n",
    "\t\treturn False\n",
    "\n",
    "def single_letter_guess(guess, word):\n",
    "\tglobal guessed_letters\n",
    "\tglobal lives_remaining\n",
    "\tif word.find(guess) == -1:\n",
    "\t\t# letter guess was incorrect\n",
    "\t\tlives_remaining = lives_remaining - 1\n",
    "\tguessed_letters = guessed_letters + guess.lower()\n",
    "\tif all_letters_guessed(word):\n",
    "\t\treturn True\n",
    "\treturn False\n",
    "\n",
    "def all_letters_guessed(word):\n",
    "\tfor letter in word:\n",
    "\t\tif guessed_letters.find(letter.lower()) == -1:\n",
    "\t\t\treturn False\n",
    "\treturn True\n"
   ]
  },
  {
   "cell_type": "markdown",
   "metadata": {},
   "source": [
    "    Maintenant le jeu est complet"
   ]
  },
  {
   "cell_type": "code",
   "execution_count": 8,
   "metadata": {
    "collapsed": false
   },
   "outputs": [
    {
     "name": "stdout",
     "output_type": "stream",
     "text": [
      "-----\n",
      "Lives Remaining: 14\n",
      " Guess a letter or whole word?mouse\n",
      "You win! Well Done!\n",
      "|  Premier | Second  |\n",
      "| - - - - | - - - - |\n",
      "|         |         |\n",
      "|         |         |\n",
      "|         |         |\n",
      "|         |         |\n",
      "|         |         |\n",
      "|         |         |\n",
      "|         |         |\n",
      "|         |         |\n"
     ]
    }
   ],
   "source": [
    "#!/usr/bin/python\n",
    "# -*- coding: utf-8 -*-\n",
    "\"\"\"\n",
    "Created on Tue Sep 20 22:11:59 2016\n",
    "\"\"\"\n",
    "\n",
    "import random\n",
    "\n",
    "words = ['chicken', 'dog', 'cat', 'mouse', 'frog']\n",
    "lives_remaining = 14\n",
    "guessed_letters = ''\n",
    "\n",
    "\n",
    "\n",
    "def play():\n",
    "\tword = pick_a_word()\n",
    "\twhile True:\n",
    "\t\tguess = get_guess(word)\n",
    "\t\tif process_guess(guess, word):\n",
    "\t\t\tprint('You win! Well Done!')\n",
    "\t\t\tbreak\n",
    "\t\tif lives_remaining == 0:\n",
    "\t\t\tprint('You are Hung!')\n",
    "\t\t\tprint('The word was: ' + word)\n",
    "\t\t\tbreak\n",
    "\t\n",
    "def pick_a_word():\n",
    "\tword_position = random.randint(0, len(words) - 1)\n",
    "\treturn words[word_position]\n",
    "\t\n",
    "def get_guess(word):\n",
    "\tprint_word_with_blanks(word)\n",
    "\tprint('Lives Remaining: ' + str(lives_remaining))\n",
    "\tguess = input(' Guess a letter or whole word?')\n",
    "\treturn guess\n",
    "\n",
    "def print_word_with_blanks(word):\n",
    "\tdisplay_word = ''\n",
    "\tfor letter in word:\n",
    "\t\tif guessed_letters.find(letter) > -1:\n",
    "\t\t\t# letter found\n",
    "\t\t\tdisplay_word = display_word + letter\n",
    "\t\telse:\n",
    "\t\t\t# letter not found\n",
    "\t\t\tdisplay_word = display_word + '-'\n",
    "\tprint(display_word)\n",
    "\t\t\t\n",
    "def process_guess(guess, word):\n",
    "\tif len(guess) > 1 and len(guess) == len(word):\n",
    "\t\treturn whole_word_guess(guess, word)\n",
    "\telse:\n",
    "\t\treturn single_letter_guess(guess, word)\n",
    "\n",
    "\t\t\t\n",
    "def whole_word_guess(guess, word):\n",
    "\tglobal lives_remaining\n",
    "\tif guess.lower() == word.lower():\n",
    "\t\treturn True\n",
    "\telse:\n",
    "\t\tlives_remaining = lives_remaining - 1\n",
    "\t\treturn False\n",
    "\n",
    "def single_letter_guess(guess, word):\n",
    "\tglobal guessed_letters\n",
    "\tglobal lives_remaining\n",
    "\tif word.find(guess) == -1:\n",
    "\t\t# letter guess was incorrect\n",
    "\t\tlives_remaining = lives_remaining - 1\n",
    "\tguessed_letters = guessed_letters + guess.lower()\n",
    "\tif all_letters_guessed(word):\n",
    "\t\treturn True\n",
    "\treturn False\n",
    "\n",
    "def all_letters_guessed(word):\n",
    "\tfor letter in word:\n",
    "\t\tif guessed_letters.find(letter.lower()) == -1:\n",
    "\t\t\treturn False\n",
    "\treturn True\n",
    "\t\n",
    "play()\n",
    "\n",
    "# Here a function that prints something visual\n",
    "# This function has no output variable\n",
    "\n",
    "def do_twice(f):\n",
    "    \"\"\"\n",
    "    Usage: It executes twice the function f\n",
    "    Inputs: It requires a function as argument\n",
    "    Links: The program it is used by functions:\n",
    "    \n",
    "    - do_eight()\n",
    "    - print_posts()\n",
    "    - print_beams()\n",
    "\n",
    "    \"\"\"\n",
    "    f()\n",
    "    f()\n",
    "\n",
    "def do_eight(f):\n",
    "    \"\"\"\n",
    "    This function has a docstring\n",
    "    It executes eight times the function\n",
    "    \n",
    "     The program it is used by functions:\n",
    "    \n",
    "    -print_grid()\n",
    "\n",
    "\n",
    "    \"\"\"\n",
    "    do_twice(f)\n",
    "    do_twice(f)\n",
    "    do_twice(f)\n",
    "    do_twice(f)\n",
    "    \n",
    "\n",
    "def print_beam():\n",
    "    print('| - - - -',end=\" \"),\n",
    "\n",
    "def print_post():\n",
    "    print('|        ',end=\" \"),\n",
    "\n",
    "def print_beams():\n",
    "    do_twice(print_beam)\n",
    "    print('|',end=\"\\n\")\n",
    "\n",
    "def print_posts():\n",
    "    do_twice(print_post)\n",
    "    print('|',end=\"\\n\")\n",
    "\n",
    "def print_row():\n",
    "    print_beams()\n",
    "    \n",
    "def print_grid():\n",
    "    print_row()\n",
    "    do_eight(print_posts)\n",
    "\n",
    "Titre1='Premier'\n",
    "Titre2='Second'\n",
    "print('|  '+Titre1+' | '+Titre2+'  |')    \n",
    "print_grid()"
   ]
  },
  {
   "cell_type": "code",
   "execution_count": null,
   "metadata": {
    "collapsed": true
   },
   "outputs": [],
   "source": []
  }
 ],
 "metadata": {
  "anaconda-cloud": {},
  "kernelspec": {
   "display_name": "Python [Root]",
   "language": "python",
   "name": "Python [Root]"
  },
  "language_info": {
   "codemirror_mode": {
    "name": "ipython",
    "version": 3
   },
   "file_extension": ".py",
   "mimetype": "text/x-python",
   "name": "python",
   "nbconvert_exporter": "python",
   "pygments_lexer": "ipython3",
   "version": "3.5.1"
  }
 },
 "nbformat": 4,
 "nbformat_minor": 0
}
