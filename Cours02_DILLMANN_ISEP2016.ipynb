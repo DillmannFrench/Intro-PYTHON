{
 "cells": [
  {
   "cell_type": "markdown",
   "metadata": {},
   "source": [
    "# Florilège des \"Type\" de base rencontrés dans Python"
   ]
  },
  {
   "cell_type": "markdown",
   "metadata": {},
   "source": [
    "## Table of Types to be seen in this lecture\n",
    "\n",
    "> - Numbers (float and int)\n",
    "> - Chains (str)\n",
    "> - Lists\n",
    "> - Dictionnaries\n",
    "> - Tuples\n",
    "> - Files"
   ]
  },
  {
   "cell_type": "markdown",
   "metadata": {},
   "source": [
    "Integrated objects are almost always more optimized than any of the structures you may invent, so using existing object types is highly recommended."
   ]
  },
  {
   "cell_type": "markdown",
   "metadata": {},
   "source": [
    "## 1) The numbers\n",
    "\n",
    "|Name | Extension|\n",
    "|-----|----------|\n",
    "| Int | Long Integer, of illimited size |\n",
    "| Float | Floating point numbers comprised between -1e+308 and 1e+308 |\n",
    "|   | *The minimum is  2.2250738585072014e-308* |\n",
    "|   | *The maximum is  1.7976931348623157e+308* |"
   ]
  },
  {
   "cell_type": "markdown",
   "metadata": {},
   "source": [
    "    Some usual operations on numbers\n",
    "|Operation | Interpretation|\n",
    "|-----|----------|\n",
    "| a += b | a = a + b |\n",
    "| a -= b | a = a - b |\n",
    "| a *= b | a = a * b |\n",
    "| a /= b | a = a / b |"
   ]
  },
  {
   "cell_type": "markdown",
   "metadata": {},
   "source": [
    "## 1.1) Introduction to ***int*** and ***float***"
   ]
  },
  {
   "cell_type": "code",
   "execution_count": 1,
   "metadata": {
    "collapsed": false
   },
   "outputs": [
    {
     "name": "stdout",
     "output_type": "stream",
     "text": [
      "9999999999999999999999999999999999999999999999999999999999999999999999999999999999999999999999999999999999999999999999999999999999999999999999999999999999999999999999999999999999999999999999999999999999999999999999999999999999999999999999999999999999999999999999999999999999999999999999999999999999999999999999999999999999999999999999999999999999999999999999999999999999999999999999999999999999999999999999999999999999999999999999999999999999999999999999999999999999999999999999999999999999999999999999999999999999999999999999999999999\n",
      "<class 'int'>\n",
      "10000000000000000000000000000000000000000000000000000000000000000000000000000000000000000000000000000000000000000000000000000000000000000000000000000000000000000000000000000000000000000000000000000000000000000000000000000000000000000000000000000000000000000000000000000000000000000000000000000000000000000000000000000000000000000000000000000000000000000000000000000000000000000000000000000000000000000000000000000000000000000000000000000000000000000000000000000000000000000000000000000000000000000000000000000000000000000000000000000000\n",
      "<class 'int'>\n"
     ]
    }
   ],
   "source": [
    "a=9999999999999999999999999999999999999999999999999999999999999999999999999999999999999999999999999999999999999999999999999999999999999999999999999999999999999999999999999999999999999999999999999999999999999999999999999999999999999999999999999999999999999999999999999999999999999999999999999999999999999999999999999999999999999999999999999999999999999999999999999999999999999999999999999999999999999999999999999999999999999999999999999999999999999999999999999999999999999999999999999999999999999999999999999999999999999999999999999999999\n",
    "print(a)\n",
    "print(type (a))\n",
    "b=a+1\n",
    "print(b)\n",
    "print(type (a))"
   ]
  },
  {
   "cell_type": "code",
   "execution_count": 2,
   "metadata": {
    "collapsed": false
   },
   "outputs": [
    {
     "name": "stdout",
     "output_type": "stream",
     "text": [
      "1e+308\n",
      "The type of \"a\" has been changed to <class 'float'> this is called :\n",
      " \"Operator overloading\" \n"
     ]
    }
   ],
   "source": [
    "a=99999999999999999999999999999999999999999999999999999999999999999999999999999999999999999999999999999999999999999999999999999999999999999999999999999999999999999999999999999999999999999999999999999999999999999999999999999999999999999999999999999999999999999999999999999999999999999999999999999999999999999999\n",
    "a = a*2\n",
    "a = a/2\n",
    "print(a)\n",
    "print('The type of \"a\" has been changed to {} this is called :'.format(type(a)))\n",
    "print(' \"Operator overloading\" ')"
   ]
  },
  {
   "cell_type": "code",
   "execution_count": 3,
   "metadata": {
    "collapsed": false
   },
   "outputs": [
    {
     "name": "stdout",
     "output_type": "stream",
     "text": [
      "99999999999999999999999999999999999999999999999999999999999999999999999999999999999999999999999999999999999999999999999999999999999999999999999999999999999999999999999999999999999999999999999999999999999999999999999999999999999999999999999999999999999999999999999999999999999999999999999999999999999999999999\n"
     ]
    }
   ],
   "source": [
    "# Now we define b as we first defined a\n",
    "b=99999999999999999999999999999999999999999999999999999999999999999999999999999999999999999999999999999999999999999999999999999999999999999999999999999999999999999999999999999999999999999999999999999999999999999999999999999999999999999999999999999999999999999999999999999999999999999999999999999999999999999999\n",
    "print(b)"
   ]
  },
  {
   "cell_type": "code",
   "execution_count": 4,
   "metadata": {
    "collapsed": false
   },
   "outputs": [
    {
     "name": "stdout",
     "output_type": "stream",
     "text": [
      " \"a\" is equal to 1e+308\n",
      " \"b\" is equal to 99999999999999999999999999999999999999999999999999999999999999999999999999999999999999999999999999999999999999999999999999999999999999999999999999999999999999999999999999999999999999999999999999999999999999999999999999999999999999999999999999999999999999999999999999999999999999999999999999999999999999999999\n",
      "Is \"a\" the same as \"b\" ? the answer is: False\n",
      "the type of \"a\" is <class 'float'>, and of \"b\" is <class 'int'>\n"
     ]
    }
   ],
   "source": [
    "print(' \"a\" is equal to {}'.format(a))\n",
    "print(' \"b\" is equal to {}'.format(b))\n",
    "print('Is \"a\" the same as \"b\" ? the answer is: {0}'.format(a == b))\n",
    "print('the type of \"a\" is {0}, and of \"b\" is {1}'.format(type(a),type(b)))"
   ]
  },
  {
   "cell_type": "code",
   "execution_count": 5,
   "metadata": {
    "collapsed": false
   },
   "outputs": [
    {
     "name": "stdout",
     "output_type": "stream",
     "text": [
      "Dividing a long integer by 3 gives: 1e+308\n",
      "<class 'float'>\n",
      "Multyplying the result by 3 gives: 1e+308\n",
      "<class 'float'>\n"
     ]
    }
   ],
   "source": [
    "b /= 3\n",
    "print('Dividing a long integer by 3 gives: {0}'.format(a))\n",
    "print(type(a))\n",
    "b *= 3\n",
    "print('Multyplying the result by 3 gives: {0}'.format(a))\n",
    "print(type(a))"
   ]
  },
  {
   "cell_type": "code",
   "execution_count": 6,
   "metadata": {
    "collapsed": false
   },
   "outputs": [
    {
     "name": "stdout",
     "output_type": "stream",
     "text": [
      "the type of \"a\" is <class 'float'>, the type of \"b\" is <class 'float'>\n",
      "0.0\n",
      "The difference \"a\" minus \"b\" is 0.0, and its type is <class 'float'>\n"
     ]
    }
   ],
   "source": [
    "print('the type of \"a\" is {0}, the type of \"b\" is {1}'.format(type(a),type(b)))\n",
    "print(a-b)\n",
    "c = a - b\n",
    "print('The difference \"a\" minus \"b\" is {0}, and its type is {1}'.format(c,type(c)))\n"
   ]
  },
  {
   "cell_type": "code",
   "execution_count": 7,
   "metadata": {
    "collapsed": false
   },
   "outputs": [
    {
     "name": "stdout",
     "output_type": "stream",
     "text": [
      "inf\n",
      "<class 'float'>\n",
      "4356151792\n"
     ]
    }
   ],
   "source": [
    "# As we have int the lenght can be as long as one can possibly imagine\n",
    "# but it there is change of type to float this is no more possible\n",
    "#b=a\n",
    "b *= 10\n",
    "print(b)\n",
    "print(type(b))\n",
    "print(id(b))\n"
   ]
  },
  {
   "cell_type": "code",
   "execution_count": 8,
   "metadata": {
    "collapsed": false,
    "scrolled": false
   },
   "outputs": [
    {
     "data": {
      "text/plain": [
       "sys.float_info(max=1.7976931348623157e+308, max_exp=1024, max_10_exp=308, min=2.2250738585072014e-308, min_exp=-1021, min_10_exp=-307, dig=15, mant_dig=53, epsilon=2.220446049250313e-16, radix=2, rounds=1)"
      ]
     },
     "execution_count": 8,
     "metadata": {},
     "output_type": "execute_result"
    }
   ],
   "source": [
    "import sys\n",
    "sys.float_info\n"
   ]
  },
  {
   "cell_type": "markdown",
   "metadata": {},
   "source": [
    "## 1.2) The Floating Point Accuracy"
   ]
  },
  {
   "cell_type": "markdown",
   "metadata": {},
   "source": [
    "> - If\tthere\tis\tno\tinteger\t p\tsuch\tthat\tx * (2 ** p)\tis\ta\twhole\tnumber,\tthen\tinternal\trepresentation\tis\talways\tan\tapproximaMon\n",
    "> - I Suggest\tthat test\tequality\tof\tfloats\tshould not use exact comparison\n",
    "\n",
    "~~~ python\n",
    "    x == y\n",
    "    # Should be replaced by:\n",
    "\tabs(x-y) < 0.0001 # Is a precision of 1/10000 is enough\n",
    "               \n",
    "~~~\n",
    "\n",
    "> -  Why\tdoes\tprint(0.1)\treturn\t0.1, if\tnot\texact?\t(Python designers\tset\tit\tup\tthis way\tto **automatically** round)\n"
   ]
  },
  {
   "cell_type": "markdown",
   "metadata": {},
   "source": [
    "## 2) The Chain of characters (str)\n",
    "It is the way we use to store character data. The chains in Python are non-modificable  (**immutable instances** )of characters. These are sequence objects."
   ]
  },
  {
   "cell_type": "markdown",
   "metadata": {},
   "source": [
    "    Some usual operations on Chains\n",
    "|Operation | Interpretation|\n",
    "|-----|----------|\n",
    "| s1 = \"\" | Empty chain |\n",
    "| s1 = \"\\n\" | Carriage return |\n",
    "| s2 = \"This is ISEP\" | Double quote |\n",
    "| bloc = \"\"\"...\"\"\" | Triple quote is a bloc |\n",
    "| s1 + s2, s2 * 3 | Concatenation, Repetition |\n",
    "| s1[i],len(s2) | Index, Lenght |\n",
    "|s[start:end] | items start through end-1 |\n",
    "|s[start:]    | items start through the rest of the array |\n",
    "|s[:end]      | items from the beginning through end-1 |\n",
    "|s[:]         | a copy of the whole array |\n",
    "|\"a parot is %s\" % 'dead'| String formating |\n",
    "| for x in s2, \"mia\" in \"mama-mia\" | Iteration, Substring Searches |"
   ]
  },
  {
   "cell_type": "code",
   "execution_count": 9,
   "metadata": {
    "collapsed": false
   },
   "outputs": [
    {
     "name": "stdout",
     "output_type": "stream",
     "text": [
      "Hello\n",
      "World !\n"
     ]
    }
   ],
   "source": [
    "s1 = \"\\n\"\n",
    "print('Hello' + s1 + 'World !')"
   ]
  },
  {
   "cell_type": "code",
   "execution_count": 10,
   "metadata": {
    "collapsed": false
   },
   "outputs": [
    {
     "name": "stdout",
     "output_type": "stream",
     "text": [
      "a parot is dead\n"
     ]
    }
   ],
   "source": [
    "# This is the traditionnal way for formating strings\n",
    "situation=\"a parot is %s\" % 'dead' # Note that a str 'situation' has been defined\n",
    "print(situation)"
   ]
  },
  {
   "cell_type": "code",
   "execution_count": 11,
   "metadata": {
    "collapsed": false
   },
   "outputs": [
    {
     "name": "stdout",
     "output_type": "stream",
     "text": [
      "a parot is dead\n"
     ]
    }
   ],
   "source": [
    "# This is more modern and practical way, no need to declare any new str \n",
    "print('a parot is {}'.format('dead'))"
   ]
  },
  {
   "cell_type": "code",
   "execution_count": 12,
   "metadata": {
    "collapsed": false
   },
   "outputs": [
    {
     "data": {
      "text/plain": [
       "'a parot is dead'"
      ]
     },
     "execution_count": 12,
     "metadata": {},
     "output_type": "execute_result"
    }
   ],
   "source": [
    "'a parot is %s' % 'dead'"
   ]
  },
  {
   "cell_type": "code",
   "execution_count": 13,
   "metadata": {
    "collapsed": false
   },
   "outputs": [
    {
     "data": {
      "text/plain": [
       "True"
      ]
     },
     "execution_count": 13,
     "metadata": {},
     "output_type": "execute_result"
    }
   ],
   "source": [
    "\"mia\" in \"mama-mia\" "
   ]
  },
  {
   "cell_type": "code",
   "execution_count": 14,
   "metadata": {
    "collapsed": false
   },
   "outputs": [
    {
     "name": "stdout",
     "output_type": "stream",
     "text": [
      "1\n",
      "<class 'str'>\n",
      "2\n",
      "<class 'str'>\n",
      "3\n",
      "<class 'str'>\n",
      "4\n",
      "<class 'str'>\n",
      "5\n",
      "<class 'str'>\n",
      "6\n",
      "<class 'str'>\n",
      "7\n",
      "<class 'str'>\n",
      "8\n",
      "<class 'str'>\n",
      "9\n",
      "<class 'str'>\n",
      "0\n",
      "<class 'str'>\n"
     ]
    }
   ],
   "source": [
    "s2='1234'\n",
    "for x in s2:\n",
    "    print(x)\n",
    "    #x=int(x) \n",
    "    #otherwise x is stays as a string\n",
    "    print(type(x))"
   ]
  },
  {
   "cell_type": "code",
   "execution_count": 15,
   "metadata": {
    "collapsed": false
   },
   "outputs": [
    {
     "name": "stdout",
     "output_type": "stream",
     "text": [
      "1\n",
      "<class 'int'>\n",
      "2\n",
      "<class 'int'>\n",
      "3\n",
      "<class 'int'>\n",
      "4\n",
      "<class 'int'>\n",
      "5\n",
      "<class 'int'>\n",
      "6\n",
      "<class 'int'>\n",
      "7\n",
      "<class 'int'>\n",
      "8\n",
      "<class 'int'>\n",
      "9\n",
      "<class 'int'>\n",
      "10\n",
      "<class 'int'>\n"
     ]
    }
   ],
   "source": [
    "s2 = range(1,4)\n",
    "for x in s2:\n",
    "    print(x)\n",
    "    print(type(x))"
   ]
  },
  {
   "cell_type": "markdown",
   "metadata": {},
   "source": [
    "### 2.1) Indexing the chain\n",
    "\n",
    "<div class=\"highlight\"><pre> <span class=\"o\">+---+---+---+---+---+---+---+</span>\n",
    " <span class=\"o\">|</span> <span class=\"n\">S</span> <span class=\"o\">|</span> <span class=\"n\">A</span> <span class=\"o\">|</span> <span class=\"n\">U</span> <span class=\"o\">|</span> <span class=\"n\">S</span> <span class=\"o\">|</span> <span class=\"n\">A</span> <span class=\"o\">|</span> <span class=\"n\">G</span> <span class=\"o\">|</span> <span class=\"n\">E</span> <span class=\"o\">|</span>\n",
    " <span class=\"o\">+---+---+---+---+---+---+---+</span>\n",
    " <span class=\"mi\">0</span>   <span class=\"mi\">1</span>   <span class=\"mi\">2</span>   <span class=\"mi\">3</span>   <span class=\"mi\">4</span>   <span class=\"mi\">5</span>   <span class=\"mi\">6</span>   <span class=\"mi\">7</span>\n",
    "<span class=\"o\">-</span><span class=\"mi\">7</span>  <span class=\"o\">-</span><span class=\"mi\">6</span>  <span class=\"o\">-</span><span class=\"mi\">5</span>  <span class=\"o\">-</span><span class=\"mi\">4</span>  <span class=\"o\">-</span><span class=\"mi\">3</span>  <span class=\"o\">-</span><span class=\"mi\">2</span>  <span class=\"o\">-</span><span class=\"mi\">1</span>\n",
    "</pre></div>\n",
    "\n",
    "    Indexes correspond to the place to hold the sausage from left to right"
   ]
  },
  {
   "cell_type": "code",
   "execution_count": 16,
   "metadata": {
    "collapsed": false
   },
   "outputs": [
    {
     "name": "stdout",
     "output_type": "stream",
     "text": [
      "s\n",
      "e\n",
      "au\n",
      "ausage\n",
      "sausag\n"
     ]
    }
   ],
   "source": [
    "s='sausage'\n",
    "# Indexing\n",
    "#First element\n",
    "print(s[0])\n",
    "#Last element, same as s[len(s)-1]\n",
    "print(s[-1])\n",
    "# Extraction\n",
    "# from index 1 to 3 not included\n",
    "print(s[1:3])\n",
    "# from index 1 to the end\n",
    "print(s[1:])\n",
    "# from index 0 to the last element not included\n",
    "print(s[:-1])"
   ]
  },
  {
   "cell_type": "markdown",
   "metadata": {},
   "source": [
    "### 2.2) Changing and formating\n",
    "Chains are *non-modifiable*, so to change a chain we must define a new one"
   ]
  },
  {
   "cell_type": "code",
   "execution_count": 17,
   "metadata": {
    "collapsed": false
   },
   "outputs": [
    {
     "ename": "TypeError",
     "evalue": "'str' object does not support item assignment",
     "output_type": "error",
     "traceback": [
      "\u001b[0;31m---------------------------------------------------------------------------\u001b[0m",
      "\u001b[0;31mTypeError\u001b[0m                                 Traceback (most recent call last)",
      "\u001b[0;32m<ipython-input-17-50a0a35a07a9>\u001b[0m in \u001b[0;36m<module>\u001b[0;34m()\u001b[0m\n\u001b[1;32m      1\u001b[0m \u001b[0mS1\u001b[0m\u001b[0;34m=\u001b[0m\u001b[0;34m\"lamb\"\u001b[0m\u001b[0;34m\u001b[0m\u001b[0m\n\u001b[0;32m----> 2\u001b[0;31m \u001b[0mS1\u001b[0m\u001b[0;34m[\u001b[0m\u001b[0;36m0\u001b[0m\u001b[0;34m]\u001b[0m\u001b[0;34m=\u001b[0m\u001b[0;34m'x'\u001b[0m\u001b[0;34m\u001b[0m\u001b[0m\n\u001b[0m",
      "\u001b[0;31mTypeError\u001b[0m: 'str' object does not support item assignment"
     ]
    }
   ],
   "source": [
    "S1=\"lamb\"\n",
    "S1[0]='x'"
   ]
  },
  {
   "cell_type": "code",
   "execution_count": 18,
   "metadata": {
    "collapsed": false
   },
   "outputs": [
    {
     "data": {
      "text/plain": [
       "'sausage of beef'"
      ]
     },
     "execution_count": 18,
     "metadata": {},
     "output_type": "execute_result"
    }
   ],
   "source": [
    "S2=\"beef\"\n",
    "S=s + ' of ' + S2\n",
    "S"
   ]
  },
  {
   "cell_type": "code",
   "execution_count": 19,
   "metadata": {
    "collapsed": false
   },
   "outputs": [
    {
     "data": {
      "text/plain": [
       "'and'"
      ]
     },
     "execution_count": 19,
     "metadata": {},
     "output_type": "execute_result"
    }
   ],
   "source": [
    "S1=\"lamb\"\n",
    "S1[1] + 'nd'"
   ]
  },
  {
   "cell_type": "code",
   "execution_count": 20,
   "metadata": {
    "collapsed": false
   },
   "outputs": [
    {
     "data": {
      "text/plain": [
       "'sausage of beef and lamb'"
      ]
     },
     "execution_count": 20,
     "metadata": {},
     "output_type": "execute_result"
    }
   ],
   "source": [
    "S=s + ' of ' + S2 + ' ' + S1[1] + 'nd ' + S1\n",
    "S"
   ]
  },
  {
   "cell_type": "markdown",
   "metadata": {
    "collapsed": true
   },
   "source": [
    "## 3) The lists"
   ]
  },
  {
   "cell_type": "markdown",
   "metadata": {},
   "source": [
    "List can contain all kind of objects such as, numbers, chains, and even list themselves"
   ]
  },
  {
   "cell_type": "markdown",
   "metadata": {},
   "source": [
    "    Some usual operations on Lists\n",
    "|Operation | Interpretation|\n",
    "|-----|----------|\n",
    "| L1 = [] | Empty list |\n",
    "| L2 = [0,1,2,3] | Four elements of type int|\n",
    "| L3 = ['abc',['def','ghi']] | Included lists |\n",
    "| L4 = [(0,1,2,3),(0,1,2,3)] | Coordinates of points |\n",
    "| L2[i] | Index i|\n",
    "| len(L2) | Lenght |\n",
    "| L2 + L3 | Concatenation |\n",
    "| L3 * 3 | Repetition |\n",
    "| for x in L2 | Iteration |\n",
    "| 3 in L2 | Belonging |\n",
    "| L[:0]=[2] | append 2 at the left  |\n",
    "| L2.append(4)  | Increasing right with 4 |\n",
    "| L2.sort()| Sort the items of the list in place|\n",
    "| L2.index(X) | Search the index corresponding to value X |\n",
    "| L2.reverse() | Reverse the List order |\n",
    "| del L2[k], L2[i:j]=[] | Delete, since lists are modifiables |\n",
    "| L2[i] = 1 | Declaration by index |\n",
    "| L2[i:j] = [4,5,6] | Declaration by range |\n",
    "| range(n)| Creation of a list of n integers |"
   ]
  },
  {
   "cell_type": "code",
   "execution_count": 21,
   "metadata": {
    "collapsed": false
   },
   "outputs": [
    {
     "name": "stdout",
     "output_type": "stream",
     "text": [
      "0\n",
      "truc\n"
     ]
    }
   ],
   "source": [
    "i=0\n",
    "j=1\n",
    "L2 = [0,1,2,3]\n",
    "L3 = [['abc','truc'],['def','ghi']]\n",
    "\n",
    "print(L2[i])\n",
    "print(L3[i][j])"
   ]
  },
  {
   "cell_type": "code",
   "execution_count": 22,
   "metadata": {
    "collapsed": false
   },
   "outputs": [
    {
     "data": {
      "text/plain": [
       "1"
      ]
     },
     "execution_count": 22,
     "metadata": {},
     "output_type": "execute_result"
    }
   ],
   "source": [
    "matrix = [\n",
    "...     [1, 2, 3, 4],\n",
    "...     [5, 6, 7, 8],\n",
    "...     [9, 10, 11, 12],\n",
    "... ]\n",
    "line1=matrix[0]\n",
    "line1[0]"
   ]
  },
  {
   "cell_type": "code",
   "execution_count": 23,
   "metadata": {
    "collapsed": false
   },
   "outputs": [
    {
     "data": {
      "text/plain": [
       "[['abc', 'truc'], ['def', 'ghi'], 0, 1, 2, 3]"
      ]
     },
     "execution_count": 23,
     "metadata": {},
     "output_type": "execute_result"
    }
   ],
   "source": [
    "L2 = [0,1,2,3]\n",
    "L3 = [['abc','truc'],['def','ghi']]\n",
    "L3 + L2"
   ]
  },
  {
   "cell_type": "code",
   "execution_count": 24,
   "metadata": {
    "collapsed": false
   },
   "outputs": [
    {
     "name": "stdout",
     "output_type": "stream",
     "text": [
      "[0, 1, 2, 3, 0]\n"
     ]
    }
   ],
   "source": [
    "L2.append(0)\n",
    "print(L2)"
   ]
  },
  {
   "cell_type": "code",
   "execution_count": 25,
   "metadata": {
    "collapsed": false
   },
   "outputs": [
    {
     "name": "stdout",
     "output_type": "stream",
     "text": [
      "[0, 0, 1, 2, 3]\n",
      "[3, 2, 1, 0.5, 0]\n"
     ]
    }
   ],
   "source": [
    "L2.sort()\n",
    "print(L2)\n",
    "L2.reverse()\n",
    "L2[3] = 0.5\n",
    "print(L2)"
   ]
  },
  {
   "cell_type": "code",
   "execution_count": 26,
   "metadata": {
    "collapsed": false
   },
   "outputs": [
    {
     "name": "stdout",
     "output_type": "stream",
     "text": [
      "0\n",
      "1\n",
      "2\n",
      "3\n"
     ]
    }
   ],
   "source": [
    "for x in range(4): print(x)"
   ]
  },
  {
   "cell_type": "code",
   "execution_count": 27,
   "metadata": {
    "collapsed": false
   },
   "outputs": [
    {
     "data": {
      "text/plain": [
       "[0, 1, 2, 3]"
      ]
     },
     "execution_count": 27,
     "metadata": {},
     "output_type": "execute_result"
    }
   ],
   "source": [
    "L4=[1,2,3]\n",
    "L4[:0]=[0]\n",
    "L4"
   ]
  },
  {
   "cell_type": "markdown",
   "metadata": {},
   "source": [
    "**Les methodes sont comme des fonctions, sauf qu'elles sont associés à un objet en particulier** Quand vous utilisez des attributs comme **append** et **sort**, les objets sont modifiés par effet de bord, et il n'y a donc pas de raison de ré-affecter\n",
    "~~~ python\n",
    "L = [['abc', 'truc'], ['def', 'ghi'], 0, 1, 2, 3]\n",
    "L = L.append(['bidule'])\n",
    "print(L)\n",
    "~~~\n",
    "None"
   ]
  },
  {
   "cell_type": "code",
   "execution_count": 28,
   "metadata": {
    "collapsed": false
   },
   "outputs": [
    {
     "data": {
      "text/plain": [
       "list"
      ]
     },
     "execution_count": 28,
     "metadata": {},
     "output_type": "execute_result"
    }
   ],
   "source": [
    "L = [['abc', 'truc'], ['def', 'ghi'], 0, 1, 2, 3]\n",
    "L.append(['bidule'])\n",
    "type(L)"
   ]
  },
  {
   "cell_type": "markdown",
   "metadata": {},
   "source": [
    "## 4) The Dictionary\n",
    "\n",
    "> - Acessible trought keywords\n",
    "> - Non sorted collection of arbitrary objects\n",
    "> - Of variable lenght, heterogeneous and open to any type of inclusion\n",
    "> - Object able of mapping keywords to values"
   ]
  },
  {
   "cell_type": "markdown",
   "metadata": {},
   "source": [
    "    Usual operations on dictionaries\n",
    "\n",
    "    \n",
    "| Operation | Interpretation |\n",
    "|-----------|----------------|\n",
    "| D1 = { } | Declare empty dictionary |\n",
    "| D2 = {'bacon': 2, 'eggs': 3} | Two-item dictionary |\n",
    "| D3 = {'breakfast': D2} | Inclusion |\n",
    "| D2['eggs'] | Indexing by key |\n",
    "| 'eggs' in D2 | 'eggs' in D2 membership bolean test |\n",
    "| D2.keys() | Return a view of the dictionary’s keywords |\n",
    "| D2.values() | Return a view of the dictionary’s values |\n",
    "| len(D2) | Number of entries |\n",
    "| D2['bread']=1 | Update a dictionary by adding a new **key** entry and a **value**|\n",
    "| D2['eggs'] -= 1 | Update a dictionary by substracting a **value**|"
   ]
  },
  {
   "cell_type": "code",
   "execution_count": 29,
   "metadata": {
    "collapsed": false
   },
   "outputs": [
    {
     "data": {
      "text/plain": [
       "{'bread': 1,\n",
       " 'butter': 2,\n",
       " 'coffee': 10,\n",
       " 'confiture': 1,\n",
       " 'corn-flakes': 1,\n",
       " 'eggs': 2}"
      ]
     },
     "execution_count": 29,
     "metadata": {},
     "output_type": "execute_result"
    }
   ],
   "source": [
    "# On va remplacer le bacon par \n",
    "# El l'on ajoute du café des cereales et de la confiture et du pain\n",
    "D2 = {'bacon': 2, 'eggs': 3}\n",
    "D2['eggs'] -= 1 \n",
    "del D2['bacon']\n",
    "\n",
    "# on ajoute en vrac, le dictionnaire ne trie pas\n",
    "D2['corn-flakes'] = 1\n",
    "D2['coffee'] = 10\n",
    "D2['confiture'] = 1\n",
    "D2['bread'] = 1\n",
    "dict(D2,butter=2) #autre facon de faire mais qui met tout en ordre"
   ]
  },
  {
   "cell_type": "code",
   "execution_count": 33,
   "metadata": {
    "collapsed": false
   },
   "outputs": [
    {
     "name": "stdout",
     "output_type": "stream",
     "text": [
      "C \t Dennis Ritchie\n",
      "Tcl \t John Ousterhout\n",
      "Python \t Guido van Rossum\n",
      "Perl \t Larry Wall\n"
     ]
    }
   ],
   "source": [
    "table = {'Python': 'Guido van Rossum',\n",
    "         'C': 'Dennis Ritchie',\n",
    "         'Perl':   'Larry Wall',\n",
    "         'Tcl':    'John Ousterhout',\n",
    "         #'PowerShell': 'Microsoft',\n",
    "        }\n",
    "\n",
    "for lang in table.keys():\n",
    "        print(lang, '\\t', table[ lang ])"
   ]
  },
  {
   "cell_type": "markdown",
   "metadata": {},
   "source": [
    "## 5) The Tuples"
   ]
  },
  {
   "cell_type": "markdown",
   "metadata": {},
   "source": [
    "A tuple (*t-uplet*) is a sequence of non-modifiable values. The values can be any type, and they are indexed by integers, so in that respect tuples are a lot like lists. The important difference is that tuples are immutable."
   ]
  },
  {
   "cell_type": "markdown",
   "metadata": {},
   "source": [
    "     Usual operations on tuples\n",
    "     \n",
    "     \n",
    "| Operation | Interpretation |\n",
    "|-----------|----------------|\n",
    "| T = tuple() | Declare empty tuple |\n",
    "| t = 'a', 'b', 'c' | Declaration of a tuple |\n",
    "| a , b = b, a | Elegant tuple assignment |\n",
    "| T = ('A',) + t[1:] | Way to replace an element of a tuple |\n",
    "| * T | Allows to *scatter* the tuple |\n",
    "| max(1,2,3) | Gives the maximum of the list of numbers (check min)|\n",
    "| zip(s, T) | Transposes a string and a list |\n",
    "| t > T  | Comparision operator |\n",
    "| t.sort() | Sorting the t |\n",
    "\n",
    "\n"
   ]
  },
  {
   "cell_type": "code",
   "execution_count": 37,
   "metadata": {
    "collapsed": false
   },
   "outputs": [
    {
     "name": "stdout",
     "output_type": "stream",
     "text": [
      "Enter the number N, to divide it by D\n",
      "N = 12\n",
      "D = 5\n",
      "The number 12, divided by 5 can be written 5 times 2 plus 2\n"
     ]
    }
   ],
   "source": [
    "print('Enter the number N, to divide it by D')\n",
    "N=eval(input('N = '))\n",
    "D=eval(input('D = '))\n",
    "quot, rem = divmod(N, D) # Use of tuple assignement\n",
    "print('The number {0}, divided by {1} can be written {1} times {2} plus {3}'.format(N,D,quot,rem))"
   ]
  },
  {
   "cell_type": "code",
   "execution_count": 39,
   "metadata": {
    "collapsed": false
   },
   "outputs": [
    {
     "data": {
      "text/plain": [
       "(2, 1)"
      ]
     },
     "execution_count": 39,
     "metadata": {},
     "output_type": "execute_result"
    }
   ],
   "source": [
    "t=(7,3)\n",
    "divmod(* t)"
   ]
  },
  {
   "cell_type": "code",
   "execution_count": 47,
   "metadata": {
    "collapsed": false
   },
   "outputs": [
    {
     "name": "stdout",
     "output_type": "stream",
     "text": [
      "2 a\n",
      "1 b\n",
      "0 c\n"
     ]
    }
   ],
   "source": [
    "# This imitates the dictionary\n",
    "# without order\n",
    "\n",
    "t = [('c', 0), ('b', 1), ('a', 2)]\n",
    "t.sort()\n",
    "\n",
    "for letter, number in t:\n",
    "    print(number, letter)"
   ]
  },
  {
   "cell_type": "code",
   "execution_count": 51,
   "metadata": {
    "collapsed": false
   },
   "outputs": [
    {
     "name": "stdout",
     "output_type": "stream",
     "text": [
      "dict_items([('c', 2), ('a', 0), ('b', 1)])\n",
      "{'c': 2, 'a': 0, 'b': 1}\n"
     ]
    }
   ],
   "source": [
    "# Dictionaries and tuples\n",
    "D = {'a':0, 'b':1, 'c':2}\n",
    "T = D.items()\n",
    "print(T)\n",
    "# Conversely you can use a list of tuples to initialize a new dictionary\n",
    "t = [('a', 0), ('c', 2), ('b', 1)]\n",
    "d = dict(t)\n",
    "print(d)"
   ]
  },
  {
   "cell_type": "markdown",
   "metadata": {},
   "source": [
    "Some of the above mentioned Useful Commands, can be found for a version 1.5 of Python\n",
    "\n",
    "<http://www.onlamp.com/pub/a/python/excerpt/PythonPocketRef/>"
   ]
  },
  {
   "cell_type": "markdown",
   "metadata": {},
   "source": [
    "## 6) The Files\n",
    "\n",
    "\n",
    "exemple : noyeaux-RMN.txt\n",
    "\n",
    "\n",
    "| Symbol | Name | Sensitivity | Spin | Frequency (MHz) |\n",
    "|------- |----------------|--------------|--------|---------------|\n",
    "|   1H   | - Hydrogen     | 5.68E+3       |1/2      |100.000000 |\n",
    "|   2H    |- Deuterium     |8.21E-3        | 1       |15.35060886|\n",
    "|   3H    |- Tritium       |1.00E-9       |1/2      |106.663974|\n",
    "|   3He   |- Helium        |3.26E-3       |1/2      | 76.179437|\n",
    "\n"
   ]
  },
  {
   "cell_type": "code",
   "execution_count": 65,
   "metadata": {
    "collapsed": false
   },
   "outputs": [
    {
     "name": "stdout",
     "output_type": "stream",
     "text": [
      "{'Isotope': '1H', 'Sensibilité': '5.68E+3', 'Nombre_de_Spin': '1/2', 'Frequence_en_MHZ_à_2350mT': '100.000000'}\n"
     ]
    }
   ],
   "source": [
    "import re\n",
    "listfileN='noyeaux-RMN.txt'\n",
    "\n",
    "f=open(listfileN,'rt')\n",
    "\n",
    "NUClist=[]\n",
    "lines=f.readlines()\n",
    "\n",
    "for  i in lines[0:]:\n",
    "\t(isotope,dash,name,receptivity,spin,freq)=i.split()\n",
    "\tNoyeau=dict(Isotope=isotope,Sensibilité=receptivity,Nombre_de_Spin=spin,Frequence_en_MHZ_à_2350mT=freq)\n",
    "\tNUClist.append(Noyeau)\n",
    "\n",
    "print(NUClist[0])\n"
   ]
  },
  {
   "cell_type": "code",
   "execution_count": 63,
   "metadata": {
    "collapsed": false
   },
   "outputs": [
    {
     "data": {
      "text/plain": [
       "dict_keys(['Sensibilité', 'Frequence_2350mT_en_MHZ', 'Isotope', 'Nombre_de_Spin'])"
      ]
     },
     "execution_count": 63,
     "metadata": {},
     "output_type": "execute_result"
    }
   ],
   "source": [
    "Noyeau.keys()"
   ]
  }
 ],
 "metadata": {
  "anaconda-cloud": {},
  "kernelspec": {
   "display_name": "Python [Root]",
   "language": "python",
   "name": "Python [Root]"
  },
  "language_info": {
   "codemirror_mode": {
    "name": "ipython",
    "version": 3
   },
   "file_extension": ".py",
   "mimetype": "text/x-python",
   "name": "python",
   "nbconvert_exporter": "python",
   "pygments_lexer": "ipython3",
   "version": "3.5.1"
  }
 },
 "nbformat": 4,
 "nbformat_minor": 0
}
