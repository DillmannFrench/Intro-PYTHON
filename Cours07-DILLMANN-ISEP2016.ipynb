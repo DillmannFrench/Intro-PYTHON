{
 "cells": [
  {
   "cell_type": "markdown",
   "metadata": {},
   "source": [
    "# Tant que ce n'est pas bien maîtrisé c'est ...\n",
    "# La Guerre des Fonctions\n",
    "\n",
    ">- 1) Autes fonctions particulières à corriger\n",
    ">- 2) Exercices de Simplification du code des fonctions\n",
    ">- 3) Quelques Exercices "
   ]
  },
  {
   "cell_type": "markdown",
   "metadata": {},
   "source": [
    "L'objet de ce cours est de vous faire progresser dans l'ameilloration de votre capacité de comprendre le fontionnement des algorithmes, par la pratique des tâches consistant à DEBUGER et à SIMPLIFIER des fonctions SANS modifier leur sens.  \n",
    "\n",
    "Les fonctions ici presentes, ne modifient pas leurs ENTRÉES, elles sont donc essentiellement déterminées par la valeur de SORTIE (après le return).\n",
    "\n",
    "Encore une fois les variables locales des fonctions n'ont pas d'importance tant quelles ne ne modifient pas la valeur de retour.\n",
    "\n",
    "Des exemples sont fournis pour chaque fonction, mais ne ils sont pas suffisant pour garantir que la fonction n'a pas du tout été modifiée.\n",
    "\n",
    "Le but de l'exercice est de vous évaluer en fonction :\n",
    "\n",
    ">- du fait que vous n'ayez pas dénaturé le retour de la fonction\n",
    ">- de votre capacité à ecrire un code simple et clair\n",
    "\n",
    "Dans le cas présent, on pourra approximer \"simplification\" par réduction du nombre de ligne.  \n",
    "Vous pouvez également améliorer la fonction en réduisant le nombre d'itération nécessaire si il s'agit d'une fonction utilisant des boucles. \n",
    "\n",
    "Dans tous les cas veuillez ajouter des commentaires, voire des docstrings.\n",
    " \n",
    "            Attention pour les exercices suivants !!!\n",
    "            \n",
    "**NE SURTOUT PAS MODIFIER LES DEUX LIGNES DE COMMENTAIRES DIRECTEMENT DANS EN-TÊTE DES FONCTIONS**.\n",
    "\n",
    "*** TOUTE MODIFICATION, voire même d'un CHARACTERE ESPACE entrainera une penalité ***\n",
    "\n",
    "Ceux-ci servent aussi à *documenter* la fonction \n",
    "\n",
    "Une indication est donnée (plus ou moins précise) du nombre de ligne que l'on peut atteindre.  \n",
    "\n",
    "Sauf indication contraire, vous pouvez utiliser toutes les librairies de python, vus en cours (math, matplotlib).\n",
    "\n",
    "Vous pouvez également utilisez les fonctions système vus egualement en cours."
   ]
  },
  {
   "cell_type": "markdown",
   "metadata": {},
   "source": [
    "## 1) Definir la fonction cube symmetrique par rapport a y"
   ]
  },
  {
   "cell_type": "code",
   "execution_count": 1,
   "metadata": {
    "collapsed": false
   },
   "outputs": [],
   "source": [
    "def cube_positif( x ):\n",
    "    if abs( x*x*x >= 0.0):\n",
    "        return x*x*x\n",
    "    print(\"Erreur\")\n",
    "    return"
   ]
  },
  {
   "cell_type": "code",
   "execution_count": 2,
   "metadata": {
    "collapsed": false
   },
   "outputs": [
    {
     "name": "stdout",
     "output_type": "stream",
     "text": [
      "Erreur\n"
     ]
    }
   ],
   "source": [
    "cube_positif(-4)"
   ]
  },
  {
   "cell_type": "markdown",
   "metadata": {},
   "source": [
    "Maintenant on peux se servir de \n",
    "%inline matplotlib\n",
    "import matplotlib.pyplot as plt\n",
    "pour obennir le graphe de la fonction cube symmetrique par rapport à l'axe y\n",
    "- quelles sont les modifications de le la fonction *cube_positif(x)* ?\n",
    "- de combien de *return* a t'on besoin ?\n",
    "\n"
   ]
  },
  {
   "cell_type": "code",
   "execution_count": 3,
   "metadata": {
    "collapsed": false
   },
   "outputs": [
    {
     "data": {
      "text/plain": [
       "[<matplotlib.lines.Line2D at 0xad68010c>]"
      ]
     },
     "execution_count": 3,
     "metadata": {},
     "output_type": "execute_result"
    },
    {
     "data": {
      "image/png": "[encoded data removed]",
      "text/plain": [
       "<matplotlib.figure.Figure at 0xb3dab2ac>"
      ]
     },
     "metadata": {},
     "output_type": "display_data"
    }
   ],
   "source": [
    "%matplotlib inline \n",
    "import matplotlib.pyplot as plt\n",
    "#On commence sans fonction,\n",
    "\n",
    "XX=[]\n",
    "YY=[]\n",
    "X=range(10,-10,-1)\n",
    "for x in X:\n",
    "    XX.append(x)\n",
    "    YY.append(x*x*x)\n",
    "    \n",
    "plt.plot(XX,YY)"
   ]
  },
  {
   "cell_type": "code",
   "execution_count": 4,
   "metadata": {
    "collapsed": false
   },
   "outputs": [
    {
     "data": {
      "image/png": "[encoded data removed]",
      "text/plain": [
       "<matplotlib.figure.Figure at 0xaec054ac>"
      ]
     },
     "metadata": {},
     "output_type": "display_data"
    }
   ],
   "source": [
    "\n",
    "\n",
    "def cube_positif( x ):\n",
    "    if x*x*x >= 0.0:\n",
    "        return x*x*x\n",
    "    elif x*x*x <= 0.0:\n",
    "        return -1*x*x*x\n",
    "#On peut simplifier cette fonction\n",
    "\n",
    "#On va s'en servir de la façon suivante:\n",
    "XX=[]\n",
    "YY=[]\n",
    "\n",
    "X=range(10,-10,-1)\n",
    "for x in X:\n",
    "    XX.append(x)\n",
    "    YY.append(cube_positif( x ))\n",
    "\n",
    "plt.plot(XX,YY)\n",
    "plt.show()"
   ]
  },
  {
   "cell_type": "markdown",
   "metadata": {},
   "source": [
    "## 2) Correction de fonctions en vrac (les fonction suivantes doivent être corrigées)"
   ]
  },
  {
   "cell_type": "markdown",
   "metadata": {},
   "source": [
    "### 2.1) Test des entiers et des premiers"
   ]
  },
  {
   "cell_type": "code",
   "execution_count": null,
   "metadata": {
    "collapsed": true
   },
   "outputs": [],
   "source": [
    "def est_entier(x):\n",
    "    return x == int(x)\n",
    "\n",
    "def est_premier(n):\n",
    "    if n < 2:\n",
    "        return False\n",
    "    for it in range(2,int(n**0.5)+1):\n",
    "        if n % it == 0:\n",
    "            return False\n",
    "    return True"
   ]
  },
  {
   "cell_type": "code",
   "execution_count": null,
   "metadata": {
    "collapsed": false
   },
   "outputs": [],
   "source": [
    "n=float(input())\n",
    "print(\"est entier ? : {}\".format(est_entier(n)))\n",
    "print(\"est premier ? : {}\".format(est_premier(n)))\n",
    "#Que se passe t'il si l'on ne force pas n a être un nombre  ?\n",
    "#Que se passe t'il si on a un nombre a virgule (float) ?\n",
    "#Est ce que ce nombre doit être nécessairement un int ou est ce que cela peut être autre chose ?"
   ]
  },
  {
   "cell_type": "markdown",
   "metadata": {},
   "source": [
    "### 2.2) Factorielle : Exercice 1"
   ]
  },
  {
   "cell_type": "code",
   "execution_count": null,
   "metadata": {
    "collapsed": false
   },
   "outputs": [],
   "source": [
    "## Référence - à priori ne la modifiez pas, s'il vous plaît\n",
    "\n",
    "def factorielle( int( n ) ):\n",
    "    res = 1\n",
    "    for it in range(1,n+1):\n",
    "        res = res*it\n",
    "return res\n",
    "#Aide:\n",
    "#Cette partie du code contiens deux erreurs\n",
    "#Un problème de passage de variable\n",
    "#Un problème lié a l'appartenance à un bloc"
   ]
  },
  {
   "cell_type": "code",
   "execution_count": null,
   "metadata": {
    "collapsed": false
   },
   "outputs": [],
   "source": [
    "## DM - exercice n°1\n",
    "## Modifiez le code ci-dessous, et ne modifiez pas ces commentaires\n",
    "def factorielle( int( n ) ):\n",
    "    res = 1\n",
    "    for it in range(1,n+1):\n",
    "        res = res*it\n",
    "return res"
   ]
  },
  {
   "cell_type": "code",
   "execution_count": null,
   "metadata": {
    "collapsed": true
   },
   "outputs": [],
   "source": [
    "print( factorielle( 10 ) )\n",
    "#devrait donner 3628800"
   ]
  },
  {
   "cell_type": "markdown",
   "metadata": {},
   "source": [
    "## 3) Exercices de simplification"
   ]
  },
  {
   "cell_type": "markdown",
   "metadata": {},
   "source": [
    "### 3.1) Exercice 2 : simplification de la fonction est_pair()"
   ]
  },
  {
   "cell_type": "markdown",
   "metadata": {},
   "source": [
    "Simplifier la fonction suivante, qui renvoit True si un nombre est pair, False sinon.\n",
    "\n",
    "*Indication :* On peut en faire une version très très courte."
   ]
  },
  {
   "cell_type": "code",
   "execution_count": null,
   "metadata": {
    "collapsed": true
   },
   "outputs": [],
   "source": [
    "## Référence - à priori ne la modifiez pas, s'il vous plaît\n",
    "def est_pair(n):\n",
    "    if n % 2 == 0:\n",
    "        return True\n",
    "    else:\n",
    "        return False"
   ]
  },
  {
   "cell_type": "code",
   "execution_count": null,
   "metadata": {
    "collapsed": true
   },
   "outputs": [],
   "source": [
    "## DM - exercice n°2\n",
    "## Modifiez le code ci-dessous, et ne modifiez pas ces commentaires\n",
    "def est_pair(n):\n",
    "    if n % 2 == 0:\n",
    "        return True\n",
    "    else:\n",
    "        return False"
   ]
  },
  {
   "cell_type": "markdown",
   "metadata": {},
   "source": [
    "La cellule suivante doit afficher 2 => True, 3 => False"
   ]
  },
  {
   "cell_type": "code",
   "execution_count": null,
   "metadata": {
    "collapsed": false
   },
   "outputs": [],
   "source": [
    "print( \"2 => \", est_pair(2) )\n",
    "print( \"3 => \", est_pair(3) )"
   ]
  },
  {
   "cell_type": "markdown",
   "metadata": {},
   "source": [
    "### 3.2) Exercice 2 : fonction a un seul diviseur"
   ]
  },
  {
   "cell_type": "markdown",
   "metadata": {},
   "source": [
    "Simplifier la fonction suivante, qui renvoit True si un nombre possède 1 et un unique diviseur différent de 1 et lui-même, False sinon.\n",
    "\n",
    "Pour le coup on ne peut pas beaucoup réduire le code de la fonction, sauf à changer l'algorithme (pour un résultat équivalent). En modifiant l'algorithme, on peut l'écrire en une ligne (en utilisant les bonnes fonctions)"
   ]
  },
  {
   "cell_type": "code",
   "execution_count": null,
   "metadata": {
    "collapsed": true
   },
   "outputs": [],
   "source": [
    "## Référence - à priori ne la modifiez pas, s'il vous plaît\n",
    "def possede_un_seul_diviseur(n):\n",
    "    nb_diviseur = 0\n",
    "    for it in range(2,n):\n",
    "        if n % it == 0:\n",
    "            nb_diviseur = nb_diviseur + 1\n",
    "    if nb_diviseur == 1:\n",
    "        return True\n",
    "    return False"
   ]
  },
  {
   "cell_type": "code",
   "execution_count": null,
   "metadata": {
    "collapsed": true
   },
   "outputs": [],
   "source": [
    "## DM - exercice n°3\n",
    "## Modifiez le code ci-dessous, et ne modifiez pas ces commentaires\n",
    "def possede_un_seul_diviseur(n):\n",
    "    nb_diviseur = 0\n",
    "    for it in range(2,n):\n",
    "        if n % it == 0:\n",
    "            nb_diviseur = nb_diviseur + 1\n",
    "    if nb_diviseur == 1:\n",
    "        return True\n",
    "    return False"
   ]
  },
  {
   "cell_type": "markdown",
   "metadata": {},
   "source": [
    "La cellule suivante doit afficher 4 => True, 6 => False"
   ]
  },
  {
   "cell_type": "code",
   "execution_count": null,
   "metadata": {
    "collapsed": false
   },
   "outputs": [],
   "source": [
    "print( \"4 => \", possede_un_seul_diviseur(4) )\n",
    "print( \"6 => \", possede_un_seul_diviseur(6) )"
   ]
  },
  {
   "cell_type": "markdown",
   "metadata": {},
   "source": [
    "### 3.3 Exercice 3:  fonction somme partielle\n",
    "\n",
    "On définit une fonction somme_partielle, qui prend en argument une liste de 9 éléments et renvoit une liste de trois éléments, les sommes des 3 premiers éléments, des 3 suivants et des 3 derniers.\n",
    "\n",
    "Par exemple :\n",
    "\n",
    "~~~ Python\n",
    "a = somme_partielle( [1,2,3,4,5,6,7,8,9] )\n",
    "print( a ) ## Affiche [6, 15, 24]\n",
    "b = somme_partielle( [0,1,5,0,1,7,0,1,9] )\n",
    "print( b ) ## Affiche [6,8,10]\n",
    "~~~\n",
    "\n",
    "On peut écrire cette fonction en 6 lignes."
   ]
  },
  {
   "cell_type": "code",
   "execution_count": null,
   "metadata": {
    "collapsed": true
   },
   "outputs": [],
   "source": [
    "## Référence - à priori ne la modifiez pas, s'il vous plaît\n",
    "def somme_partielle(liste):\n",
    "    if len(liste) != 9:\n",
    "        return None\n",
    "    \n",
    "    a1 = 0\n",
    "    for it in range(0, len(liste[0:3])):\n",
    "        a1 = a1 + liste[it]\n",
    "    a2 = 0\n",
    "    for it in range(3, len(liste[3:6])):\n",
    "        a2 = a2 + liste[it]\n",
    "    a3 = 0\n",
    "    for it in range(6, len(liste[6:9])):\n",
    "        a3 = a3 + liste[it]\n",
    "        \n",
    "    res = []\n",
    "    res.append(a1)\n",
    "    res.append(a2)\n",
    "    res.append(a3)\n",
    "    return res"
   ]
  },
  {
   "cell_type": "code",
   "execution_count": null,
   "metadata": {
    "collapsed": true
   },
   "outputs": [],
   "source": [
    "## DM - exercice n°4\n",
    "## Modifiez le code ci-dessous, et ne modifiez pas ces commentaires\n",
    "def somme_partielle(liste):\n",
    "    if len(liste) != 9:\n",
    "        return None\n",
    "    \n",
    "    a1 = 0\n",
    "    for it in range(0, len(liste[0:3])):\n",
    "        a1 = a1 + liste[it]\n",
    "    a2 = 0\n",
    "    for it in range(3, 3 + len(liste[3:6])):\n",
    "        a2 = a2 + liste[it]\n",
    "    a3 = 0\n",
    "    for it in range(6, 6 + len(liste[6:9])):\n",
    "        a3 = a3 + liste[it]\n",
    "        \n",
    "    res = []\n",
    "    res.append(a1)\n",
    "    res.append(a2)\n",
    "    res.append(a3)\n",
    "    return res"
   ]
  },
  {
   "cell_type": "markdown",
   "metadata": {},
   "source": [
    "La cellule suivante doit afficher [6,15,24] et [6,8,10]"
   ]
  },
  {
   "cell_type": "code",
   "execution_count": null,
   "metadata": {
    "collapsed": false
   },
   "outputs": [],
   "source": [
    "a = somme_partielle( [1,2,3,4,5,6,7,8,9] )\n",
    "print( a ) ## Affiche [6, 15, 24]\n",
    "b = somme_partielle( [0,1,5,0,1,7,0,1,9] )\n",
    "print( b ) ## Affiche [6,8,10]"
   ]
  },
  {
   "cell_type": "markdown",
   "metadata": {},
   "source": [
    "### 3.4)  Exercice 4 : vérifiez que tous les éléments d'une liste soient égaux\n",
    "\n",
    "On veut écrire une fonction qui vérifie que tous les éléments d'une liste sont bien égaux entre eux.\n",
    "\n",
    "On peut la réduire d'à peu près de moitié."
   ]
  },
  {
   "cell_type": "code",
   "execution_count": null,
   "metadata": {
    "collapsed": true
   },
   "outputs": [],
   "source": [
    "## Référence - à priori ne la modifiez pas, s'il vous plaît\n",
    "def verifier_si_tous_les_elements_sont_egaux(liste):\n",
    "    nb_egaux = 0\n",
    "    for it in liste:\n",
    "        for it2 in liste:\n",
    "            if it != it2:\n",
    "                return False\n",
    "            else:\n",
    "                nb_egaux += 1\n",
    "    if nb_egaux == len(liste)**2:\n",
    "        return True\n",
    "    else:\n",
    "        return False"
   ]
  },
  {
   "cell_type": "code",
   "execution_count": null,
   "metadata": {
    "collapsed": true
   },
   "outputs": [],
   "source": [
    "## DM - exercice n°5\n",
    "## Modifiez le code ci-dessous, et ne modifiez pas ces commentaires\n",
    "def verifier_si_tous_les_elements_sont_egaux(liste):\n",
    "    nb_egaux = 0\n",
    "    for it in liste:\n",
    "        for it2 in liste:\n",
    "            if it != it2:\n",
    "                return False\n",
    "            else:\n",
    "                nb_egaux += 1\n",
    "    if nb_egaux == len(liste)**2:\n",
    "        return True\n",
    "    else:\n",
    "        return False"
   ]
  },
  {
   "cell_type": "markdown",
   "metadata": {},
   "source": [
    "La cellule suivante doit afficher cas 1 => True, cas 2 => False"
   ]
  },
  {
   "cell_type": "code",
   "execution_count": null,
   "metadata": {
    "collapsed": false
   },
   "outputs": [],
   "source": [
    "print(\"Cas 1 =>\", verifier_si_tous_les_elements_sont_egaux([1,1,1,1,1,1,1,1]))\n",
    "print(\"Cas 2 =>\", verifier_si_tous_les_elements_sont_egaux([1,1,1,1,1,1,1,2]))"
   ]
  },
  {
   "cell_type": "markdown",
   "metadata": {},
   "source": [
    "### 3.5) Exercice 5 - fizzbuzz"
   ]
  },
  {
   "cell_type": "markdown",
   "metadata": {},
   "source": [
    "On définit une foction fizzbuzz, qui prend un argument n et, pour tous les nombres de 1 à n :  \n",
    "\n",
    "- affiche fizz si le nombre est divisible par 3\n",
    "- affiche buzz si le nombre est divisible par 5\n",
    "- affiche fizzbuzz si il est à la fois divisible par 3 et 5\n",
    "- affiche le nombre si aucun des cas ci-dessus n'est réalisé\n",
    "\n",
    "Beaucoup de choses à simplifier dans cette fonction, par contre cela ne se traduira pas forcément par des lignes en moins. on peut quand même gagner quelques lignes."
   ]
  },
  {
   "cell_type": "code",
   "execution_count": null,
   "metadata": {
    "collapsed": true
   },
   "outputs": [],
   "source": [
    "## Référence - à priori ne la modifiez pas, s'il vous plaît\n",
    "def fizzbuzz(n):\n",
    "    it = 1\n",
    "    while it <= n:\n",
    "        if (it % 3 == 0) and (it % 5 == 0):\n",
    "            print(\"fizzbuzz\")\n",
    "        if (it % 3 == 0) and (it % 5 != 0):\n",
    "            print(\"fizz\")\n",
    "        if (it % 3 != 0) and (it % 5 == 0):\n",
    "            print(\"buzz\")\n",
    "        if (it % 3 != 0) and (it % 5 != 0):\n",
    "            print(it)\n",
    "        it = it + 1\n",
    "            "
   ]
  },
  {
   "cell_type": "code",
   "execution_count": null,
   "metadata": {
    "collapsed": true
   },
   "outputs": [],
   "source": [
    "## DM - exercice n°6\n",
    "## Modifiez le code ci-dessous, et ne modifiez pas ces commentaires\n",
    "def fizzbuzz(n):\n",
    "    it = 1\n",
    "    while it <= n:\n",
    "        if (it % 3 == 0) and (it % 5 == 0):\n",
    "            print(\"fizzbuzz\")\n",
    "        if (it % 3 == 0) and (it % 5 != 0):\n",
    "            print(\"fizz\")\n",
    "        if (it % 3 != 0) and (it % 5 == 0):\n",
    "            print(\"buzz\")\n",
    "        if (it % 3 != 0) and (it % 5 != 0):\n",
    "            print(it)\n",
    "        it = it + 1"
   ]
  },
  {
   "cell_type": "markdown",
   "metadata": {},
   "source": [
    "La cellule suivante doit afficher :  \n",
    "1  \n",
    "2  \n",
    "fizz  \n",
    "4  \n",
    "buzz  \n",
    "fizz  \n",
    "7  \n",
    "8  \n",
    "fizz  \n",
    "buzz  \n",
    "11  \n",
    "fizz  \n",
    "13  \n",
    "14  \n",
    "fizzbuzz  \n",
    "16  \n",
    "17  \n",
    "fizz  \n",
    "19  \n",
    "buzz"
   ]
  },
  {
   "cell_type": "code",
   "execution_count": null,
   "metadata": {
    "collapsed": false
   },
   "outputs": [],
   "source": [
    "fizzbuzz(20)"
   ]
  },
  {
   "cell_type": "markdown",
   "metadata": {},
   "source": [
    "### 3.6) Exercice 7 - calcul de combinatoire\n",
    "\n",
    "On cherche à calculer les combinatoires de n, k, à l'aide de la fonction math.factorial. La formule est la suivante :  \n",
    "\n",
    "$$\\displaystyle \\frac{ n! }{ k!(n-k)! }$$\n",
    "\n",
    "On peut obtenir une version très courte de cette fonction."
   ]
  },
  {
   "cell_type": "code",
   "execution_count": null,
   "metadata": {
    "collapsed": true
   },
   "outputs": [],
   "source": [
    "## Référence - à priori ne la modifiez pas, s'il vous plaît\n",
    "import math\n",
    "def combinatoire(n,k):\n",
    "    a = math.factorial(n)\n",
    "    a = a // math.factorial(k)\n",
    "    a = a // math.factorial(n-k)\n",
    "    return a"
   ]
  },
  {
   "cell_type": "code",
   "execution_count": null,
   "metadata": {
    "collapsed": true
   },
   "outputs": [],
   "source": [
    "## DM - exercice n°7\n",
    "## Modifiez le code ci-dessous, et ne modifiez pas ces commentaires\n",
    "import math\n",
    "def combinatoire(n,k):\n",
    "    a = math.factorial(n)\n",
    "    a = a // math.factorial(k)\n",
    "    a = a // math.factorial(n-k)\n",
    "    return a"
   ]
  },
  {
   "cell_type": "markdown",
   "metadata": {},
   "source": [
    "La cellule ci-dessous doit afficher C(4,2) => 6, C(6,3) => 20"
   ]
  },
  {
   "cell_type": "code",
   "execution_count": null,
   "metadata": {
    "collapsed": false
   },
   "outputs": [],
   "source": [
    "print( \"C(4,2) =>\", combinatoire(4,2) )\n",
    "print( \"C(6,3) =>\", combinatoire(6,3) )"
   ]
  },
  {
   "cell_type": "markdown",
   "metadata": {},
   "source": [
    "### 3.7) Exercice 8 - fonction maximum_pair"
   ]
  },
  {
   "cell_type": "markdown",
   "metadata": {},
   "source": [
    "Simplifiez la fonction suivante qui renvoit le plus grand nombre pair d'une liste ne contenant que des nombres pairs positifs, ou 0 si la liste ne contient aucun nombre pair.\n",
    "\n",
    "On peut raisonnablement l'écrire en 5 ligne (voir en une ligne avec la list-comprehension, mais elle n'est pas au programme)"
   ]
  },
  {
   "cell_type": "code",
   "execution_count": null,
   "metadata": {
    "collapsed": true
   },
   "outputs": [],
   "source": [
    "## Référence - à priori ne la modifiez pas, s'il vous plaît\n",
    "def maximum_pair(liste):\n",
    "    for it in liste:\n",
    "        if it % 2 == 0:\n",
    "            est_le_plus_grand = True\n",
    "            for it2 in liste:\n",
    "                if (it2 % 2 == 0) and it2 > it:\n",
    "                    est_le_plus_grand = False\n",
    "                    break\n",
    "            if est_le_plus_grand == True:\n",
    "                return it\n",
    "    return 0"
   ]
  },
  {
   "cell_type": "code",
   "execution_count": null,
   "metadata": {
    "collapsed": true
   },
   "outputs": [],
   "source": [
    "## DM - exercice n°8\n",
    "## Modifiez le code ci-dessous, et ne modifiez pas ces commentaires\n",
    "def maximum_pair(liste):\n",
    "    for it in liste:\n",
    "        if it % 2 == 0:\n",
    "            est_le_plus_grand = True\n",
    "            for it2 in liste:\n",
    "                if (it2 % 2 == 0) and it2 > it:\n",
    "                    est_le_plus_grand = False\n",
    "                    break\n",
    "            if est_le_plus_grand == True:\n",
    "                return it\n",
    "    return 0"
   ]
  },
  {
   "cell_type": "markdown",
   "metadata": {},
   "source": [
    "La cellule suivante doit afficher cas 1 => 12, cas 2 => 0"
   ]
  },
  {
   "cell_type": "code",
   "execution_count": null,
   "metadata": {
    "collapsed": false
   },
   "outputs": [],
   "source": [
    "print( \"cas 1 =>\", maximum_pair([1,2,4,13,12,10,8]))\n",
    "print( \"cas 2 =>\", maximum_pair([1,21,41,13,125,109,87]))"
   ]
  },
  {
   "cell_type": "markdown",
   "metadata": {},
   "source": [
    "### 3.8) Exercice 9 - Fonction carre magique\n",
    "\n",
    "On code une fonction qui détermine si une liste en entrée correspond à un carré magique de taille 3, c'est à dire qu'il s'agit d'une liste de liste de même longueur, dont les sommes sur les lignes et les colonnes sont égales et tous les termes différents.\n",
    "\n",
    "Courage : il y a des carres magiques partout dans Paris\n",
    "[Carre Magique Porte d'Auteil](https://www.flickr.com/photos/jfgornet/4181901804) et parfois ils sont bien plus compliqués"
   ]
  },
  {
   "cell_type": "code",
   "execution_count": null,
   "metadata": {
    "collapsed": true
   },
   "outputs": [],
   "source": [
    "## Référence - à priori ne la modifiez pas, s'il vous plaît\n",
    "def carre_magique(carre_magique):\n",
    "    if len(carre_magique) != 3:\n",
    "        return False\n",
    "    \n",
    "    for it_ligne in carre_magique:\n",
    "        if len(it_ligne) != 3:\n",
    "            return False\n",
    "        \n",
    "    for it_ligne_1 in carre_magique:\n",
    "        for it_ligne_2 in carre_magique:\n",
    "            if id(it_ligne_1) != id(it_ligne_2):\n",
    "                for it_elt1 in it_ligne_1:\n",
    "                    for it_elt2 in it_ligne_2:\n",
    "                        if it_elt1 == it_elt2:\n",
    "                            return False\n",
    "    \n",
    "    somme_ligne_1 = 0\n",
    "    somme_ligne_2 = 0\n",
    "    somme_ligne_3 = 0\n",
    "    ligne_1 = carre_magique[0]\n",
    "    ligne_2 = carre_magique[1]\n",
    "    ligne_3 = carre_magique[2]\n",
    "    \n",
    "    for it in ligne_1:\n",
    "        somme_ligne_1 = somme_ligne_1 + it\n",
    "    for it in ligne_2:\n",
    "        somme_ligne_2 = somme_ligne_2 + it\n",
    "    for it in ligne_3:\n",
    "        somme_ligne_3 = somme_ligne_3 + it\n",
    "        \n",
    "    if (somme_ligne_1 != somme_ligne_2) or (somme_ligne_1 != somme_ligne_3) or (somme_ligne_2 != somme_ligne_3):\n",
    "        return False\n",
    "    \n",
    "    somme_colonne_1 = 0\n",
    "    somme_colonne_2 = 0\n",
    "    somme_colonne_3 = 0\n",
    "\n",
    "    for it in range(3):\n",
    "        somme_colonne_1 = somme_colonne_1 + carre_magique[it][0]\n",
    "    for it in range(3):\n",
    "        somme_colonne_2 = somme_colonne_2 + carre_magique[it][1]\n",
    "    for it in range(3):\n",
    "        somme_colonne_3 = somme_colonne_3 + carre_magique[it][2]\n",
    "        \n",
    "    if (somme_colonne_1 != somme_colonne_2) or (somme_colonne_1 != somme_colonne_3) or (somme_colonne_2 != somme_colonne_3):\n",
    "        return False\n",
    "    \n",
    "    return True"
   ]
  },
  {
   "cell_type": "code",
   "execution_count": null,
   "metadata": {
    "collapsed": true
   },
   "outputs": [],
   "source": [
    "## DM - exercice n°9\n",
    "## Modifiez le code ci-dessous, et ne modifiez pas ces commentaires\n",
    "def carre_magique(carre_magique):\n",
    "    if len(carre_magique) != 3:\n",
    "        return False\n",
    "    \n",
    "    for it_ligne in carre_magique:\n",
    "        if len(it_ligne) != 3:\n",
    "            return False\n",
    "        \n",
    "    for it_ligne_1 in carre_magique:\n",
    "        for it_ligne_2 in carre_magique:\n",
    "            if id(it_ligne_1) != id(it_ligne_2):\n",
    "                for it_elt1 in it_ligne_1:\n",
    "                    for it_elt2 in it_ligne_2:\n",
    "                        if it_elt1 == it_elt2:\n",
    "                            return False\n",
    "    \n",
    "    somme_ligne_1 = 0\n",
    "    somme_ligne_2 = 0\n",
    "    somme_ligne_3 = 0\n",
    "    ligne_1 = carre_magique[0]\n",
    "    ligne_2 = carre_magique[1]\n",
    "    ligne_3 = carre_magique[2]\n",
    "    \n",
    "    for it in ligne_1:\n",
    "        somme_ligne_1 = somme_ligne_1 + it\n",
    "    for it in ligne_2:\n",
    "        somme_ligne_2 = somme_ligne_2 + it\n",
    "    for it in ligne_3:\n",
    "        somme_ligne_3 = somme_ligne_3 + it\n",
    "        \n",
    "    if (somme_ligne_1 != somme_ligne_2) or (somme_ligne_1 != somme_ligne_3) or (somme_ligne_2 != somme_ligne_3):\n",
    "        return False\n",
    "    \n",
    "    somme_colonne_1 = 0\n",
    "    somme_colonne_2 = 0\n",
    "    somme_colonne_3 = 0\n",
    "\n",
    "    for it in range(3):\n",
    "        somme_colonne_1 = somme_colonne_1 + carre_magique[it][0]\n",
    "    for it in range(3):\n",
    "        somme_colonne_2 = somme_colonne_2 + carre_magique[it][1]\n",
    "    for it in range(3):\n",
    "        somme_colonne_3 = somme_colonne_3 + carre_magique[it][2]\n",
    "        \n",
    "    if (somme_colonne_1 != somme_colonne_2) or (somme_colonne_1 != somme_colonne_3) or (somme_colonne_2 != somme_colonne_3):\n",
    "        return False\n",
    "    \n",
    "    return True"
   ]
  },
  {
   "cell_type": "markdown",
   "metadata": {},
   "source": [
    "La cellule suivante doit afficher True, False, False"
   ]
  },
  {
   "cell_type": "code",
   "execution_count": null,
   "metadata": {
    "collapsed": false
   },
   "outputs": [],
   "source": [
    "print( carre_magique([[2,9,4],\n",
    "                      [7,5,3],\n",
    "                      [6,1,8]]))\n",
    "print( carre_magique([[2,9,4],\n",
    "                      [7,5,10],\n",
    "                      [6,1,8]]))\n",
    "print( carre_magique([[1,1,1],\n",
    "                      [1,1,1],\n",
    "                      [1,1,1]]))"
   ]
  },
  {
   "cell_type": "markdown",
   "metadata": {
    "collapsed": true
   },
   "source": [
    "### 3.9) Utilisation avancée des graphes :  Exercice 10\n",
    "comment s'y prendre pour avoir un graphe en 3D de la fonction $$Z=X^3.Y^3$$\n",
    "\n",
    "        Pour résoudre cet exercice il faut importer les librairies suivantes dans spyder\n",
    "        Le code suivant vous sert de point de départ :\n",
    "\n",
    "~~~ Python\n",
    "## Référence à completter en remplaçant les lignes qui commencent par #-\n",
    "from mpl_toolkits.mplot3d import Axes3D\n",
    "from matplotlib import cm # Couleur\n",
    "from numpy import meshgrid\n",
    "import matplotlib.pyplot as plt\n",
    "\n",
    "fig = plt.figure()\n",
    "ax = fig.gca(projection='3d')\n",
    "#- definir X\n",
    "#- definir Y\n",
    "#- definir X, Y en utilisant la fonction meshgrid\n",
    "#- definir Z\n",
    "\n",
    "## Ici nous definisons le graphe 3D comme une surface \n",
    "surf = ax.plot_surface(X, Y, Z, rstride=1, cstride=1, cmap=cm.coolwarm,\n",
    "                       linewidth=0, antialiased=False)\n",
    "fig.colorbar(surf, shrink=0.5, aspect=5)\n",
    "plt.show()\n",
    "~~~ \n",
    "Vu la taille que peut prendre le graphe, il n'est pas judicieux de l'envoyer avec le notebook\n",
    "Le fichier sera rennomé sous le nom: \"Fonctions_Prenom_NOM.ipynb\" et corrige si et seulement si il est lisible sur les ordinateurs de l'ISEP "
   ]
  }
 ],
 "metadata": {
  "kernelspec": {
   "display_name": "Python [Root]",
   "language": "python",
   "name": "Python [Root]"
  },
  "language_info": {
   "codemirror_mode": {
    "name": "ipython",
    "version": 3
   },
   "file_extension": ".py",
   "mimetype": "text/x-python",
   "name": "python",
   "nbconvert_exporter": "python",
   "pygments_lexer": "ipython3",
   "version": "3.5.1"
  }
 },
 "nbformat": 4,
 "nbformat_minor": 0
}
