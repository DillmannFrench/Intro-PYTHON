{
 "cells": [
  {
   "cell_type": "markdown",
   "metadata": {},
   "source": [
    "# The Return of the Functions"
   ]
  },
  {
   "cell_type": "markdown",
   "metadata": {},
   "source": [
    "# 1) Rappels sur les fonctions\n",
    "> - Quand a t'on besoin d'une fonction ? \n",
    "> - dB or not dB ?\n",
    "> - Définir ou Utiliser ?"
   ]
  },
  {
   "cell_type": "markdown",
   "metadata": {},
   "source": [
    "## 1.1) Quand à t'on besoin d'ecrire une fonction ?\n",
    "    Pas toujours, mais presque..."
   ]
  },
  {
   "cell_type": "markdown",
   "metadata": {},
   "source": [
    "### Appel d'une fonction du système\n",
    "Cet exemple marche bien avec les systèmes baseés sur unix, qui ont une horloge"
   ]
  },
  {
   "cell_type": "code",
   "execution_count": 1,
   "metadata": {
    "collapsed": false
   },
   "outputs": [
    {
     "name": "stdout",
     "output_type": "stream",
     "text": [
      "['samedi 8 juillet 2017, 15:33:27 (UTC+0200)']\n"
     ]
    }
   ],
   "source": [
    "''' \n",
    "De nombreuses fonction existent déjà\n",
    "Python permet aussi d'appeller des fonction nouvelles\n",
    "D'abord nous allons voire les appels au sytème, \n",
    "puis des fonctions comme print que nous utilisions toujours \n",
    "print(VARIABLE)\n",
    "''' \n",
    "\n",
    "A=!date\n",
    "# ici A est à un type \"IPython.utils.text.SList\" c'est une liste\n",
    "print(A)"
   ]
  },
  {
   "cell_type": "markdown",
   "metadata": {},
   "source": [
    "### Utilisation des methodes associés aux listes (les methodes sont des fonctions)"
   ]
  },
  {
   "cell_type": "code",
   "execution_count": 2,
   "metadata": {
    "collapsed": false
   },
   "outputs": [
    {
     "name": "stdout",
     "output_type": "stream",
     "text": [
      "En l'an de grâces 2017, les étudiants de l'ISEP on étudié les Fonctions, c'était le 8 du mois 'juillet'.\n"
     ]
    }
   ],
   "source": [
    "# On peux ici se servir le la methode \"list\" qui va \n",
    "date=A.list[0]\n",
    "# On peux ici se servir le la methode \"split\" qui va separer la chaine de charactères\n",
    "#(jour,mois,date,heure,fuseau,annee)=date.split() # Dans certains sytèmes\n",
    "(jour,date,mois,annee,heure,fuseau)=date.split() # Dans d'autres sytèmes\n",
    "# Ici je travaille en python 3.5\n",
    "print('En l\\'an de grâces %s les étudiants de l\\'ISEP on étudié les Fonctions, c\\'était le %s du mois \\'%s\\'.' % (annee, date, mois))"
   ]
  },
  {
   "cell_type": "code",
   "execution_count": 3,
   "metadata": {
    "collapsed": false
   },
   "outputs": [
    {
     "name": "stdout",
     "output_type": "stream",
     "text": [
      "En l'an de grâces 2017, les étudiants on étudié les Fonctions, c'était le 8 du mois de juillet.\n"
     ]
    }
   ],
   "source": [
    "# Comme on voit c'est pas franchement lisible en Français, donc on va traduire...\n",
    "# On peux utiliser les types que sont les tableaux associatifs appelés \"dicts\" \n",
    "#pour associer un mois a son abreviation \n",
    "\n",
    "mois_Month = {'janvier': 'de janvier', \n",
    "              'fevrier': 'de février', \n",
    "              'mars': 'de mars', \n",
    "              'avril': 'd\\'avril', \n",
    "              'mai':'de mai',\n",
    "              'juin':'de juin',\n",
    "              'juillet':'de juillet',\n",
    "              'août':'d\\'août',\n",
    "              'septembre':'de septembre',\n",
    "              'octobre':'d\\' octobre',\n",
    "              'novembre':'de novembre',\n",
    "              'décembre':'de décembre'}\n",
    "print(\"En l\\'an de grâces {0} les étudiants on étudié les Fonctions, c\\'était le {1} du mois {2}.\" .format(annee, date, mois_Month[mois]))"
   ]
  },
  {
   "cell_type": "markdown",
   "metadata": {},
   "source": [
    "## 1.2) Quand n'a t'on pas besoin d'ecrire une fonction ?\n",
    "    Pas besoin de définir de nouvelles fonctions si celles-ci existent déja.\n",
    "    Python dispose d'un grand nombre de librairies de fonctions\n",
    "    mais il se peux que l'on n'ai pas besoin de toutes les fonctions \n",
    "    de cette librairie tout au long du programme....\n",
    "    Donc on a TOUJOURS besoin de connaître les fonctions"
   ]
  },
  {
   "cell_type": "code",
   "execution_count": 4,
   "metadata": {
    "collapsed": false
   },
   "outputs": [
    {
     "name": "stdout",
     "output_type": "stream",
     "text": [
      "10.0\n"
     ]
    }
   ],
   "source": [
    "# Exemple d'appel d'une fonction dans une librairie \n",
    "from math import log10\n",
    "# Ici je déclare les variables\n",
    "signal_power = 50 #Watts\n",
    "noise_power = 5 #Watts\n",
    "# Là j'utilise une division entre les variables déclareés\n",
    "ratio = signal_power / noise_power\n",
    "# Nous allons utiliser une fonction logarithme\n",
    "decibels = 10 * log10(ratio)\n",
    "# voila la sortie\n",
    "print(decibels)"
   ]
  },
  {
   "cell_type": "code",
   "execution_count": 5,
   "metadata": {
    "collapsed": true
   },
   "outputs": [],
   "source": [
    "# Cette operation peux être transformée en fonction\n",
    "def dB(signal_power,noise_power):\n",
    "    ratio = signal_power / noise_power\n",
    "    decibels = 10 * log10(ratio)\n",
    "    return decibels"
   ]
  },
  {
   "cell_type": "code",
   "execution_count": 6,
   "metadata": {
    "collapsed": false
   },
   "outputs": [
    {
     "data": {
      "text/plain": [
       "10.0"
      ]
     },
     "execution_count": 6,
     "metadata": {},
     "output_type": "execute_result"
    }
   ],
   "source": [
    "#Warning: au moment de l'appeler if faut que le log10 soit défini\n",
    "from math import log10\n",
    "signal_power = 50\n",
    "noise_power = 5\n",
    "dB(signal_power,noise_power)"
   ]
  },
  {
   "cell_type": "markdown",
   "metadata": {},
   "source": [
    "## 1.1) Quand doit t'on impérativement utiliser une fonction ?"
   ]
  },
  {
   "cell_type": "markdown",
   "metadata": {},
   "source": [
    "### les fonctions recursives (qui s'appellent elles mêmes)\n",
    "Voici les 3 lois de la recursivité:\n",
    "\n",
    "\n",
    "- Une fonction recursive  contiens un cas de base \n",
    "- Une fonction recursive  doit modifier son état pour se ramenner au cas de base \n",
    "- Une fonction recursive  doit s'appeler soit même \n",
    "\n",
    "Par exemple:\n",
    "$$ x_0 = 1  \\,  \\mathrm{et}  \\,  x^n=x.x^{n-1}  \\,  \\mathrm{si}  \\,  n>1 $$"
   ]
  },
  {
   "cell_type": "code",
   "execution_count": 7,
   "metadata": {
    "collapsed": false
   },
   "outputs": [
    {
     "name": "stdout",
     "output_type": "stream",
     "text": [
      "Cette fonction peut s'avèrer utile pour ecrire une suite de nombres bien connue :\n",
      "1 2 4 8 16\n",
      "...\n",
      "2048 \n",
      "\n"
     ]
    }
   ],
   "source": [
    "# On va déclarer une fonction qui renvoie la valeur de la puissance entière d'un nombre\n",
    "# Cette solution utilise le fait que les nombres peuvent être pairs ou impairs\n",
    "def expo(a, n):\n",
    "    if n == 0:\n",
    "        return 1\n",
    "    else:\n",
    "        if n%2 == 0:\n",
    "            # on utilise la puissance de 2 directerment pour les nombres pairs \n",
    "            return expo(a, n//2)**2\n",
    "            # on utilise pour les impairs, la même methode mais appliquée \n",
    "        else:\n",
    "            return a*(expo(a, (n-1)//2)**2)\n",
    "\n",
    "# Par exemple...\n",
    "\n",
    "\n",
    "print(\"Cette fonction peut s'avèrer utile pour ecrire une suite de nombres bien connue :\")\n",
    "print(expo(2,0),expo(2,1),expo(2,2),expo(2,3),expo(2,4))\n",
    "print('...')\n",
    "print(expo(2,11),'\\n')\n"
   ]
  },
  {
   "cell_type": "code",
   "execution_count": 8,
   "metadata": {
    "collapsed": false
   },
   "outputs": [
    {
     "name": "stdout",
     "output_type": "stream",
     "text": [
      "Entrez le Nombre a que l'on veux élever à la puissance n\n",
      "a = 2\n",
      "n = 5\n",
      "La puissance au 5 de 2 est egale à 32 \n"
     ]
    }
   ],
   "source": [
    "# On peux invoquer une puissance directement grace à son return \n",
    "print('Entrez le Nombre a que l\\'on veux élever à la puissance n')\n",
    "a=eval(input('a = '))\n",
    "n=eval(input('n = '))\n",
    "print(\"La puissance au {} de {} est egale à {} \".format(n,a,expo(a,n)))\n"
   ]
  },
  {
   "cell_type": "code",
   "execution_count": 9,
   "metadata": {
    "collapsed": false
   },
   "outputs": [
    {
     "name": "stdout",
     "output_type": "stream",
     "text": [
      "64\n"
     ]
    }
   ],
   "source": [
    "# OK... pour les fortiches en math il existe déjà une fonction puissance\n",
    "x=pow(4,3)\n",
    "print(x)"
   ]
  },
  {
   "cell_type": "markdown",
   "metadata": {},
   "source": [
    "#### Il existe des fonction *primitives* propres a python 3\n",
    "En anglais [*Build-In Functions*](https://docs.python.org/3/library/functions.html)\n",
    "    \n",
    "       ...\n",
    "    \n",
    "On ne doit jamais redéfinir une fonction qui est déja dans le sytème d'ou l'intérêt de savoir ce que contiens une fonction\n",
    "   \n",
    "       ...\n",
    "       \n",
    "*Ce qui suit est un exemple de fonction \"dangeureuse\"*"
   ]
  },
  {
   "cell_type": "code",
   "execution_count": 10,
   "metadata": {
    "collapsed": false
   },
   "outputs": [],
   "source": [
    "def jetter_les_des_jusquau_double_six():\n",
    "    \"\"\"\n",
    "    Cette fonction importe toutes les fonction de la librairie \"random\"\n",
    "    Elle continue de tourner jusqu'au moment ou un double 6 est tiré\n",
    "    Bonne chance !\n",
    "    \"\"\"\n",
    "    import random\n",
    "    throw_1 = random.randint(1, 6)\n",
    "    throw_2 = random.randint(1, 6)\n",
    "    while not (throw_1 == 6 and throw_2 == 6):\n",
    "        total = throw_1 + throw_2\n",
    "        print(total)\n",
    "        throw_1 = random.randint(1, 6)\n",
    "        throw_2 = random.randint(1, 6)\n",
    "    print('12 !!! Double Six thrown!')"
   ]
  },
  {
   "cell_type": "code",
   "execution_count": 11,
   "metadata": {
    "collapsed": false
   },
   "outputs": [
    {
     "name": "stdout",
     "output_type": "stream",
     "text": [
      "8\n",
      "7\n",
      "8\n",
      "5\n",
      "4\n",
      "6\n",
      "8\n",
      "4\n",
      "3\n",
      "2\n",
      "7\n",
      "4\n",
      "5\n",
      "...\n",
      "11\n",
      "2\n",
      "2\n",
      "6\n",
      "5\n",
      "7\n",
      "12 !!! Double Six thrown!\n"
     ]
    }
   ],
   "source": [
    "jetter_les_des_jusquau_double_six()"
   ]
  },
  {
   "cell_type": "markdown",
   "metadata": {},
   "source": [
    "# 2) Reprise des exemples de l'introduction en fonctions\n",
    "> - Palindrome\n",
    "> - La racine carrée\n",
    "> - Anneés Bissextiles"
   ]
  },
  {
   "cell_type": "markdown",
   "metadata": {},
   "source": [
    "Nous alons reprendre les exemples du premier cours mais cette fois nous transformerons tout en fonctions. L'objectif est de montrer la rapidité d'execution, et la modularité que la programmation à l'aide des fonctions est seulle à permettre."
   ]
  },
  {
   "cell_type": "markdown",
   "metadata": {},
   "source": [
    "## 2.1) Le Palindrome"
   ]
  },
  {
   "cell_type": "code",
   "execution_count": 12,
   "metadata": {
    "collapsed": false
   },
   "outputs": [
    {
     "name": "stdout",
     "output_type": "stream",
     "text": [
      "Donner un mot : ER5R5\n",
      "ER5R5 n'est pas un palindrome\n"
     ]
    }
   ],
   "source": [
    "\"\"\"\n",
    "Programme : estPalindrome(unMot)                  \n",
    "Objectif : test de Palindrome         \n",
    "\n",
    "Entrée : unMot, STR contenant une chaine de charactères\n",
    "\n",
    "Sortie : True or False (Booléen) \n",
    "\n",
    "@auteur : VF                  \n",
    "\"\"\"\n",
    "\n",
    "def estPalindrome(unMot):\n",
    "    # Declaration des Variables locales\n",
    "    estPal = True \n",
    "    l = len(unMot)\n",
    "    d = 0\n",
    "    # On compare les lettres symétriques par rapport au milieu du mot de longueur l\n",
    "    # qui ont pour indices [d] et [l-1-d], le parcours s'effectue tant que les lettres\n",
    "    # comparées sont égales et que le milieu n'est pas atteint \n",
    "    while estPal and d < l/2:\n",
    "        if unMot[d] == unMot[l-1-d]: d += 1\n",
    "        else: estPal = False\n",
    "    return estPal\n",
    "####################################################\n",
    "# Test de la fonction\n",
    "mot = input(\"Donner un mot : \") \n",
    "# Boucle conditionnelle\n",
    "if estPalindrome(mot):\n",
    "    print(mot, \"est un palindrome\")\n",
    "else: \n",
    "    print(mot, \"n'est pas un palindrome\")\n"
   ]
  },
  {
   "cell_type": "markdown",
   "metadata": {},
   "source": [
    "## 2.2) Le test d'Héron d'Alexandrie"
   ]
  },
  {
   "cell_type": "code",
   "execution_count": 13,
   "metadata": {
    "collapsed": false,
    "scrolled": true
   },
   "outputs": [
    {
     "name": "stdout",
     "output_type": "stream",
     "text": [
      "Première estimation de la racine de 42.0 : 7\n",
      "6.48074069840786\n"
     ]
    }
   ],
   "source": [
    "def RacineCarree(unNombre_Carre,unNombre_Estimateur):\n",
    "    # Declaration des Variables locales\n",
    "    EPS = 0.0000000000001 # précision\n",
    "    val = unNombre_Carre\n",
    "    racCarreeVal = unNombre_Estimateur\n",
    "    \n",
    "    while racCarreeVal * racCarreeVal - val < -EPS or \\\n",
    "          racCarreeVal * racCarreeVal - val > EPS:\n",
    "        # la valeur absolue de la différence est supérieure à un seuil \n",
    "          racCarreeVal = (racCarreeVal + val / racCarreeVal) / 2\n",
    "    return racCarreeVal\n",
    "####################################################\n",
    "# Test de la fonction\n",
    "unNombre_Carre = 42\n",
    "unNombre_Carre=float(unNombre_Carre)\n",
    "unNombre_Estimateur = input(\"Première estimation de la racine de {} : \".format(unNombre_Carre))\n",
    "unNombre_Estimateur=float(unNombre_Estimateur)\n",
    "print(RacineCarree(unNombre_Carre,unNombre_Estimateur))"
   ]
  },
  {
   "cell_type": "code",
   "execution_count": 14,
   "metadata": {
    "collapsed": false,
    "scrolled": true
   },
   "outputs": [
    {
     "data": {
      "text/plain": [
       "6.48074069840786"
      ]
     },
     "execution_count": 14,
     "metadata": {},
     "output_type": "execute_result"
    }
   ],
   "source": [
    "42**(1/2)"
   ]
  },
  {
   "cell_type": "code",
   "execution_count": 15,
   "metadata": {
    "collapsed": false
   },
   "outputs": [
    {
     "data": {
      "text/plain": [
       "6.48074069840786"
      ]
     },
     "execution_count": 15,
     "metadata": {},
     "output_type": "execute_result"
    }
   ],
   "source": [
    "from math import sqrt\n",
    "sqrt(42)"
   ]
  },
  {
   "cell_type": "markdown",
   "metadata": {},
   "source": [
    "## 2.3) Les annees bisextiles"
   ]
  },
  {
   "cell_type": "code",
   "execution_count": 16,
   "metadata": {
    "collapsed": false
   },
   "outputs": [
    {
     "name": "stdout",
     "output_type": "stream",
     "text": [
      "[1992, 1996, 2000, 2004, 2008, 2012, 2016, 2020]\n"
     ]
    }
   ],
   "source": [
    "def Annees_Bissextiles(annee_debut,annee_fin):\n",
    "    bissextile=[]\n",
    "    for b in range(annee_debut,annee_fin+1): \n",
    "                     if ((b % 4 == 0) and (b % 100 != 0)) or (b % 400 == 0):\n",
    "                         bissextile.append(b)\n",
    "    return bissextile\n",
    "####################################################\n",
    "annees_a_28_fevrier=Annees_Bissextiles(1992,2021)\n",
    "print(annees_a_28_fevrier)"
   ]
  }
 ],
 "metadata": {
  "anaconda-cloud": {},
  "kernelspec": {
   "display_name": "Python [Root]",
   "language": "python",
   "name": "Python [Root]"
  },
  "language_info": {
   "codemirror_mode": {
    "name": "ipython",
    "version": 3
   },
   "file_extension": ".py",
   "mimetype": "text/x-python",
   "name": "python",
   "nbconvert_exporter": "python",
   "pygments_lexer": "ipython3",
   "version": "3.5.1"
  }
 },
 "nbformat": 4,
 "nbformat_minor": 0
}
