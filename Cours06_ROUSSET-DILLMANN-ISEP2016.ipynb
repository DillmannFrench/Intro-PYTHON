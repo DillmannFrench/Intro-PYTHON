{
 "cells": [
  {
   "cell_type": "markdown",
   "metadata": {},
   "source": [
    "# Exercices DM2\n",
    "\n",
    "Pour les 3 exercices suivants, votre tâche est donc :\n",
    "\n",
    "- simplifier le code de la fonction en ajoutant une ou plusieurs sous-fonctions.\n",
    "- essayer de renommer la fonction et ses variables pour la rendre plus compréhensible selon les critères de documentation vu lors du premier DM\n",
    "\n",
    "Il n'y a pas de choix unique pour la sous-fonction, un bon choix pouvant être caractérisé par le fait que la sous-fonction ait plusieurs lignes de codes, que son nom résume bien son action et qu'elle soit bien documentée."
   ]
  },
  {
   "cell_type": "markdown",
   "metadata": {},
   "source": [
    "## Exercice n°1"
   ]
  },
  {
   "cell_type": "code",
   "execution_count": 1,
   "metadata": {
    "collapsed": true
   },
   "outputs": [],
   "source": [
    "## n est forcément un entier supérieur ou égal à 1\n",
    "def f1(n):\n",
    "    a = True\n",
    "    k = 2\n",
    "    while (k < n) and a:\n",
    "        if n % k == 0:\n",
    "            a = False\n",
    "        k = k + 1\n",
    "    if a:\n",
    "        print(n)\n",
    "        return\n",
    "    \n",
    "    while n != 1:\n",
    "        k = 2\n",
    "        while k <= n:\n",
    "            if n % k == 0:\n",
    "                n = n // k\n",
    "                print(k, end = ' ')\n",
    "                k = n \n",
    "            k = k + 1\n",
    "    "
   ]
  },
  {
   "cell_type": "markdown",
   "metadata": {},
   "source": [
    "Quelques exemples, les résultats ne doivent pas changer (à noter que les consignes sont que le résultat de la fonction ne doit pas changer quelque soit les données d'entrée, pas seulement ces exemples)"
   ]
  },
  {
   "cell_type": "markdown",
   "metadata": {},
   "source": [
    "#### Exemple n°1 : affiche 2 2 2 3 5"
   ]
  },
  {
   "cell_type": "code",
   "execution_count": 2,
   "metadata": {
    "collapsed": false
   },
   "outputs": [
    {
     "name": "stdout",
     "output_type": "stream",
     "text": [
      "2 2 2 3 5 "
     ]
    }
   ],
   "source": [
    "f1(120)"
   ]
  },
  {
   "cell_type": "markdown",
   "metadata": {},
   "source": [
    "#### Exemple n°2 : affiche 13 13"
   ]
  },
  {
   "cell_type": "code",
   "execution_count": 3,
   "metadata": {
    "collapsed": false
   },
   "outputs": [
    {
     "name": "stdout",
     "output_type": "stream",
     "text": [
      "13 13 "
     ]
    }
   ],
   "source": [
    "f1(169)"
   ]
  },
  {
   "cell_type": "markdown",
   "metadata": {},
   "source": [
    "## Exercice n°2\n",
    "\n",
    "Un nom de la fonction qui indique ce qu'elle fait, c'est déjà la garantie de:\n",
    "- Un début de documention\n",
    "- Un moyen de retenir comment \"invoquer la fonction\"\n",
    "- Une garantie de ce que l'on ne va pas empiéter sur les fonction système déjà existantes "
   ]
  },
  {
   "cell_type": "code",
   "execution_count": 4,
   "metadata": {
    "collapsed": false
   },
   "outputs": [],
   "source": [
    "import random\n",
    "\n",
    "def simulation_boursiere(c, nb_semaine, v ):\n",
    "    nb_jours_ouvres = 5\n",
    "    for it_semaine in range(nb_semaine):\n",
    "        for it in range(nb_jours_ouvres):\n",
    "            ## La fonction random renvoit un nombre \"pseudo-aléatoire\" entre 0 et 1.0\n",
    "            c = (c + v*(random.random()-0.5))*(1 + 0.001*(random.random() - 0.5))\n",
    "            if c < 0:\n",
    "                c = 0\n",
    "        print( \"Cours semaine\", it_semaine, \":\", c )\n",
    "\n"
   ]
  },
  {
   "cell_type": "markdown",
   "metadata": {},
   "source": [
    "#### Exemple n°1 : cette cellule affiche 5 lignes, et pourrai afficher des valeurs comparables à celles-ci :\n",
    "\n",
    "~~~\n",
    "Cours semaine 0 : 105.34681237564352  \n",
    "Cours semaine 1 : 115.73138361821448  \n",
    "Cours semaine 2 : 121.08482256990295  \n",
    "Cours semaine 3 : 124.42344691023956  \n",
    "Cours semaine 4 : 115.73450285503783  \n",
    "~~~\n",
    "\n",
    "A noter si l'on veux absolument les mêmes valeurs, on peut biaiser la fonction random par la méthode seed :\n",
    "l'instruction random.seed(0) permet de garantir la \"reproductibilité\" des résultats."
   ]
  },
  {
   "cell_type": "code",
   "execution_count": 5,
   "metadata": {
    "collapsed": false
   },
   "outputs": [
    {
     "name": "stdout",
     "output_type": "stream",
     "text": [
      "Cours semaine 0 : 105.34681237564352\n",
      "Cours semaine 1 : 115.73138361821448\n",
      "Cours semaine 2 : 121.08482256990295\n",
      "Cours semaine 3 : 124.42344691023956\n",
      "Cours semaine 4 : 115.73450285503783\n"
     ]
    }
   ],
   "source": [
    "import random\n",
    "random.seed(0)\n",
    "simulation_boursiere(100, 5, 10 )"
   ]
  },
  {
   "cell_type": "markdown",
   "metadata": {},
   "source": [
    "#### Exemple n°2 : cette cellule doit afficher :\n",
    "\n",
    "~~~\n",
    "Cours semaine 0 : 32.07693325674235  \n",
    "Cours semaine 1 : 18.53044918097587  \n",
    "Cours semaine 2 : 17.872444811843824  \n",
    "Cours semaine 3 : 12.672627612782238\n",
    "Cours semaine 4 : 17.60190600299601\n",
    "Cours semaine 5 : 14.681739640999766\n",
    "Cours semaine 6 : 33.99446314175473\n",
    "Cours semaine 7 : 22.772097693761907\n",
    "Cours semaine 8 : 0\n",
    "Cours semaine 9 : 9.272486028487437\n",
    "~~~\n",
    "\n",
    "A noter le random.seed(7) qui permet de garantir la reproductabilité des résultats, même avec une génération de variable aléatoire"
   ]
  },
  {
   "cell_type": "code",
   "execution_count": 6,
   "metadata": {
    "collapsed": false
   },
   "outputs": [
    {
     "name": "stdout",
     "output_type": "stream",
     "text": [
      "Cours semaine 0 : 32.07693325674235\n",
      "Cours semaine 1 : 18.53044918097587\n",
      "Cours semaine 2 : 17.872444811843824\n",
      "Cours semaine 3 : 12.672627612782238\n",
      "Cours semaine 4 : 17.60190600299601\n",
      "Cours semaine 5 : 14.681739640999766\n",
      "Cours semaine 6 : 33.99446314175473\n",
      "Cours semaine 7 : 22.772097693761907\n",
      "Cours semaine 8 : 0\n",
      "Cours semaine 9 : 9.272486028487437\n"
     ]
    }
   ],
   "source": [
    "import random\n",
    "random.seed(7)\n",
    "simulation_boursiere(50, 10, 20 )"
   ]
  },
  {
   "cell_type": "markdown",
   "metadata": {},
   "source": [
    "## Exercice n°3"
   ]
  },
  {
   "cell_type": "code",
   "execution_count": 7,
   "metadata": {
    "collapsed": true
   },
   "outputs": [],
   "source": [
    "def f(y0,vy0,tm,dt):\n",
    "    g = 9.8\n",
    "    cf_air = 0.001\n",
    "    t = 0\n",
    "    vy = vy0\n",
    "    y = 0\n",
    "    while t <= tm:\n",
    "        vy = vy - g*dt\n",
    "        if vy > 0:\n",
    "            vy = vy - cf_air*vy**2*dt\n",
    "        else:\n",
    "            vy = vy + cf_air*vy**2*dt\n",
    "        y = y + vy*dt\n",
    "        if y < 0:\n",
    "            y = 0\n",
    "            vy = -vy\n",
    "        \n",
    "        ## int est la conversion en entier\n",
    "        ## pour un nombre à virgule flottante, c'est arrondi par défaut\n",
    "        if int(t) != int(t+dt):\n",
    "            print(\"t: {0:>3.0f}, vy: {1:>7.2f}, y: {2:>7.2f}, e: {3:>7.1f} \".format(t+dt, vy,y,0.5*vy**2 + g*y)) \n",
    "        t = t + dt\n",
    "        "
   ]
  },
  {
   "cell_type": "markdown",
   "metadata": {},
   "source": [
    "#### Exemple n°1 : cette cellule doit afficher :\n",
    "\n",
    "~~~\n",
    "t:   1, vy:   81.93, y:   89.77, e:  4235.7 \n",
    "t:   2, vy:   68.08, y:  156.44, e:  3850.4 \n",
    "t:   3, vy:   54.56, y:  216.94, e:  3614.3 \n",
    "t:   4, vy:   42.44, y:  264.74, e:  3494.9 \n",
    "t:   5, vy:   30.23, y:  304.01, e:  3436.3 \n",
    "t:   6, vy:   19.82, y:  328.47, e:  3415.5 \n",
    "t:   7, vy:    9.81, y:  342.76, e:  3407.2 \n",
    "t:   8, vy:   -0.02, y:  347.16, e:  3402.2 \n",
    "t:   9, vy:   -9.78, y:  341.76, e:  3397.1 \n",
    "t:  10, vy:  -19.35, y:  326.70, e:  3388.8\n",
    "~~~"
   ]
  },
  {
   "cell_type": "code",
   "execution_count": 9,
   "metadata": {
    "collapsed": false
   },
   "outputs": [
    {
     "name": "stdout",
     "output_type": "stream",
     "text": [
      "t:   1, vy:   81.93, y:   89.77, e:  4235.7 \n",
      "t:   2, vy:   68.08, y:  156.44, e:  3850.4 \n",
      "t:   3, vy:   54.56, y:  216.94, e:  3614.3 \n",
      "t:   4, vy:   42.44, y:  264.74, e:  3494.9 \n",
      "t:   5, vy:   30.23, y:  304.01, e:  3436.3 \n",
      "t:   6, vy:   19.82, y:  328.47, e:  3415.5 \n",
      "t:   7, vy:    9.81, y:  342.76, e:  3407.2 \n",
      "t:   8, vy:   -0.02, y:  347.16, e:  3402.2 \n",
      "t:   9, vy:   -9.78, y:  341.76, e:  3397.1 \n",
      "t:  10, vy:  -19.35, y:  326.70, e:  3388.8 \n"
     ]
    }
   ],
   "source": [
    "f(200,-100,10,0.1)"
   ]
  },
  {
   "cell_type": "markdown",
   "metadata": {},
   "source": [
    "Notez bien : *Le Pur Hazard, ne se trouve pas purement par hazard*"
   ]
  },
  {
   "cell_type": "code",
   "execution_count": null,
   "metadata": {
    "collapsed": true
   },
   "outputs": [],
   "source": []
  }
 ],
 "metadata": {
  "anaconda-cloud": {},
  "kernelspec": {
   "display_name": "Python [Root]",
   "language": "python",
   "name": "Python [Root]"
  },
  "language_info": {
   "codemirror_mode": {
    "name": "ipython",
    "version": 3
   },
   "file_extension": ".py",
   "mimetype": "text/x-python",
   "name": "python",
   "nbconvert_exporter": "python",
   "pygments_lexer": "ipython3",
   "version": "3.5.1"
  }
 },
 "nbformat": 4,
 "nbformat_minor": 1
}
