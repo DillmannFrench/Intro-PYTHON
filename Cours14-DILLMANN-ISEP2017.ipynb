{
 "cells": [
  {
   "cell_type": "markdown",
   "metadata": {},
   "source": [
    "# Corrections et révisions"
   ]
  },
  {
   "cell_type": "markdown",
   "metadata": {
    "collapsed": false
   },
   "source": [
    "## Nom de variables et type"
   ]
  },
  {
   "cell_type": "code",
   "execution_count": 1,
   "metadata": {
    "collapsed": true
   },
   "outputs": [],
   "source": [
    "def tronquer_1( l ):\n",
    "    return l[1:]\n"
   ]
  },
  {
   "cell_type": "code",
   "execution_count": 2,
   "metadata": {
    "collapsed": false
   },
   "outputs": [
    {
     "data": {
      "text/plain": [
       "[2, 3]"
      ]
     },
     "execution_count": 2,
     "metadata": {},
     "output_type": "execute_result"
    }
   ],
   "source": [
    "l=[1,2,3]\n",
    "tronquer_1(l)"
   ]
  },
  {
   "cell_type": "markdown",
   "metadata": {},
   "source": [
    "Donc attention aux nom donné aux paramêtres formels, il peut être aussi utile de se premunir contre des fautes, en utilisant la commande **try** qui permet la gestion des exceptions"
   ]
  },
  {
   "cell_type": "code",
   "execution_count": 3,
   "metadata": {
    "collapsed": true
   },
   "outputs": [],
   "source": [
    "def tronquer_liste( ma_liste ):\n",
    "    try:\n",
    "        return ma_liste[1:]\n",
    "    except TypeError:\n",
    "        print(\"Cette fonction n'accepte que des listes ou des chaînes de caractères\")"
   ]
  },
  {
   "cell_type": "code",
   "execution_count": 4,
   "metadata": {
    "collapsed": false
   },
   "outputs": [
    {
     "data": {
      "text/plain": [
       "[2, 3]"
      ]
     },
     "execution_count": 4,
     "metadata": {},
     "output_type": "execute_result"
    }
   ],
   "source": [
    "l=[1,2,3]\n",
    "tronquer_liste(l)"
   ]
  },
  {
   "cell_type": "markdown",
   "metadata": {},
   "source": [
    "## Chaînes et Listes"
   ]
  },
  {
   "cell_type": "markdown",
   "metadata": {},
   "source": [
    "### Erreurs classiques sur les Chaines de caractères"
   ]
  },
  {
   "cell_type": "markdown",
   "metadata": {},
   "source": [
    "A list comprehension can be used inside a **str**, but sometimes it is dangerous to look for too compact solutions. \n",
    "\n",
    "> Ici la mauvaise utilisation d'une liste de comprehension est la raison du problème\n"
   ]
  },
  {
   "cell_type": "code",
   "execution_count": 5,
   "metadata": {
    "collapsed": false
   },
   "outputs": [
    {
     "name": "stdout",
     "output_type": "stream",
     "text": [
      "cha\n"
     ]
    }
   ],
   "source": [
    "def extraire_avant_premier(s):\n",
    "    return s[ : str.find(s,\",\") ]\n",
    "\n",
    "print( extraire_avant_premier(\"chat\") ) ## cha"
   ]
  },
  {
   "cell_type": "markdown",
   "metadata": {},
   "source": [
    "> En cherchant une solution plus détaillé, on peut inclure un *test conditionnel*"
   ]
  },
  {
   "cell_type": "code",
   "execution_count": 6,
   "metadata": {
    "collapsed": false,
    "scrolled": false
   },
   "outputs": [
    {
     "name": "stdout",
     "output_type": "stream",
     "text": [
      "chat\n"
     ]
    }
   ],
   "source": [
    "def extraire_avant_premier(s):\n",
    "    if str.find(s,\",\") == -1:\n",
    "        return s\n",
    "    return s[ : str.find(s,\",\") ]\n",
    "\n",
    "print( extraire_avant_premier(\"chat\") ) ## Affiche chat"
   ]
  },
  {
   "cell_type": "markdown",
   "metadata": {},
   "source": [
    "> On peut également utiliser une déclaration comme **try** on appelle cela un *catch*"
   ]
  },
  {
   "cell_type": "markdown",
   "metadata": {
    "collapsed": true
   },
   "source": [
    "On peut utiliser un catch de ZeroDivisionError"
   ]
  },
  {
   "cell_type": "code",
   "execution_count": 7,
   "metadata": {
    "collapsed": false
   },
   "outputs": [
    {
     "name": "stdout",
     "output_type": "stream",
     "text": [
      "chat\n"
     ]
    }
   ],
   "source": [
    "def extraire_avant_premier(s):\n",
    "    try: \n",
    "        1/(1+str.find(s,\",\"))\n",
    "        return s[ : str.find(s,\",\") ]\n",
    "    except ZeroDivisionError:\n",
    "        return s\n",
    "\n",
    "print( extraire_avant_premier(\"chat, chien\") ) ## Affiche chat"
   ]
  },
  {
   "cell_type": "markdown",
   "metadata": {},
   "source": [
    "### Les chaines de caractères, sont d'abord utiles pour retravailler la présentation d'un tableau"
   ]
  },
  {
   "cell_type": "code",
   "execution_count": 8,
   "metadata": {
    "collapsed": true
   },
   "outputs": [],
   "source": [
    "def completer_2(s,n):\n",
    "    return(s.ljust(n,' '))"
   ]
  },
  {
   "cell_type": "markdown",
   "metadata": {},
   "source": [
    "> dans cet exemple on va faire l'appel"
   ]
  },
  {
   "cell_type": "code",
   "execution_count": 9,
   "metadata": {
    "collapsed": false
   },
   "outputs": [
    {
     "name": "stdout",
     "output_type": "stream",
     "text": [
      "DE SAINT-EXUPERY          present !\n",
      "CAMUS                     c'est moi\n"
     ]
    }
   ],
   "source": [
    "Mon_Nom1 = 'DE SAINT-EXUPERY'\n",
    "Mon_Nom2 = 'CAMUS'\n",
    "#? Mon_Nom.ljust\n",
    "print(Mon_Nom1.ljust(25,' '),'present !')\n",
    "print(Mon_Nom2.ljust(25,' '),\"c'est moi\")"
   ]
  },
  {
   "cell_type": "markdown",
   "metadata": {},
   "source": [
    "# Erreurs classiques sur les listes"
   ]
  },
  {
   "cell_type": "code",
   "execution_count": 10,
   "metadata": {
    "collapsed": false
   },
   "outputs": [
    {
     "name": "stdout",
     "output_type": "stream",
     "text": [
      "[2, 3]\n",
      "[2, 3]\n"
     ]
    }
   ],
   "source": [
    "#Les Delistes\n",
    "def tronquer_2(n):\n",
    "    if n== []:\n",
    "        return []\n",
    "    else:\n",
    "        del n[0]\n",
    "        return  n\n",
    "liste_1 = [1,2,3]\n",
    "liste_2 = tronquer_2( liste_1 )\n",
    "print( liste_1 ) ## affiche [2,3]\n",
    "print( liste_2 ) ## affiche [2,3]"
   ]
  },
  {
   "cell_type": "code",
   "execution_count": 11,
   "metadata": {
    "collapsed": false
   },
   "outputs": [
    {
     "name": "stdout",
     "output_type": "stream",
     "text": [
      "[2, 3]\n",
      "[2, 3]\n"
     ]
    }
   ],
   "source": [
    "#Les Popistes\n",
    "def tronquer_2(a):\n",
    "    if a == [] :\n",
    "        return []\n",
    "    a.pop(0)\n",
    "    return a\n",
    "\n",
    "liste_1 = [1,2,3]\n",
    "liste_2 = tronquer_2( liste_1 )\n",
    "print( liste_1 ) ## affiche [2,3]\n",
    "print( liste_2 ) ## affiche [2,3]"
   ]
  },
  {
   "cell_type": "markdown",
   "metadata": {},
   "source": [
    "# Visualisation d'un phénomène physique"
   ]
  },
  {
   "cell_type": "markdown",
   "metadata": {},
   "source": [
    "## Visualisation d'un phénomène physique"
   ]
  },
  {
   "cell_type": "markdown",
   "metadata": {},
   "source": [
    "$$B(x)=\\frac{\\mu_o}{4\\pi}.I_o.\\frac{r^2}{2 (r^2 +x^2)^{3/2} }$$"
   ]
  },
  {
   "cell_type": "markdown",
   "metadata": {},
   "source": [
    "L'equation de Biot-et-Savart"
   ]
  },
  {
   "cell_type": "code",
   "execution_count": 12,
   "metadata": {
    "collapsed": false
   },
   "outputs": [],
   "source": [
    "# -*- coding: utf-8 -*-\n",
    "\n",
    "\n",
    "import numpy as np\n",
    "\n",
    "# Constantes\n",
    "my0=4*np.pi*1e-7;   # permeabilite du vide \n",
    "I0=-1;              # intensité du courant\n",
    "                    # le courant circule de gauche a droite\n",
    "\n",
    "# Dimensions\n",
    "d=25*1e-3 # Diametre de la spire (m)\n",
    "r=d/2 # rayon de la spire (m)\n",
    "segments=100 # discretisation de la spire\n",
    "alpha = 2*np.pi/(segments-1) # discretisation de l'angle \n",
    "\n",
    "# initialisation de la spire\n",
    "x=[i*0 for i in range(segments)]\n",
    "y=[r*np.sin(i*alpha) for i in range(segments)]\n",
    "z=[-r*np.cos(i*alpha) for i in range(segments)]\n",
    "\n"
   ]
  },
  {
   "cell_type": "code",
   "execution_count": 13,
   "metadata": {
    "collapsed": true
   },
   "outputs": [],
   "source": [
    "# Definition du sens du positif du courant : gauche -> droite\n",
    "# pour le calcul les longeurs sont exprimees en m\n",
    "\n",
    "x_spire=np.array([x]);\n",
    "y_spire=np.array([y]);\n",
    "z_spire=np.array([z]);\n"
   ]
  },
  {
   "cell_type": "code",
   "execution_count": 14,
   "metadata": {
    "collapsed": false,
    "scrolled": true
   },
   "outputs": [
    {
     "data": {
      "image/png": "[encoded data removed]",
      "text/plain": [
       "<matplotlib.figure.Figure at 0xaf5a816c>"
      ]
     },
     "metadata": {},
     "output_type": "display_data"
    }
   ],
   "source": [
    "%matplotlib inline\n",
    "\n",
    "#%%%%%%%%%%%%%%%       Affichage de la spire en 3D   %%%%%%%%%%%%%%%%#\n",
    "\n",
    "\n",
    "from mpl_toolkits.mplot3d import Axes3D\n",
    "import matplotlib.pyplot as plt\n",
    "import matplotlib.patches as patches\n",
    "\n",
    "fig = plt.figure()\n",
    "ax = fig.gca(projection='3d')\n",
    "\n",
    "#titre du graphe\n",
    "plt.title ('Simulation numerique d une spire', color='b')\n",
    "            \n",
    "\n",
    "# spire\n",
    "plt.plot(y_spire [0], z_spire[0],  'g.',  linewidth=1, label='spire')\n",
    "plt.plot(y_spire, z_spire,  'g.',  linewidth=1)\n",
    "\n",
    "# vecteur champ magnetique Bx\n",
    "plt.plot(([0.003,0.003]),([0,0]),([-.05,0.05]), 'b-',label='axe de la spire',linewidth=1)\n",
    "plt.plot(([0.003,0.003]),([0,0]),([-.01,0.02]), 'm-',label='champ magnetique',linewidth=1)\n",
    "plt.plot([0.003],[0],[0.025], 'm', marker='^', linewidth=2)\n",
    "ax.text(0.004,0,0,'Bx', color='m')\n",
    "\n",
    "#courant\n",
    "plt.plot([0],[0.0125],[0], 'r', marker='<')\n",
    "ax.text(0,0.0125,0.01,'I', color='r')\n",
    "\n",
    "#legende du graphe\n",
    "plt.legend (loc='lower left', prop={'size':8})\n",
    "\n",
    "plt.show()\n",
    "\n"
   ]
  },
  {
   "cell_type": "code",
   "execution_count": 15,
   "metadata": {
    "collapsed": false
   },
   "outputs": [],
   "source": [
    "#%%%%%%%%%% Calcul du champ magnetique d apres Biot et Savart\n",
    "\n",
    "\n",
    "ndp=50 # Nombre de points\n",
    "\n",
    "# limites x\n",
    "xmin,xmax=-0.05,0.05\n",
    "\n",
    "# limites y\n",
    "ymin, ymax=-0.05, 0.05\n",
    "\n",
    "# limites z\n",
    "zmin, zmax=-0.05,0.05\n",
    "\n",
    "dx=(xmax-xmin)/(ndp-1) #increment x\n",
    "dy=(ymax-ymin)/(ndp-1) # increment y\n",
    "dz=(zmax-zmin)/(ndp-1) # increment z\n"
   ]
  },
  {
   "cell_type": "code",
   "execution_count": 16,
   "metadata": {
    "collapsed": false
   },
   "outputs": [],
   "source": [
    "\n",
    "#%%%%%%%%%%%%%%%        Calcul magnetostatique    %%%%%%%%%%%%%%%%%%%%%%%%%%%#\n",
    "\n",
    "bxf=np.zeros(ndp)  # initialisation de la composante  Bx du champ \n",
    "byf=np.zeros(ndp)  # initialisation de la composante  By du champ\n",
    "bzf=np.zeros(ndp)  # initialisation de la composante  Bz du champ\n",
    "\n",
    "I0f1=my0*I0/(4*np.pi) # Magnetostatique (on multiplie le courant \n",
    "                      #I0 par mu0/(4.pi))\n",
    "\n",
    "# Integration du champ induit en un point de l'axe bleu\n",
    "# par le courant circulant sur chaque segment de la spire verte\n",
    "\n",
    "bfx,bfy,bfz=0,0,0\n",
    "\n",
    "nseg=np.size(z_spire)-1\n",
    "\n",
    "for i in range(ndp):\n",
    "    #Initialisation des positions\n",
    "    xM=(xmin+i*dx)\n",
    "    yM,zM=0,0\n",
    "  \n",
    "    #Initialisation des champs locaux   \n",
    "    bfx,bfy,bfz=0,0,0\n",
    "    \n",
    "    R=np.array([xM,yM,zM])\n",
    "    # vecteur position sur \n",
    "    # le point qui doit etre calcule\n",
    "    # en integrant la contribution \n",
    "    # de tous les courants le long\n",
    "    # de la boucle verte\n",
    "    for wseg in range(nseg):\n",
    "            xs=x_spire[0][wseg]\n",
    "            ys=y_spire[0][wseg]\n",
    "            zs=z_spire[0][wseg]\n",
    "        \n",
    "            Rs=np.array([xs, ys, zs])\n",
    "        \n",
    "            drsx=(x_spire[0][wseg+1]-x_spire[0][wseg])\n",
    "            drsy=(y_spire[0][wseg+1]-y_spire[0][wseg])\n",
    "            drsz=(z_spire[0][wseg+1]-z_spire[0][wseg])\n",
    "    \n",
    "            drs=np.array([drsx, drsy, drsz])\n",
    "            #direction du courant\n",
    "        \n",
    "            Delta_R= Rs - R\n",
    "            #vecteur entre l'élement de spire et \n",
    "            #le point où est calcul le champ\n",
    " \n",
    "            Delta_Rdist=np.sqrt(Delta_R[0]**2+Delta_R[1]**2+Delta_R[2]**2)\n",
    "        \n",
    "            #Delta_Rdis2=Delta_Rdist**2\n",
    "            Delta_Rdis3=Delta_Rdist**3\n",
    "        \n",
    "            b2=1.0/Delta_Rdis3\n",
    "            b12=I0f1*b2*(-1)\n",
    "        \n",
    "            # Produit vectoriel\n",
    "            Delta_Rxdrs_x=Delta_R[1]*drsz-Delta_R[2]*drsy\n",
    "            Delta_Rxdrs_y=Delta_R[2]*drsx-Delta_R[0]*drsz\n",
    "            Delta_Rxdrs_z=Delta_R[0]*drsy-Delta_R[1]*drsx\n",
    "        \n",
    "            #Intégration\n",
    "            bfx=bfx+b12*Delta_Rxdrs_x\n",
    "            bfy=bfy+b12*Delta_Rxdrs_y\n",
    "            bfz=bfz+b12*Delta_Rxdrs_z\n",
    "        \n",
    "# Il faut utiliser un champ defini comme 3 listes :\n",
    "# une liste pour chaque abscisse      \n",
    "    bxf[i]+=bfx\n",
    "    byf[i]+=bfy\n",
    "    bzf[i]+=bfz\n",
    "\n"
   ]
  },
  {
   "cell_type": "code",
   "execution_count": 17,
   "metadata": {
    "collapsed": false
   },
   "outputs": [],
   "source": [
    "\n",
    "#%%%%%%%%%%%  Modele Theorique   %%%%%%%%%%%%%%%%%%#\n",
    "#r=d/2;    # rayon de la spire en mm\n",
    "#r=r*1e-3; # rayon de la spire en m\n",
    "#valeur absolue de la composante Bx du champ magnetique en fonction de la position sur l axe de la spire\n",
    "bx_analytique=[abs(my0*I0)*(r)**2/(2*((r)**2+(x)**2)**(3/2)) for x in np.linspace(xmin, xmax, ndp, endpoint = True)]\n"
   ]
  },
  {
   "cell_type": "code",
   "execution_count": 18,
   "metadata": {
    "collapsed": false,
    "scrolled": true
   },
   "outputs": [
    {
     "data": {
      "text/plain": [
       "<matplotlib.text.Text at 0xaea4e52c>"
      ]
     },
     "execution_count": 18,
     "metadata": {},
     "output_type": "execute_result"
    },
    {
     "data": {
      "image/png": "[encoded data removed]",
      "text/plain": [
       "<matplotlib.figure.Figure at 0xaf59cd8c>"
      ]
     },
     "metadata": {},
     "output_type": "display_data"
    }
   ],
   "source": [
    "#%%%%%%%%%%%  Visualisation %%%%%%%%%%%%%%%%%%%%%%%#\n",
    "\n",
    "#trace de la valeur absolue de la composante Bx du champ magnetique en fonction de x \n",
    "plt.plot(np.linspace(xmin, xmax, ndp, endpoint = True) , bxf,'bo')\n",
    "plt.plot(np.linspace(xmin, xmax, ndp, endpoint = True) , bx_analytique,'r-')\n",
    "plt.title ('Champ magnetique Bx le long de l axe Ox de la spire', color='b')\n",
    "plt.xlabel('position sur l axe Ox', color='b')\n",
    "plt.ylabel ('Bx', color='b')"
   ]
  },
  {
   "cell_type": "code",
   "execution_count": 19,
   "metadata": {
    "collapsed": false,
    "scrolled": true
   },
   "outputs": [
    {
     "data": {
      "image/png": "[encoded data removed]",
      "text/plain": [
       "<matplotlib.figure.Figure at 0xae7b8ccc>"
      ]
     },
     "metadata": {},
     "output_type": "display_data"
    }
   ],
   "source": [
    "#etude de la composante bx1 du champ magnetique en differents points du plan xOy\n",
    "\n",
    "\n",
    "#initialisation du champ magnétique bx1\n",
    "bx1=0\n",
    "by1=0\n",
    "#Initialisation de l energie\n",
    "Em=0\n",
    "Emf=0\n",
    "\n",
    "#Indice pour les listes\n",
    "l=0\n",
    "\n",
    "#ndp-1 intervalles\n",
    "ndp1=41\n",
    "\n",
    "#### pour verification de Bx sur l'axe Ox avec yM,zM=0,0\n",
    "##BD seul cas ou la comparaison analytique est possible\n",
    "####\n",
    "\n",
    "#initialisation des listes des coordonnees des points\n",
    "s = (ndp1,ndp1)\n",
    "\n",
    "xM1f=np.zeros(s)\n",
    "yM1f=np.zeros(s)\n",
    "#zM1f=np.zeros(ndp1*ndp1)\n",
    "u = np.zeros(s)\n",
    "X = np.zeros(s)\n",
    "Y = np.zeros(s)\n",
    "\n",
    "#initialisation de la liste des valeurs de la composante Bx1 en chaque point\n",
    "bx1f=np.zeros(s)\n",
    "#initialisation de la liste des valeurs de la composante By1 en chaque point \n",
    "by1f=np.zeros(s)\n",
    "#initialisation de la liste des valeurs de la composante By1 en chaque point \n",
    "bz1f=np.zeros(s)\n",
    "\n",
    "#calcul exact du coefficient b0 de l'integrale servant a calculer Bx\n",
    "#selon la formule: b0=mu0*I0*r/(2*pi)\n",
    "b0=2*10**(-7)*I0*r\n",
    "\n",
    "#coordonnees des points\n",
    "xM1f = np.linspace(-.03,.03,ndp1)\n",
    "yM1f = np.linspace(-.03,.03,ndp1)\n",
    "\n",
    "(X,Y) = np.meshgrid(xM1f,yM1f)\n",
    "\n",
    "#calcul de Bx1 en des points regulierement espaces du plan xoy autour de la spire\n",
    "##BD Physiquement ce calcul doit s'appuyer sur un modele numerique car l'equation analytique est injustifiable des que l'on est excentre\n",
    "#Initialisation des positions\n",
    "\n",
    "xM, yM,zM=0,0,0\n",
    "\n",
    "for i in range(ndp1):\n",
    "          \n",
    "    #Initialisation des champs locaux   \n",
    "    bfx,bfy,bfz=0,0,0\n",
    "    \n",
    "    \n",
    "    for j in range(ndp1):\n",
    "        \n",
    "        xM=X[i][j]\n",
    "        yM=Y[i][j]\n",
    "        \n",
    "        #Initialisation des champs locaux   \n",
    "        bfx,bfy,bfz=0,0,0\n",
    "    \n",
    "        R=np.array([xM,yM,zM])\n",
    "        # vecteur position sur \n",
    "        # le point qui doit etre calcule\n",
    "        # en integrant la contribution \n",
    "        # de tous les courants le long\n",
    "        # de la boucle verte\n",
    "        for wseg in range(nseg):\n",
    "            xs=x_spire[0][wseg]\n",
    "            ys=y_spire[0][wseg]\n",
    "            zs=z_spire[0][wseg]\n",
    "        \n",
    "            Rs=np.array([xs, ys, zs])\n",
    "        \n",
    "            drsx=(x_spire[0][wseg+1]-x_spire[0][wseg])\n",
    "            drsy=(y_spire[0][wseg+1]-y_spire[0][wseg])\n",
    "            drsz=(z_spire[0][wseg+1]-z_spire[0][wseg])\n",
    "    \n",
    "            drs=np.array([drsx, drsy, drsz])\n",
    "            #direction du courant\n",
    "        \n",
    "            Delta_R= Rs - R\n",
    "            #vecteur entre l'élement de spire et \n",
    "            #le point où est calcul le champ\n",
    " \n",
    "            Delta_Rdist=np.sqrt(Delta_R[0]**2+Delta_R[1]**2+Delta_R[2]**2)\n",
    "        \n",
    "            #Delta_Rdis2=Delta_Rdist**2\n",
    "            Delta_Rdis3=Delta_Rdist**3\n",
    "        \n",
    "            b2=1.0/Delta_Rdis3\n",
    "            b12=I0f1*b2*(-1)\n",
    "        \n",
    "            # Produit vectoriel\n",
    "            Delta_Rxdrs_x=Delta_R[1]*drsz-Delta_R[2]*drsy\n",
    "            Delta_Rxdrs_y=Delta_R[2]*drsx-Delta_R[0]*drsz\n",
    "            Delta_Rxdrs_z=Delta_R[0]*drsy-Delta_R[1]*drsx\n",
    "        \n",
    "            #Intégration\n",
    "            bfx=bfx+b12*Delta_Rxdrs_x\n",
    "            bfy=bfy+b12*Delta_Rxdrs_y\n",
    "            bfz=bfz+b12*Delta_Rxdrs_z\n",
    "            \n",
    "        # Il faut utiliser un champ defini comme 3 listes :\n",
    "        # une liste pour chaque abscisse      \n",
    "        bx1f[i][j]+=bfx\n",
    "        by1f[i][j]+=bfy\n",
    "        bz1f[i][j]+=bfz\n",
    "        \n",
    "\n",
    "\n",
    "        \n",
    "#tracé des vecteurs Bx en chaque point\n",
    "#tracé des vecteurs B dans le plan xOy pour vérifier les lignes de champ magnétique\n",
    "q = plt.quiver(X,Y,bx1f,by1f,color='r')\n",
    "plt.title ('Cartographie des composantes Bx,By dans le plan xOy',color='b')\n",
    "plt.xlabel ('axe y',color='b')\n",
    "plt.ylabel ('axe x',color='b')\n",
    "plt.show() "
   ]
  }
 ],
 "metadata": {
  "anaconda-cloud": {},
  "kernelspec": {
   "display_name": "Python [Root]",
   "language": "python",
   "name": "Python [Root]"
  },
  "language_info": {
   "codemirror_mode": {
    "name": "ipython",
    "version": 3
   },
   "file_extension": ".py",
   "mimetype": "text/x-python",
   "name": "python",
   "nbconvert_exporter": "python",
   "pygments_lexer": "ipython3",
   "version": "3.5.1"
  }
 },
 "nbformat": 4,
 "nbformat_minor": 0
}
