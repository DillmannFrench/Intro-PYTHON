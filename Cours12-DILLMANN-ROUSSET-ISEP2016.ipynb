{
 "cells": [
  {
   "cell_type": "markdown",
   "metadata": {},
   "source": [
    "# Intégration des algorithmes\n",
    "de l'intégration de boucles à la liste des premiers ou comment faire vite et bien !"
   ]
  },
  {
   "cell_type": "markdown",
   "metadata": {},
   "source": [
    "## Boucles Listes intégrés *List comprehension*"
   ]
  },
  {
   "cell_type": "markdown",
   "metadata": {},
   "source": [
    "Les *List Comprehensions* sont très utiles pour creer des listes qui obeissent à des rêgles simples rapidement "
   ]
  },
  {
   "cell_type": "code",
   "execution_count": 1,
   "metadata": {
    "collapsed": false
   },
   "outputs": [
    {
     "name": "stdout",
     "output_type": "stream",
     "text": [
      "[0, 1, 8, 27, 64]\n"
     ]
    }
   ],
   "source": [
    "cubes = [i**3 for i in range(5)]\n",
    "print(cubes)"
   ]
  },
  {
   "cell_type": "markdown",
   "metadata": {},
   "source": [
    " 1) ** Ecrivez une variable \"Ma_liste\" qui prends des nombres produits par 10, en partant d'un index allant de de 5 a 10**"
   ]
  },
  {
   "cell_type": "code",
   "execution_count": 2,
   "metadata": {
    "collapsed": true
   },
   "outputs": [],
   "source": [
    "Ma_liste= [x*10 for x in range(5,11)]"
   ]
  },
  {
   "cell_type": "code",
   "execution_count": 3,
   "metadata": {
    "collapsed": false
   },
   "outputs": [
    {
     "data": {
      "text/plain": [
       "[50, 60, 70, 80, 90, 100]"
      ]
     },
     "execution_count": 3,
     "metadata": {},
     "output_type": "execute_result"
    }
   ],
   "source": [
    "Ma_liste"
   ]
  },
  {
   "cell_type": "markdown",
   "metadata": {},
   "source": [
    " 2) **Creer une liste de multiples de 3 de 0 à 20:**"
   ]
  },
  {
   "cell_type": "code",
   "execution_count": 4,
   "metadata": {
    "collapsed": false
   },
   "outputs": [
    {
     "name": "stdout",
     "output_type": "stream",
     "text": [
      "[0, 3, 6, 9, 12, 15, 18]\n"
     ]
    }
   ],
   "source": [
    "res=[]\n",
    "for it in range(20):\n",
    "    if (it % 3 == 0): res += [it]\n",
    "print(res)"
   ]
  },
  {
   "cell_type": "code",
   "execution_count": 5,
   "metadata": {
    "collapsed": false
   },
   "outputs": [
    {
     "name": "stdout",
     "output_type": "stream",
     "text": [
      "[0, 3, 6, 9, 12, 15, 18]\n"
     ]
    }
   ],
   "source": [
    "a=[i for i in range(20) if i%3 == 0]\n",
    "print(a)"
   ]
  },
  {
   "cell_type": "markdown",
   "metadata": {},
   "source": [
    "3) **Creer une liste de nombre entiers impairs j'usqu'a 20:**"
   ]
  },
  {
   "cell_type": "code",
   "execution_count": 6,
   "metadata": {
    "collapsed": false
   },
   "outputs": [
    {
     "name": "stdout",
     "output_type": "stream",
     "text": [
      "[1, 3, 5, 7, 9, 11, 13, 15, 17, 19]\n"
     ]
    }
   ],
   "source": [
    "res=[]\n",
    "for it in range(20):\n",
    "    if (it % 2 != 0): res += [it]\n",
    "print(res)"
   ]
  },
  {
   "cell_type": "code",
   "execution_count": 7,
   "metadata": {
    "collapsed": false
   },
   "outputs": [
    {
     "name": "stdout",
     "output_type": "stream",
     "text": [
      "[1, 3, 5, 7, 9, 11, 13, 15, 17, 19]\n"
     ]
    }
   ],
   "source": [
    "b=[i for i in range(20) if i % 2 != 0]\n",
    "print(b)"
   ]
  },
  {
   "cell_type": "markdown",
   "metadata": {},
   "source": [
    "# Cours algorithmie comparée"
   ]
  },
  {
   "cell_type": "markdown",
   "metadata": {},
   "source": [
    "## Nombres premiers"
   ]
  },
  {
   "cell_type": "code",
   "execution_count": 8,
   "metadata": {
    "collapsed": true
   },
   "outputs": [],
   "source": [
    "def isprime(startnumber):\n",
    "    startnumber*=1.0\n",
    "    prime = True\n",
    "    for divisor in range(2,startnumber**0.5+1):\n",
    "        if startnumber/divisor==int(startnumber/divisor):\n",
    "            prime=False\n",
    "    return prime"
   ]
  },
  {
   "cell_type": "markdown",
   "metadata": {},
   "source": [
    "On peux simplifier en enlevant la variable locale prime, et en se rappellant que Ptyhon est dynamique"
   ]
  },
  {
   "cell_type": "code",
   "execution_count": 9,
   "metadata": {
    "collapsed": true
   },
   "outputs": [],
   "source": [
    "def isprime(test_number):\n",
    "    for divisor in range(2,int(test_number**0.5)+1):\n",
    "        if test_number/divisor==int(test_number/divisor):\n",
    "            return False\n",
    "    return True"
   ]
  },
  {
   "cell_type": "code",
   "execution_count": 10,
   "metadata": {
    "collapsed": false
   },
   "outputs": [
    {
     "data": {
      "text/plain": [
       "True"
      ]
     },
     "execution_count": 10,
     "metadata": {},
     "output_type": "execute_result"
    }
   ],
   "source": [
    "isprime(7)"
   ]
  },
  {
   "cell_type": "markdown",
   "metadata": {},
   "source": [
    "On remarque que cet algorithme est itératif, il implique un test systematique sur *TOUS* les entiers compris entre 2 et l'entier arrondi supérieur de la racine carrée de *test_number*, on dit par exemple que cet algoritme utilise un espace asymptotique en : $$\\mathcal{O}\\Big(\\sqrt{n}\\Big)$$\n",
    "C'est la notation de LANDAU"
   ]
  },
  {
   "cell_type": "code",
   "execution_count": 11,
   "metadata": {
    "collapsed": false
   },
   "outputs": [
    {
     "name": "stdout",
     "output_type": "stream",
     "text": [
      "2 3 5 7 11 13 17 19 23 29 31 37 41 43 47 53 59 61 67 71 73 79 83 89 97 "
     ]
    }
   ],
   "source": [
    "for a in range(2,100):\n",
    "    if isprime(a):\n",
    "        print(a,end=\" \")"
   ]
  },
  {
   "cell_type": "markdown",
   "metadata": {},
   "source": [
    "Nous avons déja vu un algorithme qui permettait de trouver le plus gran facteur pemier dans un nombre quelconque :"
   ]
  },
  {
   "cell_type": "code",
   "execution_count": 12,
   "metadata": {
    "collapsed": true
   },
   "outputs": [],
   "source": [
    "def largest_prime_factor(n):\n",
    "    i = 2\n",
    "    while i * i <= n:\n",
    "        if n % i:\n",
    "            i += 1\n",
    "        else:\n",
    "            n //= i\n",
    "    return n"
   ]
  },
  {
   "cell_type": "code",
   "execution_count": 13,
   "metadata": {
    "collapsed": false
   },
   "outputs": [
    {
     "data": {
      "text/plain": [
       "97"
      ]
     },
     "execution_count": 13,
     "metadata": {},
     "output_type": "execute_result"
    }
   ],
   "source": [
    "largest_prime_factor(97)"
   ]
  },
  {
   "cell_type": "markdown",
   "metadata": {},
   "source": [
    "Nous allons proposer un algorithme qui décompose les entiers en une liste de nombre premiers...\n",
    "$$100=2*2*5*5$$"
   ]
  },
  {
   "cell_type": "code",
   "execution_count": 14,
   "metadata": {
    "collapsed": false
   },
   "outputs": [
    {
     "name": "stdout",
     "output_type": "stream",
     "text": [
      "[2, 2, 5, 5]\n"
     ]
    }
   ],
   "source": [
    "Ma_decomposition=[]\n",
    "it_1 = largest_prime_factor(100)\n",
    "Ma_decomposition.append(int(it_1))\n",
    "it_2 = largest_prime_factor(100/it_1)\n",
    "Ma_decomposition.append(int(it_2))\n",
    "it_3 = largest_prime_factor(100/(it_1*it_2))\n",
    "Ma_decomposition.append(int(it_3))\n",
    "it_4 = largest_prime_factor(100/(it_1*it_2*it_3))\n",
    "Ma_decomposition.append(int(it_4))\n",
    "\n",
    "Ma_decomposition.reverse()\n",
    "print(Ma_decomposition)"
   ]
  },
  {
   "cell_type": "code",
   "execution_count": 15,
   "metadata": {
    "collapsed": false
   },
   "outputs": [
    {
     "name": "stdout",
     "output_type": "stream",
     "text": [
      "[3, 3]\n"
     ]
    }
   ],
   "source": [
    "Ma_decomposition=[]\n",
    "nombre_a_factoriser=9\n",
    "\n",
    "it=largest_prime_factor(nombre_a_factoriser)\n",
    "Ma_decomposition.append(int(it))\n",
    "\n",
    "while it < nombre_a_factoriser:\n",
    "    it1 = largest_prime_factor(nombre_a_factoriser/it)\n",
    "    Ma_decomposition.append(int(it1))\n",
    "    it *= it1\n",
    "\n",
    "Ma_decomposition.reverse()\n",
    "print(Ma_decomposition)"
   ]
  },
  {
   "cell_type": "code",
   "execution_count": 16,
   "metadata": {
    "collapsed": false
   },
   "outputs": [
    {
     "name": "stdout",
     "output_type": "stream",
     "text": [
      "9\n"
     ]
    }
   ],
   "source": [
    "resultat = 1\n",
    "for it in Ma_decomposition: resultat *= it\n",
    "print(resultat)"
   ]
  },
  {
   "cell_type": "code",
   "execution_count": 17,
   "metadata": {
    "collapsed": false
   },
   "outputs": [],
   "source": [
    "def liste_decomposition(nombre_a_factoriser):\n",
    "    Ma_decomposition=[]\n",
    "    it=0\n",
    "    if nombre_a_factoriser != 2:\n",
    "        it=largest_prime_factor(nombre_a_factoriser)\n",
    "        Ma_decomposition.append(int(it))\n",
    "        while it < nombre_a_factoriser:\n",
    "            it1 = largest_prime_factor(nombre_a_factoriser/it)\n",
    "            Ma_decomposition.append(int(it1))\n",
    "            it *= it1\n",
    "        Ma_decomposition.reverse()\n",
    "        \n",
    "        return Ma_decomposition\n",
    "    else:\n",
    "        Ma_decomposition=[2]\n",
    "        return Ma_decomposition\n"
   ]
  },
  {
   "cell_type": "code",
   "execution_count": 18,
   "metadata": {
    "collapsed": false
   },
   "outputs": [
    {
     "data": {
      "text/plain": [
       "[2, 2, 5, 5]"
      ]
     },
     "execution_count": 18,
     "metadata": {},
     "output_type": "execute_result"
    }
   ],
   "source": [
    "liste_decomposition(100)"
   ]
  },
  {
   "cell_type": "markdown",
   "metadata": {},
   "source": [
    "## Complexité\n",
    "\n",
    "La complexité d'un algorithme est déterminée par le nombre d'opérations nécessaires pour arriver au résultat.\n",
    "Elle permet de déterminer le temps que mettra un algorithme à s'exécuter, et plus précisément sa dépendance par rapport à la taille des données.\n",
    "\n",
    "**Elle est indépendante de l'ordinateur utilisée.**\n",
    "### Motivations\n",
    "En algorithmique comme en programation, on aborde les questions suivantes afin d'acprecier la validité et la qualité d'un argorithme ou d'un programme:\n",
    ">- Preuve de terminaison : l'execution s'achève et l'algorithme se termine en un nombre fini d'étapes)\n",
    ">- Efficience : l'algorithme réalise bien ce pourquoi il est conçu\n",
    ">- Spécification complète : de même que les hypothèses d'un énoncé ou le domaine de définition d'une fonction sont clairement définis, les étapes et instructions qui composent l'algorithme sont toutes parfaitement déterminées, par leur nature et par les données sur lesquelles elles s'appliquent.\n",
    "\n",
    "\n",
    "### Que mesure t'on ? \n",
    "Mesurer la complexité et l'efficacité d'un programme exige de se doter de protocoles et outils permettant d'établir des comparaisons, entre algorithmes d'une part, et entre différentes programmation d'autre part."
   ]
  },
  {
   "cell_type": "code",
   "execution_count": 19,
   "metadata": {
    "collapsed": false
   },
   "outputs": [],
   "source": [
    "from time import clock\n",
    "\n",
    "def duree(fonction, n=100):\n",
    "    debut = clock()\n",
    "    fonction(n)\n",
    "    fin = clock()\n",
    "    return fin - debut\n",
    "\n",
    "def temps_moyen(f, n):\n",
    "    total_time=0\n",
    "    for it in range(10):\n",
    "        total_time += duree(f, n)\n",
    "    return total_time/10\n",
    "\n",
    "#On se rappelle du cours 10 où l'on a fait quelque chose de semblable"
   ]
  },
  {
   "cell_type": "code",
   "execution_count": 20,
   "metadata": {
    "collapsed": true
   },
   "outputs": [],
   "source": [
    "def somme_1(n):\n",
    "    \"\"\"\n",
    "    Methode brutale en O(n)\n",
    "    pour calculer la somme des n premiers entiers\n",
    "    \"\"\"\n",
    "    for it in range(n+1):\n",
    "        n += it \n",
    "    return n"
   ]
  },
  {
   "cell_type": "code",
   "execution_count": 21,
   "metadata": {
    "collapsed": true
   },
   "outputs": [],
   "source": [
    "def somme_a(n):\n",
    "    \"\"\"\n",
    "    Methode élégante et analytique en O(1)\n",
    "    pour calculer la somme des n premiers entiers\n",
    "    \"\"\"\n",
    "    return n*(n+1)//2"
   ]
  },
  {
   "cell_type": "code",
   "execution_count": 22,
   "metadata": {
    "collapsed": false
   },
   "outputs": [
    {
     "name": "stdout",
     "output_type": "stream",
     "text": [
      "La durée en µs du calcul des 1000 premier entiers est  2225µs par methode balaise \n",
      "La durée en µs du calcul des 1000 premier entiers est  23µs par methode analytique \n"
     ]
    }
   ],
   "source": [
    "nombre_sup = 1000\n",
    "print(\"La durée en µs du calcul des {1} premier entiers est {0: 1.0f}µs par methode balaise \".format(10e6*temps_moyen(somme_1, nombre_sup),nombre_sup))\n",
    "print(\"La durée en µs du calcul des {1} premier entiers est {0: 1.0f}µs par methode analytique \".format(10e6*temps_moyen(somme_a, nombre_sup),nombre_sup))"
   ]
  },
  {
   "cell_type": "markdown",
   "metadata": {},
   "source": [
    "Les deux fonctions ci-dessus possèdent des complexités en :\n",
    "\n",
    "- $\\mathcal{O}(n)$ pour somme_1 (on exécute n additions)\n",
    "- $\\mathcal{O}(1)$ pour somme_a (on exécute 3 opérations, quelque soit n)\n",
    "\n",
    "## Mesure de la complexité\n",
    "\n",
    "Ici la complexité se calcule par rapport au terme maximum de la suite que l'on veut caculer. Elle peut se calculer par rapport à différentes valeurs, suivant ce que l'on veut calculer, mais toujours par rapport à une grandeur qui caractérise la complexité du calcul / sa difficulté, par exemple :\n",
    "\n",
    ">- la taille d'une liste (très fréquent)\n",
    ">- une précision (ou son inverse)\n",
    ">- la valeur d'un nombre\n",
    ">- la dimension d'une matrice (son nombre d'élément où le plus grand nombre entre son nombre de ligne et son nombre de colonnes ??)\n",
    ">- le nombre de décimale de $\\pi$ que l'on souhaite calculer.\n",
    ">- etc ...\n",
    "\n",
    "## Complexité et temps de calcul\n",
    "\n",
    "La complexité ne donne pas le temps de calcul ! Celui-ci dépend du type d'opérations que vous souhaitez effectuer, de la puissance de votre machine, du langage, etc ...\n",
    "\n",
    "A noter que la puissance actuelle des ordinateurs fait que vous n'êtes pas forcément sensibilisé à cette notion, car on peut avoir l'impression que tout est \"instantané\" Par exemple en python, pour des listes de 10000, voire 100000 éléments toute opération, pas trop compliquée, sera faite instantanément.\n",
    "\n",
    "Pour pouvoir réfléchir de façon plus poussée qu'un simple chronométrage de temps d'exécution, on a besoin de s'abstraire des éléments matériels.\n",
    "\n",
    "La complexité est propre à l'algorithme, et non pas au programme (il faut toutefois faire attention que l'implémentation de l'algorithme est correcte)."
   ]
  },
  {
   "cell_type": "markdown",
   "metadata": {},
   "source": [
    "## La rêgle génerale est que les fonctions 'natives' sont mieux optimisées que les fonctions 'maison'"
   ]
  },
  {
   "cell_type": "code",
   "execution_count": 23,
   "metadata": {
    "collapsed": false
   },
   "outputs": [
    {
     "name": "stdout",
     "output_type": "stream",
     "text": [
      "Test de la fonction 'min' dans des listes contenant entre 100 et 10000 élements\n",
      "100        => temps moyen :   8.4 µs\n",
      "1000       => temps moyen :   58.3 µs\n",
      "10000      => temps moyen :   623.1 µs\n",
      "Test de la fonction 'minimum' dans des listes contenant entre 100 et 10000 élements\n",
      "100        => temps moyen :   20.1 µs\n",
      "1000       => temps moyen :   200.8 µs\n",
      "10000      => temps moyen :   2061.3 µs\n"
     ]
    }
   ],
   "source": [
    "import random\n",
    "def get_r_liste(n):\n",
    "    liste = list(range(n))\n",
    "    random.shuffle(liste)\n",
    "    return liste\n",
    "\n",
    "def minimum(l):\n",
    "    mini = l[0]\n",
    "    for it in range(len(l)):\n",
    "        if l[it] < mini:\n",
    "            mini = l[it]\n",
    "    return mini\n",
    "\n",
    "print(\"Test de la fonction 'min' dans des listes contenant entre 100 et 10000 élements\")\n",
    "for it in range(2,5):\n",
    "    l = get_r_liste(10**it)\n",
    "    print( '{0: <10}'.format(10**it), \"=> temps moyen : \",  '{0: 1.1f} µs'.format(1e6*temps_moyen(min, l)))\n",
    "\n",
    "print(\"Test de la fonction 'minimum' dans des listes contenant entre 100 et 10000 élements\")    \n",
    "for it in range(2,5):\n",
    "    l = get_r_liste(10**it)\n",
    "    print( '{0: <10}'.format(10**it), \"=> temps moyen : \", '{0: 1.1f} µs'.format(1e6*temps_moyen(minimum, l)))"
   ]
  },
  {
   "cell_type": "markdown",
   "metadata": {},
   "source": [
    "## La comparaison de des fonctions 'natives' et des opérateurs prouve que les opérateurs sont plus rapides"
   ]
  },
  {
   "cell_type": "code",
   "execution_count": 24,
   "metadata": {
    "collapsed": false
   },
   "outputs": [
    {
     "name": "stdout",
     "output_type": "stream",
     "text": [
      "comparaison de la recherche sequentielle de tous les premiers entre 2**15 et 2**20\n",
      "Methode brutale en O(n)\n",
      "32768         => temps moyen :   11761.2 µs\n",
      "65536         => temps moyen :   26047.2 µs\n",
      "131072        => temps moyen :   54398.7 µs\n",
      "262144        => temps moyen :   110757.7 µs\n",
      "524288        => temps moyen :   223902.1 µs\n",
      "Methode fine en O(sqrt(n))\n",
      "32768         => temps moyen :   63.5 µs\n",
      "65536         => temps moyen :   78.9 µs\n",
      "131072        => temps moyen :   364.0 µs\n",
      "262144        => temps moyen :   172.9 µs\n",
      "524288        => temps moyen :   327.5 µs\n",
      "Methode implicant l'appel à une fonction int\n",
      "32768         => temps moyen :   168.3 µs\n",
      "65536         => temps moyen :   224.3 µs\n",
      "131072        => temps moyen :   832.0 µs\n",
      "262144        => temps moyen :   465.4 µs\n",
      "524288        => temps moyen :   806.9 µs\n"
     ]
    }
   ],
   "source": [
    "def est_premier_1(n):\n",
    "    if n < 2:\n",
    "        return False\n",
    "    for it in range(2,n):\n",
    "        if n % it == 0:\n",
    "            return False\n",
    "    return True\n",
    "\n",
    "def est_premier_2(n):\n",
    "    if n < 2:\n",
    "        return False\n",
    "    for it in range(2,int(n**0.5)+2):\n",
    "        if n % it == 0:\n",
    "            return False\n",
    "    return True\n",
    "\n",
    "def isprime(test_number):\n",
    "    for divisor in range(2,int(test_number**0.5)+1):\n",
    "        if test_number/divisor==int(test_number/divisor):\n",
    "            return False\n",
    "    return True\n",
    "\n",
    "def trouve_premier_1(n):\n",
    "    while not est_premier_1(n):\n",
    "        n += 1\n",
    "    return n\n",
    "\n",
    "def trouve_premier_2(n):\n",
    "    while not est_premier_2(n):\n",
    "        n += 1\n",
    "    return n\n",
    "\n",
    "def trouve_premier_3(n):\n",
    "    while not isprime(n):\n",
    "        n += 1\n",
    "    return n\n",
    "\n",
    "print(\"comparaison de la recherche sequentielle de tous les premiers entre 2**15 et 2**20\")\n",
    "print(\"Methode brutale en O(n)\")\n",
    "for it in range(15,20):\n",
    "    print( '{0: <13}'.format(2**it), \"=> temps moyen : \", \\\n",
    "          '{0: 1.1f} µs'.format(1e6*temps_moyen(trouve_premier_1, 2**it)))\n",
    "    \n",
    "print(\"Methode fine en O(sqrt(n))\")\n",
    "for it in range(15,20):\n",
    "    print( '{0: <13}'.format(2**it), \"=> temps moyen : \", \\\n",
    "          '{0: 1.1f} µs'.format(1e6*temps_moyen(trouve_premier_2, 2**it)))\n",
    "    \n",
    "print(\"Methode implicant l'appel à une fonction int\")\n",
    "for it in range(15,20):\n",
    "    print( '{0: <13}'.format(2**it), \"=> temps moyen : \", \\\n",
    "          '{0: 1.1f} µs'.format(1e6*temps_moyen(trouve_premier_3, 2**it)))\n",
    "    "
   ]
  },
  {
   "cell_type": "markdown",
   "metadata": {},
   "source": [
    "## Conclusion\n",
    "Les grandes familles de complexités sont les suivantes :\n",
    "\n",
    "- $\\mathcal{O}(1)$        => complexité en temps constant\n",
    "- $\\mathcal{O}(log(n))$   => complexité logarithmique\n",
    "- $\\mathcal{O}(n)$        => complexité en temps linéaire.\n",
    "- $\\mathcal{O}(n*log(n))$ => complexité en temps quasi-linéaire.\n",
    "- $\\mathcal{O}(n^p)$      => complexité polynomiale\n",
    "- $\\mathcal{O}(e^n)$      => complexité exponentielle\n",
    "- $\\mathcal{O}(n!)$       => complexité factorielle\n",
    "\n",
    "Une grande partie de l'informatique théorique cherche à caractériser les problèmes, et c'est aussi un problème cruciale en informatique industrielle. En automatique, la question de l'accès aux données des capteurs, où la prises en compte des signaux des consignes peu rendre un automate complettement instable si ce problème n'a pas été correctement résolu."
   ]
  }
 ],
 "metadata": {
  "kernelspec": {
   "display_name": "Python [Root]",
   "language": "python",
   "name": "Python [Root]"
  },
  "language_info": {
   "codemirror_mode": {
    "name": "ipython",
    "version": 3
   },
   "file_extension": ".py",
   "mimetype": "text/x-python",
   "name": "python",
   "nbconvert_exporter": "python",
   "pygments_lexer": "ipython3",
   "version": "3.5.1"
  }
 },
 "nbformat": 4,
 "nbformat_minor": 0
}
